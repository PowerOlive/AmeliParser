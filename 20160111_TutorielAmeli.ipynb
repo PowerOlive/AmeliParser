{
 "cells": [
  {
   "cell_type": "markdown",
   "metadata": {},
   "source": [
    "Dans cette note, nous allons détailler les fonctionnalités d'un module qui permet d'extraire des informations de la base de données du site [ameli-direct](http://ameli-direct.ameli.fr)."
   ]
  },
  {
   "cell_type": "markdown",
   "metadata": {},
   "source": [
    "# Fonctionnalités "
   ]
  },
  {
   "cell_type": "markdown",
   "metadata": {},
   "source": [
    "Le module `new_parser` permet de faire deux choses :\n",
    "\n",
    "- faire une requête simple : une profession médicale pour un code postal\n",
    "- faire une requête complex : une profession médicale pour une liste de codes postaux\n",
    "\n",
    "Les fonctions qui permettent d'y accéder sont les suivantes :\n",
    "\n",
    "- `new_parser.make_single_query`\n",
    "- `new_parser.make_multiple_query`\n",
    "\n",
    "On peut regarder l'aide associée à ces fonctions pour se faire une idée des arguments à utiliser pour les appeler :"
   ]
  },
  {
   "cell_type": "code",
   "execution_count": 2,
   "metadata": {
    "collapsed": true
   },
   "outputs": [],
   "source": [
    "import new_parser"
   ]
  },
  {
   "cell_type": "code",
   "execution_count": 3,
   "metadata": {
    "collapsed": false
   },
   "outputs": [
    {
     "name": "stdout",
     "output_type": "stream",
     "text": [
      "Help on function make_single_query in module new_parser:\n",
      "\n",
      "make_single_query(specialty, location)\n",
      "    queries Ameli for a given specialty of doctors in a given location\n",
      "    returns a pandas dataframe or None if no doctors have been found\n",
      "\n"
     ]
    }
   ],
   "source": [
    "help(new_parser.make_single_query)"
   ]
  },
  {
   "cell_type": "code",
   "execution_count": 4,
   "metadata": {
    "collapsed": false
   },
   "outputs": [
    {
     "name": "stdout",
     "output_type": "stream",
     "text": [
      "Help on function make_multiple_query in module new_parser:\n",
      "\n",
      "make_multiple_query(specialty, locations)\n",
      "    queries Ameli for a given specialty of doctors in locations, which is a list\n",
      "    of postcodes\n",
      "\n"
     ]
    }
   ],
   "source": [
    "help(new_parser.make_multiple_query)"
   ]
  },
  {
   "cell_type": "markdown",
   "metadata": {},
   "source": [
    "Les données retournées le sont sous forme d'une `dataframe`. C'est une structure de donnée riche, similaire à un tableau Excel. Par exemple :"
   ]
  },
  {
   "cell_type": "code",
   "execution_count": null,
   "metadata": {
    "collapsed": false
   },
   "outputs": [],
   "source": [
    "new_parser.make_single_query('Ophtalmologiste', '75014')"
   ]
  },
  {
   "cell_type": "markdown",
   "metadata": {},
   "source": [
    "# Les ophtalmologistes à Paris "
   ]
  },
  {
   "cell_type": "markdown",
   "metadata": {},
   "source": [
    "Pour faire une démonstration des possibilités offertes, "
   ]
  }
 ],
 "metadata": {
  "kernelspec": {
   "display_name": "Python 3",
   "language": "python",
   "name": "python3"
  },
  "language_info": {
   "codemirror_mode": {
    "name": "ipython",
    "version": 3
   },
   "file_extension": ".py",
   "mimetype": "text/x-python",
   "name": "python",
   "nbconvert_exporter": "python",
   "pygments_lexer": "ipython3",
   "version": "3.4.3"
  }
 },
 "nbformat": 4,
 "nbformat_minor": 0
}
