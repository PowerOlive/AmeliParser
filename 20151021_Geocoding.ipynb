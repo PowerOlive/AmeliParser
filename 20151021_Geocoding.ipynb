{
 "cells": [
  {
   "cell_type": "markdown",
   "metadata": {},
   "source": [
    "Documentation is here: [http://adresse.data.gouv.fr/api/](http://adresse.data.gouv.fr/api/)."
   ]
  },
  {
   "cell_type": "code",
   "execution_count": 1,
   "metadata": {
    "collapsed": true
   },
   "outputs": [],
   "source": [
    "import requests"
   ]
  },
  {
   "cell_type": "markdown",
   "metadata": {},
   "source": [
    "# Simple request"
   ]
  },
  {
   "cell_type": "code",
   "execution_count": 4,
   "metadata": {
    "collapsed": true
   },
   "outputs": [],
   "source": [
    "payload = {'q': '8 bd du port'}"
   ]
  },
  {
   "cell_type": "code",
   "execution_count": 5,
   "metadata": {
    "collapsed": true
   },
   "outputs": [],
   "source": [
    "r = requests.get('http://api-adresse.data.gouv.fr/search/',\n",
    "                params=payload)"
   ]
  },
  {
   "cell_type": "code",
   "execution_count": 6,
   "metadata": {
    "collapsed": false
   },
   "outputs": [
    {
     "data": {
      "text/plain": [
       "<Response [200]>"
      ]
     },
     "execution_count": 6,
     "metadata": {},
     "output_type": "execute_result"
    }
   ],
   "source": [
    "r"
   ]
  },
  {
   "cell_type": "code",
   "execution_count": 10,
   "metadata": {
    "collapsed": false
   },
   "outputs": [
    {
     "data": {
      "text/plain": [
       "{u'attribution': u'BAN',\n",
       " u'features': [{u'geometry': {u'coordinates': [2.290084, 49.897443],\n",
       "    u'type': u'Point'},\n",
       "   u'properties': {u'city': u'Amiens',\n",
       "    u'citycode': u'80021',\n",
       "    u'context': u'80, Somme, Picardie',\n",
       "    u'housenumber': u'8',\n",
       "    u'id': u'ADRNIVX_0000000260875032',\n",
       "    u'label': u'8 Boulevard du Port 80000 Amiens',\n",
       "    u'name': u'8 Boulevard du Port',\n",
       "    u'postcode': u'80000',\n",
       "    u'score': 0.41438421052631574,\n",
       "    u'type': u'housenumber'},\n",
       "   u'type': u'Feature'},\n",
       "  {u'geometry': {u'coordinates': [2.06337, 49.031299], u'type': u'Point'},\n",
       "   u'properties': {u'city': u'Cergy',\n",
       "    u'citycode': u'95127',\n",
       "    u'context': u\"95, Val-d'Oise, \\xcele-de-France\",\n",
       "    u'housenumber': u'8',\n",
       "    u'id': u'ADRNIVX_0000000350442102',\n",
       "    u'label': u'8 Boulevard du Port 95000 Cergy',\n",
       "    u'name': u'8 Boulevard du Port',\n",
       "    u'postcode': u'95000',\n",
       "    u'score': 0.4010387559808612,\n",
       "    u'type': u'housenumber'},\n",
       "   u'type': u'Feature'},\n",
       "  {u'geometry': {u'coordinates': [3.605884, 43.425225], u'type': u'Point'},\n",
       "   u'properties': {u'city': u'M\\xe8ze',\n",
       "    u'citycode': u'34157',\n",
       "    u'context': u'34, H\\xe9rault, Languedoc-Roussillon',\n",
       "    u'housenumber': u'8',\n",
       "    u'id': u'ADRNIVX_0000000284423783',\n",
       "    u'label': u'8 Boulevard du Port 34140 M\\xe8ze',\n",
       "    u'name': u'8 Boulevard du Port',\n",
       "    u'postcode': u'34140',\n",
       "    u'score': 0.40070239234449756,\n",
       "    u'type': u'housenumber'},\n",
       "   u'type': u'Feature'},\n",
       "  {u'geometry': {u'coordinates': [-2.34098, 47.258819], u'type': u'Point'},\n",
       "   u'properties': {u'city': u'Pornichet',\n",
       "    u'citycode': u'44132',\n",
       "    u'context': u'44, Loire-Atlantique, Pays de la Loire',\n",
       "    u'housenumber': u'8',\n",
       "    u'id': u'ADRNIVX_0000000280022748',\n",
       "    u'label': u'8 Boulevard du Port 44380 Pornichet',\n",
       "    u'name': u'8 Boulevard du Port',\n",
       "    u'postcode': u'44380',\n",
       "    u'score': 0.38727511961722483,\n",
       "    u'type': u'housenumber'},\n",
       "   u'type': u'Feature'},\n",
       "  {u'geometry': {u'coordinates': [3.036731, 42.79091], u'type': u'Point'},\n",
       "   u'properties': {u'city': u'Le Barcar\\xe8s',\n",
       "    u'citycode': u'66017',\n",
       "    u'context': u'66, Pyr\\xe9n\\xe9es-Orientales, Languedoc-Roussillon',\n",
       "    u'housenumber': u'8',\n",
       "    u'id': u'ADRNIVX_0000000263992135',\n",
       "    u'label': u'8 Boulevard du Port 66420 Le Barcar\\xe8s',\n",
       "    u'name': u'8 Boulevard du Port',\n",
       "    u'postcode': u'66420',\n",
       "    u'score': 0.3870205741626794,\n",
       "    u'type': u'housenumber'},\n",
       "   u'type': u'Feature'}],\n",
       " u'licence': u'ODbL 1.0',\n",
       " u'limit': 5,\n",
       " u'query': u'8 bd du port',\n",
       " u'type': u'FeatureCollection',\n",
       " u'version': u'draft'}"
      ]
     },
     "execution_count": 10,
     "metadata": {},
     "output_type": "execute_result"
    }
   ],
   "source": [
    "r.json()"
   ]
  },
  {
   "cell_type": "markdown",
   "metadata": {},
   "source": [
    "# Limiting the number of results "
   ]
  },
  {
   "cell_type": "code",
   "execution_count": 15,
   "metadata": {
    "collapsed": true
   },
   "outputs": [],
   "source": [
    "payload = {'q': '8 bd du port',\n",
    "          'limit': '1'}"
   ]
  },
  {
   "cell_type": "code",
   "execution_count": 16,
   "metadata": {
    "collapsed": true
   },
   "outputs": [],
   "source": [
    "r = requests.get('http://api-adresse.data.gouv.fr/search/',\n",
    "                params=payload)"
   ]
  },
  {
   "cell_type": "code",
   "execution_count": 17,
   "metadata": {
    "collapsed": false
   },
   "outputs": [
    {
     "data": {
      "text/plain": [
       "{u'attribution': u'BAN',\n",
       " u'features': [{u'geometry': {u'coordinates': [2.290084, 49.897443],\n",
       "    u'type': u'Point'},\n",
       "   u'properties': {u'city': u'Amiens',\n",
       "    u'citycode': u'80021',\n",
       "    u'context': u'80, Somme, Picardie',\n",
       "    u'housenumber': u'8',\n",
       "    u'id': u'ADRNIVX_0000000260875032',\n",
       "    u'label': u'8 Boulevard du Port 80000 Amiens',\n",
       "    u'name': u'8 Boulevard du Port',\n",
       "    u'postcode': u'80000',\n",
       "    u'score': 0.41438421052631574,\n",
       "    u'type': u'housenumber'},\n",
       "   u'type': u'Feature'}],\n",
       " u'licence': u'ODbL 1.0',\n",
       " u'limit': 1,\n",
       " u'query': u'8 bd du port',\n",
       " u'type': u'FeatureCollection',\n",
       " u'version': u'draft'}"
      ]
     },
     "execution_count": 17,
     "metadata": {},
     "output_type": "execute_result"
    }
   ],
   "source": [
    "r.json()"
   ]
  },
  {
   "cell_type": "markdown",
   "metadata": {},
   "source": [
    "# Adding postcode numbers "
   ]
  },
  {
   "cell_type": "code",
   "execution_count": 19,
   "metadata": {
    "collapsed": true
   },
   "outputs": [],
   "source": [
    "payload = {'q': '8 bd du port',\n",
    "          'postcode': '44380'}"
   ]
  },
  {
   "cell_type": "code",
   "execution_count": 20,
   "metadata": {
    "collapsed": true
   },
   "outputs": [],
   "source": [
    "r = requests.get('http://api-adresse.data.gouv.fr/search/',\n",
    "                params=payload)"
   ]
  },
  {
   "cell_type": "code",
   "execution_count": 21,
   "metadata": {
    "collapsed": false
   },
   "outputs": [
    {
     "data": {
      "text/plain": [
       "{u'attribution': u'BAN',\n",
       " u'features': [{u'geometry': {u'coordinates': [-2.34098, 47.258819],\n",
       "    u'type': u'Point'},\n",
       "   u'properties': {u'city': u'Pornichet',\n",
       "    u'citycode': u'44132',\n",
       "    u'context': u'44, Loire-Atlantique, Pays de la Loire',\n",
       "    u'housenumber': u'8',\n",
       "    u'id': u'ADRNIVX_0000000280022748',\n",
       "    u'label': u'8 Boulevard du Port 44380 Pornichet',\n",
       "    u'name': u'8 Boulevard du Port',\n",
       "    u'postcode': u'44380',\n",
       "    u'score': 0.38727511961722483,\n",
       "    u'type': u'housenumber'},\n",
       "   u'type': u'Feature'},\n",
       "  {u'geometry': {u'coordinates': [-2.340957, 47.260245], u'type': u'Point'},\n",
       "   u'properties': {u'city': u'Pornichet',\n",
       "    u'citycode': u'44132',\n",
       "    u'context': u'44, Loire-Atlantique, Pays de la Loire',\n",
       "    u'housenumber': u'8',\n",
       "    u'id': u'ADRNIVX_0000000280022789',\n",
       "    u'label': u'8 Boulevard des Oc\\xe9anides 44380 Pornichet',\n",
       "    u'name': u'8 Boulevard des Oc\\xe9anides',\n",
       "    u'postcode': u'44380',\n",
       "    u'score': 0.15133719008264462,\n",
       "    u'type': u'housenumber'},\n",
       "   u'type': u'Feature'},\n",
       "  {u'geometry': {u'coordinates': [-2.335511, 47.260691], u'type': u'Point'},\n",
       "   u'properties': {u'city': u'Pornichet',\n",
       "    u'citycode': u'44132',\n",
       "    u'context': u'44, Loire-Atlantique, Pays de la Loire',\n",
       "    u'housenumber': u'8',\n",
       "    u'id': u'ADRNIVX_0000000280020059',\n",
       "    u'label': u'8 Boulevard de Saint-Nazaire 44380 Pornichet',\n",
       "    u'name': u'8 Boulevard de Saint-Nazaire',\n",
       "    u'postcode': u'44380',\n",
       "    u'score': 0.14157833655705995,\n",
       "    u'type': u'housenumber'},\n",
       "   u'type': u'Feature'},\n",
       "  {u'geometry': {u'coordinates': [-2.33967, 47.259102], u'type': u'Point'},\n",
       "   u'properties': {u'city': u'Pornichet',\n",
       "    u'citycode': u'44132',\n",
       "    u'context': u'44, Loire-Atlantique, Pays de la Loire',\n",
       "    u'housenumber': u'8',\n",
       "    u'id': u'ADRNIVX_0000000280022798',\n",
       "    u'label': u'8 Boulevard de la R\\xe9publique 44380 Pornichet',\n",
       "    u'name': u'8 Boulevard de la R\\xe9publique',\n",
       "    u'postcode': u'44380',\n",
       "    u'score': 0.14154197292069629,\n",
       "    u'type': u'housenumber'},\n",
       "   u'type': u'Feature'},\n",
       "  {u'geometry': {u'coordinates': [-2.311855, 47.242137], u'type': u'Point'},\n",
       "   u'properties': {u'city': u'Pornichet',\n",
       "    u'citycode': u'44132',\n",
       "    u'context': u'44, Loire-Atlantique, Pays de la Loire',\n",
       "    u'id': u'44132_1030_5ac03f',\n",
       "    u'label': u\"Boulevard de l'Oc\\xe9an 44380 Pornichet\",\n",
       "    u'name': u\"Boulevard de l'Oc\\xe9an\",\n",
       "    u'postcode': u'44380',\n",
       "    u'score': 0.116110199556541,\n",
       "    u'type': u'street'},\n",
       "   u'type': u'Feature'}],\n",
       " u'filters': {u'postcode': u'44380'},\n",
       " u'licence': u'ODbL 1.0',\n",
       " u'limit': 5,\n",
       " u'query': u'8 bd du port',\n",
       " u'type': u'FeatureCollection',\n",
       " u'version': u'draft'}"
      ]
     },
     "execution_count": 21,
     "metadata": {},
     "output_type": "execute_result"
    }
   ],
   "source": [
    "r.json()"
   ]
  },
  {
   "cell_type": "code",
   "execution_count": 35,
   "metadata": {
    "collapsed": false
   },
   "outputs": [
    {
     "data": {
      "text/plain": [
       "[u'8 Boulevard du Port 44380 Pornichet',\n",
       " u'8 Boulevard des Oc\\xe9anides 44380 Pornichet',\n",
       " u'8 Boulevard de Saint-Nazaire 44380 Pornichet',\n",
       " u'8 Boulevard de la R\\xe9publique 44380 Pornichet',\n",
       " u\"Boulevard de l'Oc\\xe9an 44380 Pornichet\"]"
      ]
     },
     "execution_count": 35,
     "metadata": {},
     "output_type": "execute_result"
    }
   ],
   "source": [
    "d = r.json()\n",
    "[d['features'][i]['properties']['label'] for i in range(len(d['features']))]"
   ]
  },
  {
   "cell_type": "code",
   "execution_count": null,
   "metadata": {
    "collapsed": true
   },
   "outputs": [],
   "source": []
  }
 ],
 "metadata": {
  "kernelspec": {
   "display_name": "Python 2",
   "language": "python",
   "name": "python2"
  },
  "language_info": {
   "codemirror_mode": {
    "name": "ipython",
    "version": 2
   },
   "file_extension": ".py",
   "mimetype": "text/x-python",
   "name": "python",
   "nbconvert_exporter": "python",
   "pygments_lexer": "ipython2",
   "version": "2.7.8"
  }
 },
 "nbformat": 4,
 "nbformat_minor": 0
}
