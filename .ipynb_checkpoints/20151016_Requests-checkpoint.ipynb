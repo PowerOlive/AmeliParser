{
 "cells": [
  {
   "cell_type": "markdown",
   "metadata": {},
   "source": [
    "# Scraping the information "
   ]
  },
  {
   "cell_type": "markdown",
   "metadata": {},
   "source": [
    "How?\n",
    "\n",
    "- init session (gives you the cookies, the link to call later)\n",
    "- init search with the right parameters\n",
    "- get post response"
   ]
  },
  {
   "cell_type": "markdown",
   "metadata": {},
   "source": [
    "## First request  (using a session)"
   ]
  },
  {
   "cell_type": "markdown",
   "metadata": {},
   "source": [
    "After watching this video, I realized he uses a [Session](http://docs.python-requests.org/en/v1.0.4/user/advanced/). Let's try this."
   ]
  },
  {
   "cell_type": "code",
   "execution_count": 1,
   "metadata": {
    "collapsed": true
   },
   "outputs": [],
   "source": [
    "import requests"
   ]
  },
  {
   "cell_type": "code",
   "execution_count": 2,
   "metadata": {
    "collapsed": false
   },
   "outputs": [
    {
     "name": "stdout",
     "output_type": "stream",
     "text": [
      "{\n",
      "  \"cookies\": {\n",
      "    \"sessioncookie\": \"123456789\"\n",
      "  }\n",
      "}\n",
      "\n"
     ]
    }
   ],
   "source": [
    "s = requests.Session()\n",
    "\n",
    "s.get('http://httpbin.org/cookies/set/sessioncookie/123456789')\n",
    "r = s.get(\"http://httpbin.org/cookies\")\n",
    "\n",
    "print(r.text)\n",
    "# '{\"cookies\": {\"sessioncookie\": \"123456789\"}}'"
   ]
  },
  {
   "cell_type": "markdown",
   "metadata": {},
   "source": [
    "What if we do this with ameli?"
   ]
  },
  {
   "cell_type": "code",
   "execution_count": 144,
   "metadata": {
    "collapsed": false
   },
   "outputs": [
    {
     "data": {
      "text/plain": [
       "<Response [200]>"
      ]
     },
     "execution_count": 144,
     "metadata": {},
     "output_type": "execute_result"
    }
   ],
   "source": [
    "s = requests.Session()\n",
    "\n",
    "r = s.get('http://ameli-direct.ameli.fr')\n",
    "\n",
    "r"
   ]
  },
  {
   "cell_type": "markdown",
   "metadata": {},
   "source": [
    "## Getting the link for the second request"
   ]
  },
  {
   "cell_type": "markdown",
   "metadata": {},
   "source": [
    "Getting the interesting link:"
   ]
  },
  {
   "cell_type": "code",
   "execution_count": 145,
   "metadata": {
    "collapsed": true
   },
   "outputs": [],
   "source": [
    "test_string = \"\"\"<div id=\"centresite\">\n",
    "        <form action=\"/recherche-ceca2094e7dec344ca69beca17f092d2.html\" method=\"post\">\n",
    "            <div class=\"choix-ps-es\">\n",
    "\t<h2>Je recherche :</h2>\"\"\""
   ]
  },
  {
   "cell_type": "code",
   "execution_count": 146,
   "metadata": {
    "collapsed": true
   },
   "outputs": [],
   "source": [
    "import re"
   ]
  },
  {
   "cell_type": "code",
   "execution_count": 147,
   "metadata": {
    "collapsed": false
   },
   "outputs": [],
   "source": [
    "p = re.compile('<form action=\"([\\w\\d/.-]+)\" method=\"post\">')"
   ]
  },
  {
   "cell_type": "code",
   "execution_count": 148,
   "metadata": {
    "collapsed": false
   },
   "outputs": [
    {
     "data": {
      "text/plain": [
       "['/recherche-ceca2094e7dec344ca69beca17f092d2.html']"
      ]
     },
     "execution_count": 148,
     "metadata": {},
     "output_type": "execute_result"
    }
   ],
   "source": [
    "p.findall(test_string)"
   ]
  },
  {
   "cell_type": "code",
   "execution_count": 149,
   "metadata": {
    "collapsed": false
   },
   "outputs": [
    {
     "data": {
      "text/plain": [
       "u'/recherche-f37e8ccd9299ffd0512f6451db3292f5.html'"
      ]
     },
     "execution_count": 149,
     "metadata": {},
     "output_type": "execute_result"
    }
   ],
   "source": [
    "suburl = p.findall(r.text)[0]\n",
    "suburl"
   ]
  },
  {
   "cell_type": "markdown",
   "metadata": {},
   "source": [
    "Good, we have an entry point into the system: the url we need to find."
   ]
  },
  {
   "cell_type": "markdown",
   "metadata": {},
   "source": [
    "It also looks like we have cookies!"
   ]
  },
  {
   "cell_type": "code",
   "execution_count": 150,
   "metadata": {
    "collapsed": false
   },
   "outputs": [
    {
     "data": {
      "text/plain": [
       "<<class 'requests.cookies.RequestsCookieJar'>[Cookie(version=0, name='AmeliDirectPersist', value='359719223.20480.0000', port=None, port_specified=False, domain='ameli-direct.ameli.fr', domain_specified=False, domain_initial_dot=False, path='/', path_specified=True, secure=False, expires=None, discard=True, comment=None, comment_url=None, rest={}, rfc2109=False), Cookie(version=0, name='TS01b76c1f', value='0139dce0d28a9787802f747bcf08b6311fb05ccb4900b3de48d0dd0cef0edb971ad476c5f5d562a2319762d297a76ee857a78f2b93d3e5edc3568d2fa9675da7728b624e5a', port=None, port_specified=False, domain='ameli-direct.ameli.fr', domain_specified=False, domain_initial_dot=False, path='/', path_specified=True, secure=False, expires=None, discard=True, comment=None, comment_url=None, rest={}, rfc2109=False), Cookie(version=0, name='infosoins', value='qbm8t56jclinm2kcdduqs51dc1', port=None, port_specified=False, domain='ameli-direct.ameli.fr', domain_specified=False, domain_initial_dot=False, path='/', path_specified=True, secure=False, expires=1445287024, discard=False, comment=None, comment_url=None, rest={}, rfc2109=False)]>"
      ]
     },
     "execution_count": 150,
     "metadata": {},
     "output_type": "execute_result"
    }
   ],
   "source": [
    "r.cookies"
   ]
  },
  {
   "cell_type": "markdown",
   "metadata": {},
   "source": [
    "## Making the second request "
   ]
  },
  {
   "cell_type": "markdown",
   "metadata": {},
   "source": [
    "Now, which request do we have to complete to finish this? We primarily need the sort of payload we want to ask the site for:"
   ]
  },
  {
   "cell_type": "code",
   "execution_count": 151,
   "metadata": {
    "collapsed": false
   },
   "outputs": [],
   "source": [
    "headers = {\"User-Agent\":\"Mozilla/5.0 (Windows NT 6.1; WOW64) AppleWebKit/537.36 (KHTML, like Gecko) Chrome/46.0.2490.71 Safari/537.36\"}\n",
    "\n",
    "payload = {\"type\":\"ps\",\n",
    "    \"ps_profession\":\"ophtalmologiste\",\n",
    "    \"ps_localisation\":\"75014\"}\n",
    "\n",
    "r = s.post(\"http://ameli-direct.ameli.fr\" + suburl, params=payload,\n",
    "          headers=headers)"
   ]
  },
  {
   "cell_type": "code",
   "execution_count": 152,
   "metadata": {
    "collapsed": false
   },
   "outputs": [
    {
     "data": {
      "text/plain": [
       "<Response [200]>"
      ]
     },
     "execution_count": 152,
     "metadata": {},
     "output_type": "execute_result"
    }
   ],
   "source": [
    "r"
   ]
  },
  {
   "cell_type": "code",
   "execution_count": 153,
   "metadata": {
    "collapsed": false
   },
   "outputs": [
    {
     "data": {
      "text/plain": [
       "u'<!DOCTYPE html PUBLIC \"-//W3C//DTD XHTML 1.0 Transitional//EN\" \"http://www.w3.org/TR/xhtml1/DTD/xhtml1-transitional.dtd\"><html xmlns=\"http://www.w3.org/1999/xhtml\" xml:lang=\"fr\">\\n<head>\\n\\t<title>Annuaire sant\\xe9 d\\'ameli.fr : trouver un m\\xe9decin, un h\\xf4pital...</title>\\n\\t<meta name=\"description\" content=\"L\\u2019annuaire sant\\xe9 de l\\u2019Assurance Maladie pour trouver un m\\xe9decin, un kin\\xe9, un h\\xf4pital\\u2026 Tarifs \\u2013 Horaires \\u2013 Sp\\xe9cialit\\xe9s - Localisation\" />\\n\\t<meta http-equiv=\"X-UA-Compatible\" content=\"IE=edge\">\\n<meta http-equiv=\"Content-Type\" content=\"text/html;charset=UTF-8\" />\\n<meta name=\"robots\" content=\"noindex, nofollow\" /><link href=\"/resources_ver/20150826115145/css/print_new.css\" media=\"print\" rel=\"stylesheet\" type=\"text/css\" />\\n<link href=\"/resources_ver/20150826115145/css/jquery.qtip.css\" media=\"screen\" rel=\"stylesheet\" type=\"text/css\" />\\n<link href=\"/resources_ver/20150826115145/css/styles_new.css\" media=\"screen\" rel=\"stylesheet\" type=\"text/css\" />\\n<link href=\"/resources_ver/20150826115145/css/ui-lightness/jquery-ui-1.10.3.custom.min.css\" media=\"all\" rel=\"stylesheet\" type=\"text/css\" />\\n<link href=\"http://fonts.googleapis.com/css?family=Droid+Sans:700,400\" media=\"all\" rel=\"stylesheet\" type=\"text/css\" />\\n<link href=\"/resources_ver/20150826115145/css/geoportail.css\" media=\"all\" rel=\"stylesheet\" type=\"text/css\" />\\n<!--[if IE]> <link href=\"/resources_ver/20150826115145/css/styles_ie_new.css\" media=\"screen\" rel=\"stylesheet\" type=\"text/css\" /><![endif]-->\\n<!--[if IE 7]> <link href=\"/resources_ver/20150826115145/css/styles_ie7.css\" media=\"screen\" rel=\"stylesheet\" type=\"text/css\" /><![endif]--><script type=\"text/javascript\" src=\"/resources_ver/20150826115145/js/jquery-1.10.2.min.js\"></script>\\n<script type=\"text/javascript\" src=\"/resources_ver/20150826115145/js/jquery-ui-1.10.3.custom.min.js\"></script>\\n<script type=\"text/javascript\" src=\"http://api.ign.fr/geoportail/api/js/latest/GeoportalExtended.js\"></script>\\n<script type=\"text/javascript\" src=\"/resources_ver/20150826115145/js/geoportail.utils.js\"></script>\\n<script type=\"text/javascript\" src=\"/resources_ver/20150826115145/js/jquery.popin.40.js\"></script>\\n<script type=\"text/javascript\" src=\"/resources_ver/20150826115145/js/selectmenu.uncompressed.js\"></script>\\n<script type=\"text/javascript\" src=\"/resources_ver/20150826115145/js/jquery.qtip.js\"></script>\\n<script type=\"text/javascript\" src=\"/resources_ver/20150826115145/js/BrowserDetect.js\"></script>\\n<script type=\"text/javascript\" src=\"/resources_ver/20150826115145/js/scripts.uncompressed.js\"></script></head>\\n<body>\\n<div id=\"site\" >\\n\\t<div id=\"entete\">\\n\\t<a href=\"/\" title=\"\"><img class=\"logoam\" alt=\"L\\'Assurance Maladie\" src=\"/resources_ver/20150826115145/images/accueil/logo_am.png\"/></a>\\n\\t<h1><img src=\"/resources_ver/20150826115145/images/accueil/logo_amelidirect.png\" alt=\"Annuaire sant\\xe9\" class=\"logosite\" /></h1>\\n\\t<img src=\"/resources_ver/20150826115145/images/accueil/liner.gif\" alt=\"Je m\\'informe avant de consulter\" class=\"liner\" />\\n\\t <div class=\"encart_haut_ameli\">\\n\\t\\t<div class=\"acces\">\\n\\t\\t\\t<a target=\"_blank\" href=\"https://assure.ameli.fr/\" >Acc\\xe9der \\xe0 mon compte</a>\\n\\t\\t\\t\\t</div>\\n\\t\\t<div class=\"ouvrir\">\\n\\t\\t\\t<a target=\"_blank\" href=\"https://assure.ameli.fr/\">Ouvrir mon compte</a>\\n\\t\\t</div>\\n\\t</div>\\n</div>\\t    \\t<div id=\"site_inner\" >\\n                            \\t\\t<div id=\"filariane\" class=\"ariane\">\\n    \\t\\t\\t<p><span><a href=\"/\">Accueil</a></span> &gt; <span><a href=\"/nouvelle-recherche/professionnels-de-sante.html\">Professionnels de sant\\xe9</a></span> &gt; <span>R\\xe9sultats de la recherche</span></p>\\n    \\t\\t</div>\\n    \\t\\t<div class=\"print-result impression\"><a href=\"?print\" target=\"_blank\">Imprimer la liste de r\\xe9sultats</a></div>\\n<div class=\"clear\"></div>\\n<div class=\"recapitulatif\">\\n\\t<div class=\"recapitulatif-inner\">\\n\\t        \\t<div class=\"infos\">\\n            <div class=\"boutons\">\\n                <a href=\"/modifier_votre_recherche_1.html\">\\n            \\t    <span><span>Modifier votre recherche</span></span>\\n                </a>\\n                <a href=\"/nouvelle-recherche/professionnels-de-sante.html\" class=\"loupe\">\\n                    <span><span>Nouvelle recherche</span></span>\\n                </a>\\n            </div>\\n            <h1>26 r\\xe9sultats correspondent \\xe0 votre recherche</h1>\\n            <ul>\\n            \\t<li>Profession&nbsp;: Ophtalmologiste</li>\\n                <li>Lieu&nbsp;: 75014</li>\\n                            </ul>\\n                        <div class=\"mention\">Dans la liste ci-dessous, ne figurent que les professionnels de sant\\xe9 qui exercent une activit\\xe9 lib\\xe9rale et les centres de sant\\xe9.</div>\\n                    </div>  \\n        <div class=\"carte\"><a href=\"/carte-1-f37e8ccd9299ffd0512f6451db3292f5.html\" class=\"modaleCarteLink\"><img src=\"/resources_ver/20150826115145/images/lien_carte.png\" alt=\"Voir les r\\xe9sultats sur une carte\" /></a></div>\\t\\t<div class=\"clear\"></div>\\n\\t</div>\\n</div>\\n<div class=\"liste-criteres\">\\n\\t    \\t        \\t<div class=\"bloc-critere\">\\n        \\t\\t<div class=\"bloc-haut-critere\"></div>\\n        \\t\\t<a class=\"infos\" href=\"/fenetre-modale-xhr/information_facette_type_honoraires.html\"><img src=\"/resources_ver/20150826115145/images/picto_info.gif\" alt=\"Infos\" /></a>\\n        \\t\\t<h2><img alt=\"Affichez les professionnels de sant\\xe9 selon le type d\\u2019honoraires\" src=\"/resources_ver/20150826115145/images/picto_euro.png\" class=\"picto_facette\">Affichez les professionnels de sant\\xe9 selon le type d\\u2019honoraires</h2>\\n    \\t\\t\\t<ul>\\n        \\t\\t\\t        \\t\\t\\t\\t<li><a href=\"/recherche-facette-1-f37e8ccd9299ffd0512f6451db3292f5/type_honoraires-tarif-sans-depassement.html\">Honoraires sans d\\xe9passement (1)</a></li>        \\t\\t\\t        \\t\\t\\t\\t<li><a href=\"/recherche-facette-1-f37e8ccd9299ffd0512f6451db3292f5/type_honoraires-tarif-libre.html\">Honoraires libres (24)</a></li>        \\t\\t\\t        \\t\\t\\t\\t<li><a href=\"/recherche-facette-1-f37e8ccd9299ffd0512f6451db3292f5/type_honoraires-conventionne.html\">Conventionn\\xe9 (1)</a></li>        \\t\\t\\t        \\t\\t</ul>\\n        \\t\\t<div class=\"bloc-bas-critere\"></div>\\n        \\t</div>\\n    \\t    \\t    \\t\\n        \\t<div class=\"bloc-critere\">\\n        \\t\\t<div class=\"bloc-haut-critere\"></div>\\n        \\t\\t<h2>Affichez les professionnels de sant\\xe9 indiquant leurs horaires</h2>\\n        \\t\\t<ul>\\n\\t    \\t\\t\\t        \\t\\t\\t\\t<li>\\n            \\t\\t\\t\\t<a href=\"/recherche-facette-1-f37e8ccd9299ffd0512f6451db3292f5/horaires-1.html\"><img src=\"/resources_ver/20150826115145/images/picto_horaires.png\" alt=\"\" /><span>Le m\\xe9decin a indiqu\\xe9 ses horaires (1)</span></a>\\n            \\t\\t\\t</li>\\n    \\t\\t\\t\\t\\n    \\t\\t\\t\\t    \\t\\t\\t\\t\\n        \\t\\t</ul>\\n        \\t\\t<div class=\"bloc-bas-critere\"></div>\\n        \\t</div>\\n    \\t    \\t    \\t\\n        \\t<div class=\"bloc-critere\">\\n        \\t\\t<div class=\"bloc-haut-critere\"></div>\\n        \\t\\t<h2>Affichez les professionnels de sant\\xe9 acceptant la carte Vitale</h2>\\n        \\t\\t<ul>\\n        \\t\\t\\t            \\t\\t\\t<li>\\n            \\t\\t\\t\\t<a href=\"/recherche-facette-1-f37e8ccd9299ffd0512f6451db3292f5/carte_vitale-1.html\"><img src=\"/resources_ver/20150826115145/images/picto_cartevitale.png\" alt=\"\" /><span>Avec carte Vitale (17)</span></a>\\n            \\t\\t\\t</li>\\n        \\t\\t\\t        \\t\\t</ul>\\n        \\t\\t<div class=\"bloc-bas-critere\"></div>\\n        \\t</div>\\n    \\t    \\t    \\t\\n    \\t<!-- facette centre des sante -->\\n    \\t    \\t\\n        \\t<div class=\"bloc-critere\">\\n        \\t\\t<div class=\"bloc-haut-critere\"></div>\\n        \\t\\t<h2>Affichez les centres de sant\\xe9</h2>\\n        \\t\\t<ul>\\n        \\t\\t\\t            \\t\\t\\t<li>\\n            \\t\\t\\t\\t<a href=\"/recherche-facette-1-f37e8ccd9299ffd0512f6451db3292f5/categorie-CENTRE_DE_SANTE.html\"><img src=\"/resources_ver/20150826115145/images/picto_facette_centre_sante.png\" alt=\"\" /><span>Centre de sant\\xe9 (1)</span></a>\\n            \\t\\t\\t</li>\\n        \\t\\t\\t        \\t\\t</ul>\\n        \\t\\t<div class=\"bloc-bas-critere\"></div>\\n        \\t</div>\\n    \\t    \\t\\n    \\t\\n    </div>\\n<div class=\"resultats\">\\n\\t<div id=\"hautcadre\"></div>\\n\\t<div id=\"centrecadre\">\\n\\t\\t<div class=\"tri\">\\n\\t\\t\\t<form id=\"form_tri\" action=\"\">\\n\\t\\t\\t\\t<label for=\"tri-haut\">Trier par</label>\\n\\t\\t\\t\\t<select id=\"form_tri_select\" name=\"sorting\" onchange=\"document.getElementById(\\'form_tri\\').submit()\">\\n\\t            \\t<option value=\"aleatoire\"> - </option>\\t                    <option value=\"nom_asc\">Nom</option>\\n\\t            \\t    \\t                    <option value=\"carte-vitale_desc\">Carte Vitale</option>\\n\\t            \\t    \\t                    <option value=\"secteur_asc\">Type d&#039;honoraires</option>\\n\\t            \\t    \\t            </select>\\n\\t           <button type=\"submit\" title=\"Trier\" class=\"boutons\"><a href=\"#\"><span><span>Trier</span></span></a></button>\\n            </form>\\n\\t\\t</div>\\n\\t\\t<div class=\"pagination\">\\n\\t<form method=\"post\" action=\"/professionnels-de-sante/recherche-1/liste-resultats-page-1-par_page-20-tri-aleatoire-f37e8ccd9299ffd0512f6451db3292f5.html\"> \\n\\t\\t Page <input type=\"text\" name=\"pageCible\" value=\"1\" /> sur 2<a href=\"/professionnels-de-sante/recherche-1/liste-resultats-page-2-par_page-20-tri-aleatoire-f37e8ccd9299ffd0512f6451db3292f5.html\"><img src=\"/resources_ver/20150826115145/images/pagination_next.png\" alt=\"Page suivante\" /></a><a href=\"/professionnels-de-sante/recherche-1/liste-resultats-page-2-par_page-20-tri-aleatoire-f37e8ccd9299ffd0512f6451db3292f5.html\"><img src=\"/resources_ver/20150826115145/images/pagination_last.png\" alt=\" - Aller \\xe0 la derni\\xe8re page\" /></a>\\t</form>\\n</div>\\n\\t\\t<div class=\"clear\"></div>\\n                <div class=\"liste-professionnel\">\\n            <div class=\"item-professionnel\"><div class=\"item-professionnel-inner\"><span class=\"num\">1</span><div class=\"nom_pictos\"><h2><a href=\"/professionnels-de-sante/recherche-1/fiche-detaillee-B7c1ljU3MjKz-f37e8ccd9299ffd0512f6451db3292f5.html\"><strong>LE QUOY</strong> OLIVIER</a></h2><div class=\"pictos\"></div><div class=\"clear\"></div></div><div class=\"clear\"></div><div class=\"elements\"><div class=\"item left\"></div><div class=\"item right type_honoraires\">Honoraires libres</div><div class=\"clear\"></div><div class=\"item left tel\">01&nbsp;43&nbsp;35&nbsp;31&nbsp;48</div><div class=\"item right convention\"><a href=\"#\" class=\"infobulle\" alt=\"Les m\\xe9decins fixent librement leurs tarifs et peuvent donc pratiquer des d\\xe9passements d\\u2019honoraires avec tact et mesure. L\\u2019Assurance Maladie rembourse les consultations et actes r\\xe9alis\\xe9s par ces m\\xe9decins sur la base des tarifs fix\\xe9s dans la convention (tarifs applicables au m\\xe9decin de secteur 2), le montant des \\xe9ventuels d\\xe9passements d\\u2019honoraires reste \\xe0 votre charge.\" >Conventionn\\xe9 secteur 2</a></div><div class=\"clear\"></div><div class=\"item left adresse\">29 RUE D ALESIA<br />75014 PARIS</div><div class=\"clear\"></div></div><div class=\"clear\"></div></div></div><div class=\"item-professionnel\"><div class=\"item-professionnel-inner\"><span class=\"num\">2</span><div class=\"nom_pictos\"><h2><a href=\"/professionnels-de-sante/recherche-1/fiche-detaillee-B7c1mjMxMzqx-f37e8ccd9299ffd0512f6451db3292f5.html\"><strong>SELLAM</strong> MICKAEL</a></h2><div class=\"pictos\"><img alt=\"Accepte la carte Vitale\" src=\"/resources_ver/20150826115145/images/picto_cartevitale.png\" class=\"infobulle\"/></div><div class=\"clear\"></div></div><div class=\"clear\"></div><div class=\"elements\"><div class=\"item left\"></div><div class=\"item right type_honoraires\">Honoraires libres</div><div class=\"clear\"></div><div class=\"item left\"></div><div class=\"item right convention\"><a href=\"#\" class=\"infobulle\" alt=\"Les m\\xe9decins fixent librement leurs tarifs et peuvent donc pratiquer des d\\xe9passements d\\u2019honoraires avec tact et mesure. L\\u2019Assurance Maladie rembourse les consultations et actes r\\xe9alis\\xe9s par ces m\\xe9decins sur la base des tarifs fix\\xe9s dans la convention (tarifs applicables au m\\xe9decin de secteur 2), le montant des \\xe9ventuels d\\xe9passements d\\u2019honoraires reste \\xe0 votre charge.\" >Conventionn\\xe9 secteur 2</a></div><div class=\"clear\"></div><div class=\"item left adresse\">CLINIQUE STE GENEVIEVE<br />29 RUE SARRETTE<br />75014 PARIS</div><div class=\"clear\"></div></div><div class=\"clear\"></div></div></div><div class=\"item-professionnel\"><div class=\"item-professionnel-inner\"><span class=\"num\">3</span><div class=\"nom_pictos\"><h2><a href=\"/professionnels-de-sante/recherche-1/fiche-detaillee-B7c1kTYwMDuy-f37e8ccd9299ffd0512f6451db3292f5.html\"><strong>BINN DEUTSCHER</strong> SYLVIE</a></h2><div class=\"pictos\"><img alt=\"Accepte la carte Vitale\" src=\"/resources_ver/20150826115145/images/picto_cartevitale.png\" class=\"infobulle\"/></div><div class=\"clear\"></div></div><div class=\"clear\"></div><div class=\"elements\"><div class=\"item left\"></div><div class=\"item right type_honoraires\">Honoraires libres</div><div class=\"clear\"></div><div class=\"item left tel\">01&nbsp;45&nbsp;65&nbsp;04&nbsp;24</div><div class=\"item right convention\"><a href=\"#\" class=\"infobulle\" alt=\"Les m\\xe9decins fixent librement leurs tarifs et peuvent donc pratiquer des d\\xe9passements d\\u2019honoraires avec tact et mesure. L\\u2019Assurance Maladie rembourse les consultations et actes r\\xe9alis\\xe9s par ces m\\xe9decins sur la base des tarifs fix\\xe9s dans la convention (tarifs applicables au m\\xe9decin de secteur 2), le montant des \\xe9ventuels d\\xe9passements d\\u2019honoraires reste \\xe0 votre charge.\" >Conventionn\\xe9 secteur 2</a></div><div class=\"clear\"></div><div class=\"item left adresse\">12 RUE DE LA TOMBE ISSOIRE<br />75014 PARIS</div><div class=\"clear\"></div></div><div class=\"clear\"></div></div></div><div class=\"item-professionnel\"><div class=\"item-professionnel-inner\"><span class=\"num\">4</span><div class=\"nom_pictos\"><h2><a href=\"/professionnels-de-sante/recherche-1/fiche-detaillee-B7c1ljswNTqy-f37e8ccd9299ffd0512f6451db3292f5.html\"><strong>CHAMOUNI</strong> HUBERT</a></h2><div class=\"pictos\"><img alt=\"Accepte la carte Vitale\" src=\"/resources_ver/20150826115145/images/picto_cartevitale.png\" class=\"infobulle\"/></div><div class=\"clear\"></div></div><div class=\"clear\"></div><div class=\"elements\"><div class=\"item left\"></div><div class=\"item right type_honoraires\">Honoraires libres</div><div class=\"clear\"></div><div class=\"item left\"></div><div class=\"item right convention\"><a href=\"#\" class=\"infobulle\" alt=\"Les m\\xe9decins fixent librement leurs tarifs et peuvent donc pratiquer des d\\xe9passements d\\u2019honoraires avec tact et mesure. L\\u2019Assurance Maladie rembourse les consultations et actes r\\xe9alis\\xe9s par ces m\\xe9decins sur la base des tarifs fix\\xe9s dans la convention (tarifs applicables au m\\xe9decin de secteur 2), le montant des \\xe9ventuels d\\xe9passements d\\u2019honoraires reste \\xe0 votre charge.\" >Conventionn\\xe9 secteur 2</a></div><div class=\"clear\"></div><div class=\"item left adresse\">95 AVENUE DU GAL LECLERC<br />75014 PARIS</div><div class=\"clear\"></div></div><div class=\"clear\"></div></div></div><div class=\"item-professionnel\"><div class=\"item-professionnel-inner\"><span class=\"num\">5</span><div class=\"nom_pictos\"><h2><a href=\"/professionnels-de-sante/recherche-1/fiche-detaillee-B7c1ljI1Nzay-f37e8ccd9299ffd0512f6451db3292f5.html\"><strong>CHARLOT</strong> JEAN CLAUDE</a></h2><div class=\"pictos\"></div><div class=\"clear\"></div></div><div class=\"clear\"></div><div class=\"elements\"><div class=\"item left\"></div><div class=\"item right type_honoraires\">Honoraires libres</div><div class=\"clear\"></div><div class=\"item left tel\">01&nbsp;43&nbsp;22&nbsp;42&nbsp;33</div><div class=\"item right convention\"><a href=\"#\" class=\"infobulle\" alt=\"Les m\\xe9decins fixent librement leurs tarifs et peuvent donc pratiquer des d\\xe9passements d\\u2019honoraires avec tact et mesure. L\\u2019Assurance Maladie rembourse les consultations et actes r\\xe9alis\\xe9s par ces m\\xe9decins sur la base des tarifs fix\\xe9s dans la convention (tarifs applicables au m\\xe9decin de secteur 2), le montant des \\xe9ventuels d\\xe9passements d\\u2019honoraires reste \\xe0 votre charge.\" >Conventionn\\xe9 secteur 2</a></div><div class=\"clear\"></div><div class=\"item left adresse\">228 BOULEVARD RASPAIL<br />75014 PARIS</div><div class=\"clear\"></div></div><div class=\"clear\"></div></div></div><div class=\"item-professionnel\"><div class=\"item-professionnel-inner\"><span class=\"num\">6</span><div class=\"nom_pictos\"><h2><a href=\"/professionnels-de-sante/recherche-1/fiche-detaillee-B7c1lTI2Njq6-f37e8ccd9299ffd0512f6451db3292f5.html\"><strong>COMMEAU</strong> DOMINIQUE</a></h2><div class=\"pictos\"><img alt=\"Accepte la carte Vitale\" src=\"/resources_ver/20150826115145/images/picto_cartevitale.png\" class=\"infobulle\"/></div><div class=\"clear\"></div></div><div class=\"clear\"></div><div class=\"elements\"><div class=\"item left\"></div><div class=\"item right type_honoraires\">Honoraires libres</div><div class=\"clear\"></div><div class=\"item left tel\">01&nbsp;45&nbsp;41&nbsp;73&nbsp;63</div><div class=\"item right convention\"><a href=\"#\" class=\"infobulle\" alt=\"Les m\\xe9decins fixent librement leurs tarifs et peuvent donc pratiquer des d\\xe9passements d\\u2019honoraires avec tact et mesure. L\\u2019Assurance Maladie rembourse les consultations et actes r\\xe9alis\\xe9s par ces m\\xe9decins sur la base des tarifs fix\\xe9s dans la convention (tarifs applicables au m\\xe9decin de secteur 2), le montant des \\xe9ventuels d\\xe9passements d\\u2019honoraires reste \\xe0 votre charge.\" >Conventionn\\xe9 secteur 2</a></div><div class=\"clear\"></div><div class=\"item left adresse\">22 RUE ERNEST CRESSON<br />75014 PARIS</div><div class=\"clear\"></div></div><div class=\"clear\"></div></div></div><div class=\"item-professionnel\"><div class=\"item-professionnel-inner\"><span class=\"num\">7</span><div class=\"nom_pictos\"><h2><a href=\"/professionnels-de-sante/recherche-1/fiche-detaillee-B7c1lTM1MTu1-f37e8ccd9299ffd0512f6451db3292f5.html\"><strong>VAN WENT</strong> CHARLES</a></h2><div class=\"pictos\"><img alt=\"Accepte la carte Vitale\" src=\"/resources_ver/20150826115145/images/picto_cartevitale.png\" class=\"infobulle\"/></div><div class=\"clear\"></div></div><div class=\"clear\"></div><div class=\"elements\"><div class=\"item left\"></div><div class=\"item right type_honoraires\">Honoraires libres</div><div class=\"clear\"></div><div class=\"item left\"></div><div class=\"item right convention\"><a href=\"#\" class=\"infobulle\" alt=\"Les m\\xe9decins fixent librement leurs tarifs et peuvent donc pratiquer des d\\xe9passements d\\u2019honoraires avec tact et mesure. L\\u2019Assurance Maladie rembourse les consultations et actes r\\xe9alis\\xe9s par ces m\\xe9decins sur la base des tarifs fix\\xe9s dans la convention (tarifs applicables au m\\xe9decin de secteur 2), le montant des \\xe9ventuels d\\xe9passements d\\u2019honoraires reste \\xe0 votre charge.\" >Conventionn\\xe9 secteur 2</a></div><div class=\"clear\"></div><div class=\"item left adresse\">SELARL CHASSIGNOL VAN WENT<br />79 AVENUE DU GENERAL LECLERC<br />75014 PARIS</div><div class=\"clear\"></div></div><div class=\"clear\"></div></div></div><div class=\"item-professionnel\"><div class=\"item-professionnel-inner\"><span class=\"num\">8</span><div class=\"nom_pictos\"><h2><a href=\"/professionnels-de-sante/recherche-1/fiche-detaillee-B7c1lDE2MDaw-f37e8ccd9299ffd0512f6451db3292f5.html\"><strong>THAN TRONG</strong> THONG</a></h2><div class=\"pictos\"><img alt=\"Accepte la carte Vitale\" src=\"/resources_ver/20150826115145/images/picto_cartevitale.png\" class=\"infobulle\"/></div><div class=\"clear\"></div></div><div class=\"clear\"></div><div class=\"elements\"><div class=\"item left\"></div><div class=\"item right type_honoraires\">Honoraires libres</div><div class=\"clear\"></div><div class=\"item left tel\">01&nbsp;43&nbsp;35&nbsp;41&nbsp;03</div><div class=\"item right convention\"><a href=\"#\" class=\"infobulle\" alt=\"Les m\\xe9decins fixent librement leurs tarifs et peuvent donc pratiquer des d\\xe9passements d\\u2019honoraires avec tact et mesure. L\\u2019Assurance Maladie rembourse les consultations et actes r\\xe9alis\\xe9s par ces m\\xe9decins sur la base des tarifs fix\\xe9s dans la convention (tarifs applicables au m\\xe9decin de secteur 2), le montant des \\xe9ventuels d\\xe9passements d\\u2019honoraires reste \\xe0 votre charge.\" >Conventionn\\xe9 secteur 2</a></div><div class=\"clear\"></div><div class=\"item left adresse\">10 RUE DAGUERRE<br />75014 PARIS</div><div class=\"clear\"></div></div><div class=\"clear\"></div></div></div><div class=\"item-professionnel\"><div class=\"item-professionnel-inner\"><span class=\"num\">9</span><div class=\"nom_pictos centre-sante\"><h2><a href=\"/professionnels-de-sante/centre-sante/recherche-1/fiche-detaillee-B7c0kjMzNjey-f37e8ccd9299ffd0512f6451db3292f5.html\">CTRE SANTE MEDICAL DENTAIRE TISSERAND</a></h2><div class=\"clear\"></div></div><div class=\"clear\"></div><div class=\"pictos\"><img alt=\"Cet \\xe9tablissement est un centre de sant\\xe9\" src=\"/resources_ver/20150826115145/images/picto_categorie_centre_sante.png\" class=\"infobulle\" /></div><div class=\"clear\"></div><div class=\"elements\"><div class=\"item left adresse\">CTRE SANTE MEDICAL DENTAIRE TISSERAND<br />C A S VILLE DE PARIS<br />134 RUE D ALESIA<br />75014 PARIS</div><div class=\"item right tel\">01&nbsp;45&nbsp;39&nbsp;49&nbsp;29</div><div class=\"clear\"></div><div class=\"item left type-etablissement\"></div><div class=\"clear\"></div></div><div class=\"clear\"></div></div></div><div class=\"item-professionnel\"><div class=\"item-professionnel-inner\"><span class=\"num\">10</span><div class=\"nom_pictos\"><h2><a href=\"/professionnels-de-sante/recherche-1/fiche-detaillee-B7c1lzUyNDew-f37e8ccd9299ffd0512f6451db3292f5.html\"><strong>BREZIN</strong> ANTOINE</a></h2><div class=\"pictos\"></div><div class=\"clear\"></div></div><div class=\"clear\"></div><div class=\"elements\"><div class=\"item left\"></div><div class=\"item right type_honoraires\">Honoraires libres</div><div class=\"clear\"></div><div class=\"item left tel\">01&nbsp;58&nbsp;41&nbsp;22&nbsp;00</div><div class=\"item right convention\"><a href=\"#\" class=\"infobulle\" alt=\"Les m\\xe9decins fixent librement leurs tarifs et peuvent donc pratiquer des d\\xe9passements d\\u2019honoraires avec tact et mesure. L\\u2019Assurance Maladie rembourse les consultations et actes r\\xe9alis\\xe9s par ces m\\xe9decins sur la base des tarifs fix\\xe9s dans la convention (tarifs applicables au m\\xe9decin de secteur 2), le montant des \\xe9ventuels d\\xe9passements d\\u2019honoraires reste \\xe0 votre charge.\" >Conventionn\\xe9 secteur 2</a></div><div class=\"clear\"></div><div class=\"item left adresse\">HOPITAL COCHIN<br />27 RUE DU FBG SAINT JACQUES<br />75014 PARIS</div><div class=\"clear\"></div></div><div class=\"clear\"></div></div></div><div class=\"item-professionnel\"><div class=\"item-professionnel-inner\"><span class=\"num\">11</span><div class=\"nom_pictos\"><h2><a href=\"/professionnels-de-sante/recherche-1/fiche-detaillee-B7c1ljUxNze6-f37e8ccd9299ffd0512f6451db3292f5.html\"><strong>SULMAN</strong> JEAN JACQUES</a></h2><div class=\"pictos\"><img alt=\"Accepte la carte Vitale\" src=\"/resources_ver/20150826115145/images/picto_cartevitale.png\" class=\"infobulle\"/></div><div class=\"clear\"></div></div><div class=\"clear\"></div><div class=\"elements\"><div class=\"item left\"></div><div class=\"item right type_honoraires\">Honoraires libres</div><div class=\"clear\"></div><div class=\"item left tel\">01&nbsp;40&nbsp;47&nbsp;00&nbsp;00</div><div class=\"item right convention\"><a href=\"#\" class=\"infobulle\" alt=\"Les m\\xe9decins fixent librement leurs tarifs et peuvent donc pratiquer des d\\xe9passements d\\u2019honoraires avec tact et mesure. L\\u2019Assurance Maladie rembourse les consultations et actes r\\xe9alis\\xe9s par ces m\\xe9decins sur la base des tarifs fix\\xe9s dans la convention (tarifs applicables au m\\xe9decin de secteur 2), le montant des \\xe9ventuels d\\xe9passements d\\u2019honoraires reste \\xe0 votre charge.\" >Conventionn\\xe9 secteur 2</a></div><div class=\"clear\"></div><div class=\"item left adresse\">90 AVENUE DU MAINE<br />75014 PARIS</div><div class=\"clear\"></div></div><div class=\"clear\"></div></div></div><div class=\"item-professionnel\"><div class=\"item-professionnel-inner\"><span class=\"num\">12</span><div class=\"nom_pictos\"><h2><a href=\"/professionnels-de-sante/recherche-1/fiche-detaillee-B7c1ljI2NTa3-f37e8ccd9299ffd0512f6451db3292f5.html\"><strong>FELLER</strong> MICHEL</a></h2><div class=\"pictos\"></div><div class=\"clear\"></div></div><div class=\"clear\"></div><div class=\"elements\"><div class=\"item left\"></div><div class=\"item right type_honoraires\">Honoraires libres</div><div class=\"clear\"></div><div class=\"item left tel\">01&nbsp;43&nbsp;35&nbsp;08&nbsp;28</div><div class=\"item right convention\"><a href=\"#\" class=\"infobulle\" alt=\"Les m\\xe9decins fixent librement leurs tarifs et peuvent donc pratiquer des d\\xe9passements d\\u2019honoraires avec tact et mesure. L\\u2019Assurance Maladie rembourse les consultations et actes r\\xe9alis\\xe9s par ces m\\xe9decins sur la base des tarifs fix\\xe9s dans la convention (tarifs applicables au m\\xe9decin de secteur 2), le montant des \\xe9ventuels d\\xe9passements d\\u2019honoraires reste \\xe0 votre charge.\" >Conventionn\\xe9 secteur 2</a></div><div class=\"clear\"></div><div class=\"item left adresse\">118 BOULEVARD MONTPARNASSE<br />75014 PARIS</div><div class=\"clear\"></div></div><div class=\"clear\"></div></div></div><div class=\"item-professionnel\"><div class=\"item-professionnel-inner\"><span class=\"num\">13</span><div class=\"nom_pictos\"><h2><a href=\"/professionnels-de-sante/recherche-1/fiche-detaillee-B7c1lTM1MTWz-f37e8ccd9299ffd0512f6451db3292f5.html\"><strong>CHASSIGNOL</strong> ALEXIS</a></h2><div class=\"pictos\"><img alt=\"Accepte la carte Vitale\" src=\"/resources_ver/20150826115145/images/picto_cartevitale.png\" class=\"infobulle\"/><img alt=\"Ce professionnel de sant\\xe9 a indiqu\\xe9 ses horaires\" src=\"/resources_ver/20150826115145/images/horaires_gris.png\" class=\"infobulle\"/></div><div class=\"clear\"></div></div><div class=\"clear\"></div><div class=\"elements\"><div class=\"item left\"></div><div class=\"item right type_honoraires\">Honoraires libres</div><div class=\"clear\"></div><div class=\"item left tel\">01&nbsp;43&nbsp;27&nbsp;10&nbsp;69</div><div class=\"item right convention\"><a href=\"#\" class=\"infobulle\" alt=\"Les m\\xe9decins fixent librement leurs tarifs et peuvent donc pratiquer des d\\xe9passements d\\u2019honoraires avec tact et mesure. L\\u2019Assurance Maladie rembourse les consultations et actes r\\xe9alis\\xe9s par ces m\\xe9decins sur la base des tarifs fix\\xe9s dans la convention (tarifs applicables au m\\xe9decin de secteur 2), le montant des \\xe9ventuels d\\xe9passements d\\u2019honoraires reste \\xe0 votre charge.\" >Conventionn\\xe9 secteur 2</a></div><div class=\"clear\"></div><div class=\"item left adresse\">SELARL CHASSIGNOL VAN WENT<br />79 AVENUE DU GENERAL LECLERC<br />75014 PARIS</div><div class=\"clear\"></div></div><div class=\"clear\"></div></div></div><div class=\"item-professionnel\"><div class=\"item-professionnel-inner\"><span class=\"num\">14</span><div class=\"nom_pictos\"><h2><a href=\"/professionnels-de-sante/recherche-1/fiche-detaillee-B7c1kDsyMDux-f37e8ccd9299ffd0512f6451db3292f5.html\"><strong>MEYER</strong> MARIE CLAUDE</a></h2><div class=\"pictos\"></div><div class=\"clear\"></div></div><div class=\"clear\"></div><div class=\"elements\"><div class=\"item left\"></div><div class=\"item right type_honoraires\">Honoraires libres</div><div class=\"clear\"></div><div class=\"item left tel\">01&nbsp;43&nbsp;20&nbsp;62&nbsp;55</div><div class=\"item right convention\"><a href=\"#\" class=\"infobulle\" alt=\"Les m\\xe9decins fixent librement leurs tarifs et peuvent donc pratiquer des d\\xe9passements d\\u2019honoraires avec tact et mesure. L\\u2019Assurance Maladie rembourse les consultations et actes r\\xe9alis\\xe9s par ces m\\xe9decins sur la base des tarifs fix\\xe9s dans la convention (tarifs applicables au m\\xe9decin de secteur 2), le montant des \\xe9ventuels d\\xe9passements d\\u2019honoraires reste \\xe0 votre charge.\" >Conventionn\\xe9 secteur 2</a></div><div class=\"clear\"></div><div class=\"item left adresse\">29 BOULEVARD E.QUINET<br />75014 PARIS</div><div class=\"clear\"></div></div><div class=\"clear\"></div></div></div><div class=\"item-professionnel\"><div class=\"item-professionnel-inner\"><span class=\"num\">15</span><div class=\"nom_pictos\"><h2><a href=\"/professionnels-de-sante/recherche-1/fiche-detaillee-B7c1ljUyMjS3-f37e8ccd9299ffd0512f6451db3292f5.html\"><strong>KRETZ</strong> GILLES</a></h2><div class=\"pictos\"><img alt=\"Accepte la carte Vitale\" src=\"/resources_ver/20150826115145/images/picto_cartevitale.png\" class=\"infobulle\"/></div><div class=\"clear\"></div></div><div class=\"clear\"></div><div class=\"elements\"><div class=\"item left\"></div><div class=\"item right type_honoraires\">Honoraires libres</div><div class=\"clear\"></div><div class=\"item left tel\">01&nbsp;40&nbsp;44&nbsp;65&nbsp;30</div><div class=\"item right convention\"><a href=\"#\" class=\"infobulle\" alt=\"Les m\\xe9decins fixent librement leurs tarifs et peuvent donc pratiquer des d\\xe9passements d\\u2019honoraires avec tact et mesure. L\\u2019Assurance Maladie rembourse les consultations et actes r\\xe9alis\\xe9s par ces m\\xe9decins sur la base des tarifs fix\\xe9s dans la convention (tarifs applicables au m\\xe9decin de secteur 2), le montant des \\xe9ventuels d\\xe9passements d\\u2019honoraires reste \\xe0 votre charge.\" >Conventionn\\xe9 secteur 2</a></div><div class=\"clear\"></div><div class=\"item left adresse\">150 RUE R LOSSERAND<br />75014 PARIS</div><div class=\"clear\"></div></div><div class=\"clear\"></div></div></div><div class=\"item-professionnel\"><div class=\"item-professionnel-inner\"><span class=\"num\">16</span><div class=\"nom_pictos\"><h2><a href=\"/professionnels-de-sante/recherche-1/fiche-detaillee-B7c1lTM1OTS3-f37e8ccd9299ffd0512f6451db3292f5.html\"><strong>PUECH</strong> MICHEL</a></h2><div class=\"pictos\"><img alt=\"Accepte la carte Vitale\" src=\"/resources_ver/20150826115145/images/picto_cartevitale.png\" class=\"infobulle\"/></div><div class=\"clear\"></div></div><div class=\"clear\"></div><div class=\"elements\"><div class=\"item left\"></div><div class=\"item right type_honoraires\">Honoraires libres</div><div class=\"clear\"></div><div class=\"item left\"></div><div class=\"item right convention\"><a href=\"#\" class=\"infobulle\" alt=\"Les m\\xe9decins fixent librement leurs tarifs et peuvent donc pratiquer des d\\xe9passements d\\u2019honoraires avec tact et mesure. L\\u2019Assurance Maladie rembourse les consultations et actes r\\xe9alis\\xe9s par ces m\\xe9decins sur la base des tarifs fix\\xe9s dans la convention (tarifs applicables au m\\xe9decin de secteur 2), le montant des \\xe9ventuels d\\xe9passements d\\u2019honoraires reste \\xe0 votre charge.\" >Conventionn\\xe9 secteur 2</a></div><div class=\"clear\"></div><div class=\"item left adresse\">SELARL DU DR MICHEL PUECH<br />7 RUE BOISSONADE<br />75014 PARIS</div><div class=\"clear\"></div></div><div class=\"clear\"></div></div></div><div class=\"item-professionnel\"><div class=\"item-professionnel-inner\"><span class=\"num\">17</span><div class=\"nom_pictos\"><h2><a href=\"/professionnels-de-sante/recherche-1/fiche-detaillee-B7c1lTIzNDu7-f37e8ccd9299ffd0512f6451db3292f5.html\"><strong>WERTHEL</strong> ANDREE LUCE</a></h2><div class=\"pictos\"><img alt=\"Accepte la carte Vitale\" src=\"/resources_ver/20150826115145/images/picto_cartevitale.png\" class=\"infobulle\"/></div><div class=\"clear\"></div></div><div class=\"clear\"></div><div class=\"elements\"><div class=\"item left\"></div><div class=\"item right type_honoraires\">Honoraires libres</div><div class=\"clear\"></div><div class=\"item left tel\">01&nbsp;45&nbsp;42&nbsp;75&nbsp;74</div><div class=\"item right convention\"><a href=\"#\" class=\"infobulle\" alt=\"Les m\\xe9decins fixent librement leurs tarifs et peuvent donc pratiquer des d\\xe9passements d\\u2019honoraires avec tact et mesure. L\\u2019Assurance Maladie rembourse les consultations et actes r\\xe9alis\\xe9s par ces m\\xe9decins sur la base des tarifs fix\\xe9s dans la convention (tarifs applicables au m\\xe9decin de secteur 2), le montant des \\xe9ventuels d\\xe9passements d\\u2019honoraires reste \\xe0 votre charge.\" >Conventionn\\xe9 secteur 2</a></div><div class=\"clear\"></div><div class=\"item left adresse\">24 AVENUE VILLEMAIN<br />75014 PARIS</div><div class=\"clear\"></div></div><div class=\"clear\"></div></div></div><div class=\"item-professionnel\"><div class=\"item-professionnel-inner\"><span class=\"num\">18</span><div class=\"nom_pictos\"><h2><a href=\"/professionnels-de-sante/recherche-1/fiche-detaillee-B7c1mjMzMDe6-f37e8ccd9299ffd0512f6451db3292f5.html\"><strong>MAGNANI</strong> MATTEO</a></h2><div class=\"pictos\"><img alt=\"Accepte la carte Vitale\" src=\"/resources_ver/20150826115145/images/picto_cartevitale.png\" class=\"infobulle\"/></div><div class=\"clear\"></div></div><div class=\"clear\"></div><div class=\"elements\"><div class=\"item left\"></div><div class=\"item right type_honoraires\">Honoraires libres</div><div class=\"clear\"></div><div class=\"item left\"></div><div class=\"item right convention\"><a href=\"#\" class=\"infobulle\" alt=\"Les m\\xe9decins fixent librement leurs tarifs et peuvent donc pratiquer des d\\xe9passements d\\u2019honoraires avec tact et mesure. L\\u2019Assurance Maladie rembourse les consultations et actes r\\xe9alis\\xe9s par ces m\\xe9decins sur la base des tarifs fix\\xe9s dans la convention (tarifs applicables au m\\xe9decin de secteur 2), le montant des \\xe9ventuels d\\xe9passements d\\u2019honoraires reste \\xe0 votre charge.\" >Conventionn\\xe9 secteur 2</a></div><div class=\"clear\"></div><div class=\"item left adresse\">29 RUE SARRETTE.<br />75014 PARIS</div><div class=\"clear\"></div></div><div class=\"clear\"></div></div></div><div class=\"item-professionnel\"><div class=\"item-professionnel-inner\"><span class=\"num\">19</span><div class=\"nom_pictos\"><h2><a href=\"/professionnels-de-sante/recherche-1/fiche-detaillee-B7c1mzE5MDa2-f37e8ccd9299ffd0512f6451db3292f5.html\"><strong>GIRARD DECIS</strong> ANAIS</a></h2><div class=\"pictos\"><img alt=\"Accepte la carte Vitale\" src=\"/resources_ver/20150826115145/images/picto_cartevitale.png\" class=\"infobulle\"/></div><div class=\"clear\"></div></div><div class=\"clear\"></div><div class=\"elements\"><div class=\"item left\"></div><div class=\"item right type_honoraires\">Honoraires libres</div><div class=\"clear\"></div><div class=\"item left\"></div><div class=\"item right convention\"><a href=\"#\" class=\"infobulle\" alt=\"Les m\\xe9decins fixent librement leurs tarifs et peuvent donc pratiquer des d\\xe9passements d\\u2019honoraires avec tact et mesure. L\\u2019Assurance Maladie rembourse les consultations et actes r\\xe9alis\\xe9s par ces m\\xe9decins sur la base des tarifs fix\\xe9s dans la convention (tarifs applicables au m\\xe9decin de secteur 2), le montant des \\xe9ventuels d\\xe9passements d\\u2019honoraires reste \\xe0 votre charge.\" >Conventionn\\xe9 secteur 2</a></div><div class=\"clear\"></div><div class=\"item left adresse\">244 BOULEVARD RASPAIL<br />75014 PARIS</div><div class=\"clear\"></div></div><div class=\"clear\"></div></div></div><div class=\"item-professionnel\"><div class=\"item-professionnel-inner\"><span class=\"num\">20</span><div class=\"nom_pictos\"><h2><a href=\"/professionnels-de-sante/recherche-1/fiche-detaillee-B7c1ljc4NjG1-f37e8ccd9299ffd0512f6451db3292f5.html\"><strong>KELLER</strong> PIERRE</a></h2><div class=\"pictos\"><img alt=\"Accepte la carte Vitale\" src=\"/resources_ver/20150826115145/images/picto_cartevitale.png\" class=\"infobulle\"/></div><div class=\"clear\"></div></div><div class=\"clear\"></div><div class=\"elements\"><div class=\"item left\"></div><div class=\"item right type_honoraires\">Honoraires libres</div><div class=\"clear\"></div><div class=\"item left tel\">01&nbsp;43&nbsp;35&nbsp;43&nbsp;33</div><div class=\"item right convention\"><a href=\"#\" class=\"infobulle\" alt=\"Les m\\xe9decins fixent librement leurs tarifs et peuvent donc pratiquer des d\\xe9passements d\\u2019honoraires avec tact et mesure. L\\u2019Assurance Maladie rembourse les consultations et actes r\\xe9alis\\xe9s par ces m\\xe9decins sur la base des tarifs fix\\xe9s dans la convention (tarifs applicables au m\\xe9decin de secteur 2), le montant des \\xe9ventuels d\\xe9passements d\\u2019honoraires reste \\xe0 votre charge.\" >Conventionn\\xe9 secteur 2</a></div><div class=\"clear\"></div><div class=\"item left adresse\">3 RUE VICTOR CONSIDERANT<br />75014 PARIS</div><div class=\"clear\"></div></div><div class=\"clear\"></div></div></div>        </div>\\n                <div class=\"tri\">\\n            <form id=\"form_tri_bas\" action=\"\">\\n                <label for=\"form_tri_select\">Trier par</label>\\n                <select id=\"form_tri_select\" name=\"sorting\" onchange=\"document.getElementById(\\'form_tri_bas\\').submit()\">\\n                \\t<option value=\"aleatoire\"> - </option>                    <option value=\"nom_asc\">Nom</option>\\n                \\t                    <option value=\"carte-vitale_desc\">Carte Vitale</option>\\n                \\t                    <option value=\"secteur_asc\">Type d&#039;honoraires</option>\\n                \\t                </select>\\n            </form>\\n        </div>\\n                <div class=\"pagination\">\\n\\t<form method=\"post\" action=\"/professionnels-de-sante/recherche-1/liste-resultats-page-1-par_page-20-tri-aleatoire-f37e8ccd9299ffd0512f6451db3292f5.html\"> \\n\\t\\t Page <input type=\"text\" name=\"pageCible\" value=\"1\" /> sur 2<a href=\"/professionnels-de-sante/recherche-1/liste-resultats-page-2-par_page-20-tri-aleatoire-f37e8ccd9299ffd0512f6451db3292f5.html\"><img src=\"/resources_ver/20150826115145/images/pagination_next.png\" alt=\"Page suivante\" /></a><a href=\"/professionnels-de-sante/recherche-1/liste-resultats-page-2-par_page-20-tri-aleatoire-f37e8ccd9299ffd0512f6451db3292f5.html\"><img src=\"/resources_ver/20150826115145/images/pagination_last.png\" alt=\" - Aller \\xe0 la derni\\xe8re page\" /></a>\\t</form>\\n</div>\\n        <div class=\"clear\"></div>\\n\\t</div>\\n\\t<div id=\"bascadre\"></div>\\n</div>\\n<div class=\"clear\"></div>    \\t</div>\\n    \\t<div id=\"footer\">\\n    \\t\\t<div class=\"mention\">L\\'utilisation du service offert sur ce site est soumise au respect des conditions d\\'utilisation. Toute reproduction int\\xe9grale ou partielle des contenus, donn\\xe9es et informations disponibles est illicite et peut donner lieu \\xe0 des sanctions.</div>\\n    \\t    <div class=\"liens\">\\n\\t\\t\\t\\t<h2>Les autres sites de l\\'Assurance Maladie</h2>\\n\\t\\t\\t\\t<div class=\"site\"><a href=\"http://www.ameli.fr\" target=\"_blank\" rel=\"nofollow\" title=\"Ameli.fr : je m\\'informe sur mes droits et mes d\\xe9marches (nouvelle fen\\xeatre)\"><img src=\"/resources_ver/20150826115145/images/footer_ameli.png\" alt=\"ameli.fr\" /></a><br/>Je m\\'informe sur mes droits et mes d\\xe9marches</div>\\n\\t\\t\\t\\t<div class=\"site\"><a href=\"http://www.ameli-sante.fr\" target=\"_blank\" rel=\"nofollow\" title=\"Ameli-sant\\xe9.fr : Ma r\\xe9f\\xe9rence en information sant\\xe9 (nouvelle fen\\xeatre)\"><img src=\"/resources_ver/20150826115145/images/footer_sante.png\" alt=\"ameli-sante.fr\" /></a><br/>Je m\\'informe sur ma sant\\xe9</div>\\n\\t\\t\\t\\t<div class=\"site\"><a href=\"http://www.ameli-sophia.fr\" target=\"_blank\" rel=\"nofollow\" title=\"ameli-sophia (nouvelle fen\\xeatre)\"><img src=\"/resources_ver/20150826115145/images/footer_sophia.png\" alt=\"ameli-sophia.fr\" /></a><br/>Le service d\\'accompagnement pour mieux vivre avec une maladie chronique</div>\\n\\t\\t\\t</div>\\n\\t\\t\\t<div class=\"clear\"></div>\\n    \\t\\t<div class=\"liens-transverse\"> | <a href=\"/fenetre-modale-xhr/dispositions_generales.html?width=700&amp;modal=true\" class=\"thickbox\" title=\"Dispositions g\\xe9n\\xe9rales\">Dispositions g\\xe9n\\xe9rales</a> | <a href=\"/fenetre-modale-xhr/mentions_legales.html?width=700&amp;modal=true\" class=\"thickbox\" title=\"Mentions l\\xe9gales\">Mentions l\\xe9gales</a></div>\\n    \\t</div>\\n    </div>\\n<!-- Version OW040304X -->\\n<script type=\"text/javascript\">\\n<!--\\nxtnv = document;        //parent.document or top.document or document         \\nxtsd = \"http://logi7\";\\nxtsite = \"475098\";\\nxtn2 = \"2\";        // level 2 site \\nxtpage = \"ameli-direct-externe::liste-resultats-ps\";        //page name (with the use of :: to create chapters)\\nxtdi = \"\";        //implication degree\\n//-->\\n</script>\\n<script type=\"text/javascript\" src=\"/resources_ver/20150826115145/js/xtcore.js\"></script>\\n<noscript>\\n<img width=\"1\" height=\"1\" alt=\"\" src=\"http://logi7.xiti.com/hit.xiti?s=475098&amp;s2=1&amp;p=ameli-direct-externe::liste-resultats-ps&amp;di=&amp;\" />\\n</noscript></body>\\n</html>\\n'"
      ]
     },
     "execution_count": 153,
     "metadata": {},
     "output_type": "execute_result"
    }
   ],
   "source": [
    "r.text"
   ]
  },
  {
   "cell_type": "markdown",
   "metadata": {},
   "source": [
    "Good, the first part of our work is done!"
   ]
  },
  {
   "cell_type": "markdown",
   "metadata": {},
   "source": [
    "# The parsing "
   ]
  },
  {
   "cell_type": "markdown",
   "metadata": {},
   "source": [
    "Let's use beautiful soup to parse the document structure. There's a great documentation here: [http://www.crummy.com/software/BeautifulSoup/bs4/doc/](http://www.crummy.com/software/BeautifulSoup/bs4/doc/)."
   ]
  },
  {
   "cell_type": "code",
   "execution_count": 154,
   "metadata": {
    "collapsed": false
   },
   "outputs": [],
   "source": [
    "import bs4"
   ]
  },
  {
   "cell_type": "code",
   "execution_count": 155,
   "metadata": {
    "collapsed": true
   },
   "outputs": [],
   "source": [
    "from bs4 import BeautifulSoup\n",
    "soup = BeautifulSoup(r.text, 'html.parser')"
   ]
  },
  {
   "cell_type": "markdown",
   "metadata": {},
   "source": [
    "BS gives us an easy access to most things from the structure."
   ]
  },
  {
   "cell_type": "code",
   "execution_count": 156,
   "metadata": {
    "collapsed": false
   },
   "outputs": [
    {
     "data": {
      "text/plain": [
       "<title>Annuaire santé d'ameli.fr : trouver un médecin, un hôpital...</title>"
      ]
     },
     "execution_count": 156,
     "metadata": {},
     "output_type": "execute_result"
    }
   ],
   "source": [
    "soup.title"
   ]
  },
  {
   "cell_type": "markdown",
   "metadata": {},
   "source": [
    "We can find tags easily."
   ]
  },
  {
   "cell_type": "code",
   "execution_count": 157,
   "metadata": {
    "collapsed": false
   },
   "outputs": [
    {
     "data": {
      "text/plain": [
       "[<strong>LE QUOY</strong>,\n",
       " <strong>SELLAM</strong>,\n",
       " <strong>BINN DEUTSCHER</strong>,\n",
       " <strong>CHAMOUNI</strong>,\n",
       " <strong>CHARLOT</strong>,\n",
       " <strong>COMMEAU</strong>,\n",
       " <strong>VAN WENT</strong>,\n",
       " <strong>THAN TRONG</strong>,\n",
       " <strong>BREZIN</strong>,\n",
       " <strong>SULMAN</strong>,\n",
       " <strong>FELLER</strong>,\n",
       " <strong>CHASSIGNOL</strong>,\n",
       " <strong>MEYER</strong>,\n",
       " <strong>KRETZ</strong>,\n",
       " <strong>PUECH</strong>,\n",
       " <strong>WERTHEL</strong>,\n",
       " <strong>MAGNANI</strong>,\n",
       " <strong>GIRARD DECIS</strong>,\n",
       " <strong>KELLER</strong>]"
      ]
     },
     "execution_count": 157,
     "metadata": {},
     "output_type": "execute_result"
    }
   ],
   "source": [
    "soup.findAll('strong')"
   ]
  },
  {
   "cell_type": "markdown",
   "metadata": {},
   "source": [
    "All doctors can be found like this:"
   ]
  },
  {
   "cell_type": "code",
   "execution_count": 158,
   "metadata": {
    "collapsed": false
   },
   "outputs": [],
   "source": [
    "doctors = soup.findAll('div', attrs={\"class\":\"item-professionnel\"})"
   ]
  },
  {
   "cell_type": "markdown",
   "metadata": {},
   "source": [
    "A single doctor looks like this."
   ]
  },
  {
   "cell_type": "code",
   "execution_count": 159,
   "metadata": {
    "collapsed": false
   },
   "outputs": [
    {
     "data": {
      "text/plain": [
       "<div class=\"item-professionnel\"><div class=\"item-professionnel-inner\"><span class=\"num\">1</span><div class=\"nom_pictos\"><h2><a href=\"/professionnels-de-sante/recherche-1/fiche-detaillee-B7c1ljU3MjKz-f37e8ccd9299ffd0512f6451db3292f5.html\"><strong>LE QUOY</strong> OLIVIER</a></h2><div class=\"pictos\"></div><div class=\"clear\"></div></div><div class=\"clear\"></div><div class=\"elements\"><div class=\"item left\"></div><div class=\"item right type_honoraires\">Honoraires libres</div><div class=\"clear\"></div><div class=\"item left tel\">01 43 35 31 48</div><div class=\"item right convention\"><a alt=\"Les médecins fixent librement leurs tarifs et peuvent donc pratiquer des dépassements d’honoraires avec tact et mesure. L’Assurance Maladie rembourse les consultations et actes réalisés par ces médecins sur la base des tarifs fixés dans la convention (tarifs applicables au médecin de secteur 2), le montant des éventuels dépassements d’honoraires reste à votre charge.\" class=\"infobulle\" href=\"#\">Conventionné secteur 2</a></div><div class=\"clear\"></div><div class=\"item left adresse\">29 RUE D ALESIA<br/>75014 PARIS</div><div class=\"clear\"></div></div><div class=\"clear\"></div></div></div>"
      ]
     },
     "execution_count": 159,
     "metadata": {},
     "output_type": "execute_result"
    }
   ],
   "source": [
    "doctors[0]"
   ]
  },
  {
   "cell_type": "code",
   "execution_count": 160,
   "metadata": {
    "collapsed": false
   },
   "outputs": [
    {
     "data": {
      "text/plain": [
       "20"
      ]
     },
     "execution_count": 160,
     "metadata": {},
     "output_type": "execute_result"
    }
   ],
   "source": [
    "len(doctors)"
   ]
  },
  {
   "cell_type": "markdown",
   "metadata": {},
   "source": [
    "Let's write a function that allows us to extract just the things we want."
   ]
  },
  {
   "cell_type": "code",
   "execution_count": 161,
   "metadata": {
    "collapsed": false
   },
   "outputs": [],
   "source": [
    "block = doctors[0]"
   ]
  },
  {
   "cell_type": "code",
   "execution_count": 162,
   "metadata": {
    "collapsed": false
   },
   "outputs": [
    {
     "name": "stdout",
     "output_type": "stream",
     "text": [
      "<div class=\"item-professionnel\">\n",
      " <div class=\"item-professionnel-inner\">\n",
      "  <span class=\"num\">\n",
      "   1\n",
      "  </span>\n",
      "  <div class=\"nom_pictos\">\n",
      "   <h2>\n",
      "    <a href=\"/professionnels-de-sante/recherche-1/fiche-detaillee-B7c1ljU3MjKz-f37e8ccd9299ffd0512f6451db3292f5.html\">\n",
      "     <strong>\n",
      "      LE QUOY\n",
      "     </strong>\n",
      "     OLIVIER\n",
      "    </a>\n",
      "   </h2>\n",
      "   <div class=\"pictos\">\n",
      "   </div>\n",
      "   <div class=\"clear\">\n",
      "   </div>\n",
      "  </div>\n",
      "  <div class=\"clear\">\n",
      "  </div>\n",
      "  <div class=\"elements\">\n",
      "   <div class=\"item left\">\n",
      "   </div>\n",
      "   <div class=\"item right type_honoraires\">\n",
      "    Honoraires libres\n",
      "   </div>\n",
      "   <div class=\"clear\">\n",
      "   </div>\n",
      "   <div class=\"item left tel\">\n",
      "    01 43 35 31 48\n",
      "   </div>\n",
      "   <div class=\"item right convention\">\n",
      "    <a alt=\"Les médecins fixent librement leurs tarifs et peuvent donc pratiquer des dépassements d’honoraires avec tact et mesure. L’Assurance Maladie rembourse les consultations et actes réalisés par ces médecins sur la base des tarifs fixés dans la convention (tarifs applicables au médecin de secteur 2), le montant des éventuels dépassements d’honoraires reste à votre charge.\" class=\"infobulle\" href=\"#\">\n",
      "     Conventionné secteur 2\n",
      "    </a>\n",
      "   </div>\n",
      "   <div class=\"clear\">\n",
      "   </div>\n",
      "   <div class=\"item left adresse\">\n",
      "    29 RUE D ALESIA\n",
      "    <br/>\n",
      "    75014 PARIS\n",
      "   </div>\n",
      "   <div class=\"clear\">\n",
      "   </div>\n",
      "  </div>\n",
      "  <div class=\"clear\">\n",
      "  </div>\n",
      " </div>\n",
      "</div>\n",
      "\n"
     ]
    }
   ],
   "source": [
    "print(block.prettify())"
   ]
  },
  {
   "cell_type": "code",
   "execution_count": 163,
   "metadata": {
    "collapsed": false
   },
   "outputs": [
    {
     "data": {
      "text/plain": [
       "u'LE QUOY OLIVIER'"
      ]
     },
     "execution_count": 163,
     "metadata": {},
     "output_type": "execute_result"
    }
   ],
   "source": [
    "block.find('h2').text"
   ]
  },
  {
   "cell_type": "code",
   "execution_count": 164,
   "metadata": {
    "collapsed": false
   },
   "outputs": [],
   "source": [
    "name = block.find('h2')"
   ]
  },
  {
   "cell_type": "code",
   "execution_count": 165,
   "metadata": {
    "collapsed": false
   },
   "outputs": [
    {
     "data": {
      "text/plain": [
       "[u'LE QUOY', u'OLIVIER']"
      ]
     },
     "execution_count": 165,
     "metadata": {},
     "output_type": "execute_result"
    }
   ],
   "source": [
    "[text for text in name.stripped_strings]"
   ]
  },
  {
   "cell_type": "code",
   "execution_count": 166,
   "metadata": {
    "collapsed": false
   },
   "outputs": [
    {
     "data": {
      "text/plain": [
       "[u'29 RUE D ALESIA', u'75014 PARIS']"
      ]
     },
     "execution_count": 166,
     "metadata": {},
     "output_type": "execute_result"
    }
   ],
   "source": [
    "adr = block.find(\"div\", attrs={'class':\"item left adresse\"})\n",
    "[text for text in adr.stripped_strings]"
   ]
  },
  {
   "cell_type": "code",
   "execution_count": 167,
   "metadata": {
    "collapsed": false
   },
   "outputs": [
    {
     "data": {
      "text/plain": [
       "u'29 RUE D ALESIA75014 PARIS'"
      ]
     },
     "execution_count": 167,
     "metadata": {},
     "output_type": "execute_result"
    }
   ],
   "source": [
    "adr.get_text()"
   ]
  },
  {
   "cell_type": "code",
   "execution_count": 168,
   "metadata": {
    "collapsed": false
   },
   "outputs": [
    {
     "data": {
      "text/plain": [
       "u'29 RUE D ALESIA 75014 PARIS'"
      ]
     },
     "execution_count": 168,
     "metadata": {},
     "output_type": "execute_result"
    }
   ],
   "source": [
    "adr.get_text(' ')"
   ]
  },
  {
   "cell_type": "code",
   "execution_count": 169,
   "metadata": {
    "collapsed": false
   },
   "outputs": [
    {
     "data": {
      "text/plain": [
       "u'01\\xa043\\xa035\\xa031\\xa048'"
      ]
     },
     "execution_count": 169,
     "metadata": {},
     "output_type": "execute_result"
    }
   ],
   "source": [
    "block.find(\"div\", attrs={'class':\"item left tel\"}).text"
   ]
  },
  {
   "cell_type": "code",
   "execution_count": 170,
   "metadata": {
    "collapsed": false
   },
   "outputs": [
    {
     "data": {
      "text/plain": [
       "u'Honoraires libres'"
      ]
     },
     "execution_count": 170,
     "metadata": {},
     "output_type": "execute_result"
    }
   ],
   "source": [
    "block.find(\"div\", attrs={'class':\"item right type_honoraires\"}).text"
   ]
  },
  {
   "cell_type": "code",
   "execution_count": 171,
   "metadata": {
    "collapsed": false
   },
   "outputs": [
    {
     "data": {
      "text/plain": [
       "u'Conventionn\\xe9 secteur 2'"
      ]
     },
     "execution_count": 171,
     "metadata": {},
     "output_type": "execute_result"
    }
   ],
   "source": [
    "block.find(\"div\", attrs={'class':\"item right convention\"}).text"
   ]
  },
  {
   "cell_type": "code",
   "execution_count": 172,
   "metadata": {
    "collapsed": true
   },
   "outputs": [],
   "source": [
    "def extract_information(block):\n",
    "    name = block.find('h2')\n",
    "    address = block.find(\"div\", attrs={'class':\"item left adresse\"})\n",
    "    phone = block.find(\"div\", attrs={'class':\"item left tel\"})\n",
    "    prices = block.find(\"div\", attrs={'class':\"item right type_honoraires\"})\n",
    "    convention = block.find(\"div\", attrs={'class':\"item right convention\"})\n",
    "    return [item.get_text(' ') for item in [name, address, phone, prices, convention] if item is not None]"
   ]
  },
  {
   "cell_type": "code",
   "execution_count": 173,
   "metadata": {
    "collapsed": false
   },
   "outputs": [
    {
     "name": "stdout",
     "output_type": "stream",
     "text": [
      "[u'LE QUOY  OLIVIER', u'29 RUE D ALESIA 75014 PARIS', u'01\\xa043\\xa035\\xa031\\xa048', u'Honoraires libres', u'Conventionn\\xe9 secteur 2']\n",
      "[u'SELLAM  MICKAEL', u'CLINIQUE STE GENEVIEVE 29 RUE SARRETTE 75014 PARIS', u'Honoraires libres', u'Conventionn\\xe9 secteur 2']\n",
      "[u'BINN DEUTSCHER  SYLVIE', u'12 RUE DE LA TOMBE ISSOIRE 75014 PARIS', u'01\\xa045\\xa065\\xa004\\xa024', u'Honoraires libres', u'Conventionn\\xe9 secteur 2']\n",
      "[u'CHAMOUNI  HUBERT', u'95 AVENUE DU GAL LECLERC 75014 PARIS', u'Honoraires libres', u'Conventionn\\xe9 secteur 2']\n",
      "[u'CHARLOT  JEAN CLAUDE', u'228 BOULEVARD RASPAIL 75014 PARIS', u'01\\xa043\\xa022\\xa042\\xa033', u'Honoraires libres', u'Conventionn\\xe9 secteur 2']\n",
      "[u'COMMEAU  DOMINIQUE', u'22 RUE ERNEST CRESSON 75014 PARIS', u'01\\xa045\\xa041\\xa073\\xa063', u'Honoraires libres', u'Conventionn\\xe9 secteur 2']\n",
      "[u'VAN WENT  CHARLES', u'SELARL CHASSIGNOL VAN WENT 79 AVENUE DU GENERAL LECLERC 75014 PARIS', u'Honoraires libres', u'Conventionn\\xe9 secteur 2']\n",
      "[u'THAN TRONG  THONG', u'10 RUE DAGUERRE 75014 PARIS', u'01\\xa043\\xa035\\xa041\\xa003', u'Honoraires libres', u'Conventionn\\xe9 secteur 2']\n",
      "[u'CTRE SANTE MEDICAL DENTAIRE TISSERAND', u'CTRE SANTE MEDICAL DENTAIRE TISSERAND C A S VILLE DE PARIS 134 RUE D ALESIA 75014 PARIS']\n",
      "[u'BREZIN  ANTOINE', u'HOPITAL COCHIN 27 RUE DU FBG SAINT JACQUES 75014 PARIS', u'01\\xa058\\xa041\\xa022\\xa000', u'Honoraires libres', u'Conventionn\\xe9 secteur 2']\n",
      "[u'SULMAN  JEAN JACQUES', u'90 AVENUE DU MAINE 75014 PARIS', u'01\\xa040\\xa047\\xa000\\xa000', u'Honoraires libres', u'Conventionn\\xe9 secteur 2']\n",
      "[u'FELLER  MICHEL', u'118 BOULEVARD MONTPARNASSE 75014 PARIS', u'01\\xa043\\xa035\\xa008\\xa028', u'Honoraires libres', u'Conventionn\\xe9 secteur 2']\n",
      "[u'CHASSIGNOL  ALEXIS', u'SELARL CHASSIGNOL VAN WENT 79 AVENUE DU GENERAL LECLERC 75014 PARIS', u'01\\xa043\\xa027\\xa010\\xa069', u'Honoraires libres', u'Conventionn\\xe9 secteur 2']\n",
      "[u'MEYER  MARIE CLAUDE', u'29 BOULEVARD E.QUINET 75014 PARIS', u'01\\xa043\\xa020\\xa062\\xa055', u'Honoraires libres', u'Conventionn\\xe9 secteur 2']\n",
      "[u'KRETZ  GILLES', u'150 RUE R LOSSERAND 75014 PARIS', u'01\\xa040\\xa044\\xa065\\xa030', u'Honoraires libres', u'Conventionn\\xe9 secteur 2']\n",
      "[u'PUECH  MICHEL', u'SELARL DU DR MICHEL PUECH 7 RUE BOISSONADE 75014 PARIS', u'Honoraires libres', u'Conventionn\\xe9 secteur 2']\n",
      "[u'WERTHEL  ANDREE LUCE', u'24 AVENUE VILLEMAIN 75014 PARIS', u'01\\xa045\\xa042\\xa075\\xa074', u'Honoraires libres', u'Conventionn\\xe9 secteur 2']\n",
      "[u'MAGNANI  MATTEO', u'29 RUE SARRETTE. 75014 PARIS', u'Honoraires libres', u'Conventionn\\xe9 secteur 2']\n",
      "[u'GIRARD DECIS  ANAIS', u'244 BOULEVARD RASPAIL 75014 PARIS', u'Honoraires libres', u'Conventionn\\xe9 secteur 2']\n",
      "[u'KELLER  PIERRE', u'3 RUE VICTOR CONSIDERANT 75014 PARIS', u'01\\xa043\\xa035\\xa043\\xa033', u'Honoraires libres', u'Conventionn\\xe9 secteur 2']\n"
     ]
    }
   ],
   "source": [
    "for doc in doctors:\n",
    "    print(extract_information(doc))"
   ]
  },
  {
   "cell_type": "code",
   "execution_count": 174,
   "metadata": {
    "collapsed": true
   },
   "outputs": [],
   "source": [
    "import pandas as pd"
   ]
  },
  {
   "cell_type": "code",
   "execution_count": 175,
   "metadata": {
    "collapsed": false
   },
   "outputs": [
    {
     "data": {
      "text/html": [
       "<div style=\"max-height:1000px;max-width:1500px;overflow:auto;\">\n",
       "<table border=\"1\" class=\"dataframe\">\n",
       "  <thead>\n",
       "    <tr style=\"text-align: right;\">\n",
       "      <th></th>\n",
       "      <th>0</th>\n",
       "      <th>1</th>\n",
       "      <th>2</th>\n",
       "      <th>3</th>\n",
       "      <th>4</th>\n",
       "    </tr>\n",
       "  </thead>\n",
       "  <tbody>\n",
       "    <tr>\n",
       "      <th>0 </th>\n",
       "      <td>                      LE QUOY  OLIVIER</td>\n",
       "      <td>                       29 RUE D ALESIA 75014 PARIS</td>\n",
       "      <td>    01 43 35 31 48</td>\n",
       "      <td>      Honoraires libres</td>\n",
       "      <td> Conventionné secteur 2</td>\n",
       "    </tr>\n",
       "    <tr>\n",
       "      <th>1 </th>\n",
       "      <td>                       SELLAM  MICKAEL</td>\n",
       "      <td> CLINIQUE STE GENEVIEVE 29 RUE SARRETTE 75014 P...</td>\n",
       "      <td> Honoraires libres</td>\n",
       "      <td> Conventionné secteur 2</td>\n",
       "      <td>                   None</td>\n",
       "    </tr>\n",
       "    <tr>\n",
       "      <th>2 </th>\n",
       "      <td>                BINN DEUTSCHER  SYLVIE</td>\n",
       "      <td>            12 RUE DE LA TOMBE ISSOIRE 75014 PARIS</td>\n",
       "      <td>    01 45 65 04 24</td>\n",
       "      <td>      Honoraires libres</td>\n",
       "      <td> Conventionné secteur 2</td>\n",
       "    </tr>\n",
       "    <tr>\n",
       "      <th>3 </th>\n",
       "      <td>                      CHAMOUNI  HUBERT</td>\n",
       "      <td>              95 AVENUE DU GAL LECLERC 75014 PARIS</td>\n",
       "      <td> Honoraires libres</td>\n",
       "      <td> Conventionné secteur 2</td>\n",
       "      <td>                   None</td>\n",
       "    </tr>\n",
       "    <tr>\n",
       "      <th>4 </th>\n",
       "      <td>                  CHARLOT  JEAN CLAUDE</td>\n",
       "      <td>                 228 BOULEVARD RASPAIL 75014 PARIS</td>\n",
       "      <td>    01 43 22 42 33</td>\n",
       "      <td>      Honoraires libres</td>\n",
       "      <td> Conventionné secteur 2</td>\n",
       "    </tr>\n",
       "    <tr>\n",
       "      <th>5 </th>\n",
       "      <td>                    COMMEAU  DOMINIQUE</td>\n",
       "      <td>                 22 RUE ERNEST CRESSON 75014 PARIS</td>\n",
       "      <td>    01 45 41 73 63</td>\n",
       "      <td>      Honoraires libres</td>\n",
       "      <td> Conventionné secteur 2</td>\n",
       "    </tr>\n",
       "    <tr>\n",
       "      <th>6 </th>\n",
       "      <td>                     VAN WENT  CHARLES</td>\n",
       "      <td> SELARL CHASSIGNOL VAN WENT 79 AVENUE DU GENERA...</td>\n",
       "      <td> Honoraires libres</td>\n",
       "      <td> Conventionné secteur 2</td>\n",
       "      <td>                   None</td>\n",
       "    </tr>\n",
       "    <tr>\n",
       "      <th>7 </th>\n",
       "      <td>                     THAN TRONG  THONG</td>\n",
       "      <td>                       10 RUE DAGUERRE 75014 PARIS</td>\n",
       "      <td>    01 43 35 41 03</td>\n",
       "      <td>      Honoraires libres</td>\n",
       "      <td> Conventionné secteur 2</td>\n",
       "    </tr>\n",
       "    <tr>\n",
       "      <th>8 </th>\n",
       "      <td> CTRE SANTE MEDICAL DENTAIRE TISSERAND</td>\n",
       "      <td> CTRE SANTE MEDICAL DENTAIRE TISSERAND C A S VI...</td>\n",
       "      <td>              None</td>\n",
       "      <td>                   None</td>\n",
       "      <td>                   None</td>\n",
       "    </tr>\n",
       "    <tr>\n",
       "      <th>9 </th>\n",
       "      <td>                       BREZIN  ANTOINE</td>\n",
       "      <td> HOPITAL COCHIN 27 RUE DU FBG SAINT JACQUES 750...</td>\n",
       "      <td>    01 58 41 22 00</td>\n",
       "      <td>      Honoraires libres</td>\n",
       "      <td> Conventionné secteur 2</td>\n",
       "    </tr>\n",
       "    <tr>\n",
       "      <th>10</th>\n",
       "      <td>                  SULMAN  JEAN JACQUES</td>\n",
       "      <td>                    90 AVENUE DU MAINE 75014 PARIS</td>\n",
       "      <td>    01 40 47 00 00</td>\n",
       "      <td>      Honoraires libres</td>\n",
       "      <td> Conventionné secteur 2</td>\n",
       "    </tr>\n",
       "    <tr>\n",
       "      <th>11</th>\n",
       "      <td>                        FELLER  MICHEL</td>\n",
       "      <td>            118 BOULEVARD MONTPARNASSE 75014 PARIS</td>\n",
       "      <td>    01 43 35 08 28</td>\n",
       "      <td>      Honoraires libres</td>\n",
       "      <td> Conventionné secteur 2</td>\n",
       "    </tr>\n",
       "    <tr>\n",
       "      <th>12</th>\n",
       "      <td>                    CHASSIGNOL  ALEXIS</td>\n",
       "      <td> SELARL CHASSIGNOL VAN WENT 79 AVENUE DU GENERA...</td>\n",
       "      <td>    01 43 27 10 69</td>\n",
       "      <td>      Honoraires libres</td>\n",
       "      <td> Conventionné secteur 2</td>\n",
       "    </tr>\n",
       "    <tr>\n",
       "      <th>13</th>\n",
       "      <td>                   MEYER  MARIE CLAUDE</td>\n",
       "      <td>                 29 BOULEVARD E.QUINET 75014 PARIS</td>\n",
       "      <td>    01 43 20 62 55</td>\n",
       "      <td>      Honoraires libres</td>\n",
       "      <td> Conventionné secteur 2</td>\n",
       "    </tr>\n",
       "    <tr>\n",
       "      <th>14</th>\n",
       "      <td>                         KRETZ  GILLES</td>\n",
       "      <td>                   150 RUE R LOSSERAND 75014 PARIS</td>\n",
       "      <td>    01 40 44 65 30</td>\n",
       "      <td>      Honoraires libres</td>\n",
       "      <td> Conventionné secteur 2</td>\n",
       "    </tr>\n",
       "    <tr>\n",
       "      <th>15</th>\n",
       "      <td>                         PUECH  MICHEL</td>\n",
       "      <td> SELARL DU DR MICHEL PUECH 7 RUE BOISSONADE 750...</td>\n",
       "      <td> Honoraires libres</td>\n",
       "      <td> Conventionné secteur 2</td>\n",
       "      <td>                   None</td>\n",
       "    </tr>\n",
       "    <tr>\n",
       "      <th>16</th>\n",
       "      <td>                  WERTHEL  ANDREE LUCE</td>\n",
       "      <td>                   24 AVENUE VILLEMAIN 75014 PARIS</td>\n",
       "      <td>    01 45 42 75 74</td>\n",
       "      <td>      Honoraires libres</td>\n",
       "      <td> Conventionné secteur 2</td>\n",
       "    </tr>\n",
       "    <tr>\n",
       "      <th>17</th>\n",
       "      <td>                       MAGNANI  MATTEO</td>\n",
       "      <td>                      29 RUE SARRETTE. 75014 PARIS</td>\n",
       "      <td> Honoraires libres</td>\n",
       "      <td> Conventionné secteur 2</td>\n",
       "      <td>                   None</td>\n",
       "    </tr>\n",
       "    <tr>\n",
       "      <th>18</th>\n",
       "      <td>                   GIRARD DECIS  ANAIS</td>\n",
       "      <td>                 244 BOULEVARD RASPAIL 75014 PARIS</td>\n",
       "      <td> Honoraires libres</td>\n",
       "      <td> Conventionné secteur 2</td>\n",
       "      <td>                   None</td>\n",
       "    </tr>\n",
       "    <tr>\n",
       "      <th>19</th>\n",
       "      <td>                        KELLER  PIERRE</td>\n",
       "      <td>              3 RUE VICTOR CONSIDERANT 75014 PARIS</td>\n",
       "      <td>    01 43 35 43 33</td>\n",
       "      <td>      Honoraires libres</td>\n",
       "      <td> Conventionné secteur 2</td>\n",
       "    </tr>\n",
       "  </tbody>\n",
       "</table>\n",
       "</div>"
      ],
      "text/plain": [
       "                                        0  \\\n",
       "0                        LE QUOY  OLIVIER   \n",
       "1                         SELLAM  MICKAEL   \n",
       "2                  BINN DEUTSCHER  SYLVIE   \n",
       "3                        CHAMOUNI  HUBERT   \n",
       "4                    CHARLOT  JEAN CLAUDE   \n",
       "5                      COMMEAU  DOMINIQUE   \n",
       "6                       VAN WENT  CHARLES   \n",
       "7                       THAN TRONG  THONG   \n",
       "8   CTRE SANTE MEDICAL DENTAIRE TISSERAND   \n",
       "9                         BREZIN  ANTOINE   \n",
       "10                   SULMAN  JEAN JACQUES   \n",
       "11                         FELLER  MICHEL   \n",
       "12                     CHASSIGNOL  ALEXIS   \n",
       "13                    MEYER  MARIE CLAUDE   \n",
       "14                          KRETZ  GILLES   \n",
       "15                          PUECH  MICHEL   \n",
       "16                   WERTHEL  ANDREE LUCE   \n",
       "17                        MAGNANI  MATTEO   \n",
       "18                    GIRARD DECIS  ANAIS   \n",
       "19                         KELLER  PIERRE   \n",
       "\n",
       "                                                    1                  2  \\\n",
       "0                         29 RUE D ALESIA 75014 PARIS     01 43 35 31 48   \n",
       "1   CLINIQUE STE GENEVIEVE 29 RUE SARRETTE 75014 P...  Honoraires libres   \n",
       "2              12 RUE DE LA TOMBE ISSOIRE 75014 PARIS     01 45 65 04 24   \n",
       "3                95 AVENUE DU GAL LECLERC 75014 PARIS  Honoraires libres   \n",
       "4                   228 BOULEVARD RASPAIL 75014 PARIS     01 43 22 42 33   \n",
       "5                   22 RUE ERNEST CRESSON 75014 PARIS     01 45 41 73 63   \n",
       "6   SELARL CHASSIGNOL VAN WENT 79 AVENUE DU GENERA...  Honoraires libres   \n",
       "7                         10 RUE DAGUERRE 75014 PARIS     01 43 35 41 03   \n",
       "8   CTRE SANTE MEDICAL DENTAIRE TISSERAND C A S VI...               None   \n",
       "9   HOPITAL COCHIN 27 RUE DU FBG SAINT JACQUES 750...     01 58 41 22 00   \n",
       "10                     90 AVENUE DU MAINE 75014 PARIS     01 40 47 00 00   \n",
       "11             118 BOULEVARD MONTPARNASSE 75014 PARIS     01 43 35 08 28   \n",
       "12  SELARL CHASSIGNOL VAN WENT 79 AVENUE DU GENERA...     01 43 27 10 69   \n",
       "13                  29 BOULEVARD E.QUINET 75014 PARIS     01 43 20 62 55   \n",
       "14                    150 RUE R LOSSERAND 75014 PARIS     01 40 44 65 30   \n",
       "15  SELARL DU DR MICHEL PUECH 7 RUE BOISSONADE 750...  Honoraires libres   \n",
       "16                    24 AVENUE VILLEMAIN 75014 PARIS     01 45 42 75 74   \n",
       "17                       29 RUE SARRETTE. 75014 PARIS  Honoraires libres   \n",
       "18                  244 BOULEVARD RASPAIL 75014 PARIS  Honoraires libres   \n",
       "19               3 RUE VICTOR CONSIDERANT 75014 PARIS     01 43 35 43 33   \n",
       "\n",
       "                         3                       4  \n",
       "0        Honoraires libres  Conventionné secteur 2  \n",
       "1   Conventionné secteur 2                    None  \n",
       "2        Honoraires libres  Conventionné secteur 2  \n",
       "3   Conventionné secteur 2                    None  \n",
       "4        Honoraires libres  Conventionné secteur 2  \n",
       "5        Honoraires libres  Conventionné secteur 2  \n",
       "6   Conventionné secteur 2                    None  \n",
       "7        Honoraires libres  Conventionné secteur 2  \n",
       "8                     None                    None  \n",
       "9        Honoraires libres  Conventionné secteur 2  \n",
       "10       Honoraires libres  Conventionné secteur 2  \n",
       "11       Honoraires libres  Conventionné secteur 2  \n",
       "12       Honoraires libres  Conventionné secteur 2  \n",
       "13       Honoraires libres  Conventionné secteur 2  \n",
       "14       Honoraires libres  Conventionné secteur 2  \n",
       "15  Conventionné secteur 2                    None  \n",
       "16       Honoraires libres  Conventionné secteur 2  \n",
       "17  Conventionné secteur 2                    None  \n",
       "18  Conventionné secteur 2                    None  \n",
       "19       Honoraires libres  Conventionné secteur 2  "
      ]
     },
     "execution_count": 175,
     "metadata": {},
     "output_type": "execute_result"
    }
   ],
   "source": [
    "pd.DataFrame([extract_information(doc) for doc in doctors])"
   ]
  },
  {
   "cell_type": "markdown",
   "metadata": {
    "collapsed": true
   },
   "source": [
    "# Extending the search: going for the 20 results per pages "
   ]
  },
  {
   "cell_type": "markdown",
   "metadata": {},
   "source": [
    "If there are more than 20 results for a given query, you only get them 20 by 20. The idea is to read this information from the first source and then perform the additional queries needed."
   ]
  },
  {
   "cell_type": "code",
   "execution_count": 176,
   "metadata": {
    "collapsed": false
   },
   "outputs": [
    {
     "data": {
      "text/plain": [
       "{'content-encoding': 'gzip', 'transfer-encoding': 'chunked', 'expires': 'Mon, 19 Oct 2015 13:37:12 GMT', 'vary': 'Accept-Encoding', 'connection': 'close', 'pragma': 'no-cache', 'cache-control': 'no-store, no-cache, must-revalidate, post-check=0, pre-check=0', 'date': 'Mon, 19 Oct 2015 12:37:13 GMT', 'x-powered-by': 'Zend Framework 1.12.3', 'content-type': 'text/html; charset=UTF-8'}"
      ]
     },
     "execution_count": 176,
     "metadata": {},
     "output_type": "execute_result"
    }
   ],
   "source": [
    "r.headers"
   ]
  },
  {
   "cell_type": "code",
   "execution_count": 177,
   "metadata": {
    "collapsed": false
   },
   "outputs": [
    {
     "data": {
      "text/plain": [
       "{'Connection': 'keep-alive', 'Cookie': 'TS01b76c1f=0139dce0d28a9787802f747bcf08b6311fb05ccb4900b3de48d0dd0cef0edb971ad476c5f5d562a2319762d297a76ee857a78f2b93d3e5edc3568d2fa9675da7728b624e5a; infosoins=qbm8t56jclinm2kcdduqs51dc1; AmeliDirectPersist=359719223.20480.0000', 'Accept-Encoding': 'gzip, deflate', 'Accept': '*/*', 'User-Agent': 'Mozilla/5.0 (Windows NT 6.1; WOW64) AppleWebKit/537.36 (KHTML, like Gecko) Chrome/46.0.2490.71 Safari/537.36'}"
      ]
     },
     "execution_count": 177,
     "metadata": {},
     "output_type": "execute_result"
    }
   ],
   "source": [
    "r.request.headers"
   ]
  },
  {
   "cell_type": "markdown",
   "metadata": {},
   "source": [
    "The URL containing the next doctors can be found in the request url."
   ]
  },
  {
   "cell_type": "code",
   "execution_count": 178,
   "metadata": {
    "collapsed": false
   },
   "outputs": [
    {
     "data": {
      "text/plain": [
       "u'http://ameli-direct.ameli.fr/professionnels-de-sante/recherche-1/liste-resultats-page-1-par_page-20-tri-aleatoire-f37e8ccd9299ffd0512f6451db3292f5.html'"
      ]
     },
     "execution_count": 178,
     "metadata": {},
     "output_type": "execute_result"
    }
   ],
   "source": [
    "r.url"
   ]
  },
  {
   "cell_type": "markdown",
   "metadata": {},
   "source": [
    "We can also find the number of doctors found in the body of the previous request."
   ]
  },
  {
   "cell_type": "code",
   "execution_count": 179,
   "metadata": {
    "collapsed": true
   },
   "outputs": [],
   "source": [
    "soup = BeautifulSoup(r.text)"
   ]
  },
  {
   "cell_type": "code",
   "execution_count": 180,
   "metadata": {
    "collapsed": false
   },
   "outputs": [
    {
     "data": {
      "text/plain": [
       "[<h1><img alt=\"Annuaire santé\" class=\"logosite\" src=\"/resources_ver/20150826115145/images/accueil/logo_amelidirect.png\"/></h1>,\n",
       " <h1>26 résultats correspondent à votre recherche</h1>]"
      ]
     },
     "execution_count": 180,
     "metadata": {},
     "output_type": "execute_result"
    }
   ],
   "source": [
    "tags = soup.find_all(name=\"h1\")\n",
    "tags"
   ]
  },
  {
   "cell_type": "code",
   "execution_count": 181,
   "metadata": {
    "collapsed": false
   },
   "outputs": [
    {
     "name": "stdout",
     "output_type": "stream",
     "text": [
      "26 résultats correspondent à votre recherche\n"
     ]
    }
   ],
   "source": [
    "for tag in tags:\n",
    "    if tag.string is not None:\n",
    "        print(tag.string)"
   ]
  },
  {
   "cell_type": "code",
   "execution_count": 182,
   "metadata": {
    "collapsed": false
   },
   "outputs": [],
   "source": [
    "p = re.compile(u\"(\\d+) résultats correspondent à votre recherche\")"
   ]
  },
  {
   "cell_type": "code",
   "execution_count": 183,
   "metadata": {
    "collapsed": false
   },
   "outputs": [
    {
     "name": "stdout",
     "output_type": "stream",
     "text": [
      "26\n"
     ]
    }
   ],
   "source": [
    "for tag in tags:\n",
    "    if tag.string is not None:\n",
    "        print(p.findall(tag.string)[0])"
   ]
  },
  {
   "cell_type": "code",
   "execution_count": 236,
   "metadata": {
    "collapsed": true
   },
   "outputs": [],
   "source": [
    "def extract_number_of_doctors(soup):\n",
    "    p = re.compile(u\"(\\d+) résultats correspondent à votre recherche\")\n",
    "    tags = soup.find_all(name=\"h1\")\n",
    "    for tag in tags:\n",
    "        if tag.string is not None:\n",
    "            return int(p.findall(tag.string)[0])\n",
    "    return 0"
   ]
  },
  {
   "cell_type": "code",
   "execution_count": 237,
   "metadata": {
    "collapsed": false
   },
   "outputs": [
    {
     "data": {
      "text/plain": [
       "26"
      ]
     },
     "execution_count": 237,
     "metadata": {},
     "output_type": "execute_result"
    }
   ],
   "source": [
    "extract_number_of_doctors(soup)"
   ]
  },
  {
   "cell_type": "markdown",
   "metadata": {},
   "source": [
    "Now, we can automate the process of fetching pages. Here, we need to go until 26 doctors, so the number of pages to retrieve is 2."
   ]
  },
  {
   "cell_type": "code",
   "execution_count": 189,
   "metadata": {
    "collapsed": true
   },
   "outputs": [],
   "source": [
    "import math"
   ]
  },
  {
   "cell_type": "code",
   "execution_count": 192,
   "metadata": {
    "collapsed": false
   },
   "outputs": [
    {
     "name": "stdout",
     "output_type": "stream",
     "text": [
      "1\n",
      "2\n"
     ]
    }
   ],
   "source": [
    "for pagenumber in range(1, int(math.ceil(extract_number_of_doctors(soup) / 20.)) + 1):\n",
    "    print pagenumber"
   ]
  },
  {
   "cell_type": "code",
   "execution_count": 193,
   "metadata": {
    "collapsed": false
   },
   "outputs": [
    {
     "data": {
      "text/plain": [
       "u'http://ameli-direct.ameli.fr/professionnels-de-sante/recherche-1/liste-resultats-page-1-par_page-20-tri-aleatoire-f37e8ccd9299ffd0512f6451db3292f5.html'"
      ]
     },
     "execution_count": 193,
     "metadata": {},
     "output_type": "execute_result"
    }
   ],
   "source": [
    "r.url"
   ]
  },
  {
   "cell_type": "code",
   "execution_count": 194,
   "metadata": {
    "collapsed": false
   },
   "outputs": [
    {
     "name": "stdout",
     "output_type": "stream",
     "text": [
      "http://ameli-direct.ameli.fr/professionnels-de-sante/recherche-1/liste-resultats-page-1-par_page-20-tri-aleatoire-f37e8ccd9299ffd0512f6451db3292f5.html\n",
      "http://ameli-direct.ameli.fr/professionnels-de-sante/recherche-1/liste-resultats-page-2-par_page-20-tri-aleatoire-f37e8ccd9299ffd0512f6451db3292f5.html\n"
     ]
    }
   ],
   "source": [
    "for pagenumber in range(1, int(math.ceil(extract_number_of_doctors(soup) / 20.)) + 1):\n",
    "    print(r.url.replace(\"liste-resultats-page-1-par_page-20\", \"liste-resultats-page-{}-par_page-20\").format(pagenumber))"
   ]
  },
  {
   "cell_type": "code",
   "execution_count": 195,
   "metadata": {
    "collapsed": true
   },
   "outputs": [],
   "source": [
    "r2 = s.post(r.url.replace(\"liste-resultats-page-1-par_page-20\", \"liste-resultats-page-{}-par_page-20\").format(2))"
   ]
  },
  {
   "cell_type": "code",
   "execution_count": 196,
   "metadata": {
    "collapsed": false
   },
   "outputs": [
    {
     "data": {
      "text/plain": [
       "<Response [200]>"
      ]
     },
     "execution_count": 196,
     "metadata": {},
     "output_type": "execute_result"
    }
   ],
   "source": [
    "r2"
   ]
  },
  {
   "cell_type": "code",
   "execution_count": 197,
   "metadata": {
    "collapsed": false
   },
   "outputs": [
    {
     "data": {
      "text/plain": [
       "u'<!DOCTYPE html PUBLIC \"-//W3C//DTD XHTML 1.0 Transitional//EN\" \"http://www.w3.org/TR/xhtml1/DTD/xhtml1-transitional.dtd\"><html xmlns=\"http://www.w3.org/1999/xhtml\" xml:lang=\"fr\">\\n<head>\\n\\t<title>Annuaire sant\\xe9 d\\'ameli.fr : trouver un m\\xe9decin, un h\\xf4pital...</title>\\n\\t<meta name=\"description\" content=\"L\\u2019annuaire sant\\xe9 de l\\u2019Assurance Maladie pour trouver un m\\xe9decin, un kin\\xe9, un h\\xf4pital\\u2026 Tarifs \\u2013 Horaires \\u2013 Sp\\xe9cialit\\xe9s - Localisation\" />\\n\\t<meta http-equiv=\"X-UA-Compatible\" content=\"IE=edge\">\\n<meta http-equiv=\"Content-Type\" content=\"text/html;charset=UTF-8\" />\\n<meta name=\"robots\" content=\"noindex, nofollow\" /><link href=\"/resources_ver/20150826115145/css/print_new.css\" media=\"print\" rel=\"stylesheet\" type=\"text/css\" />\\n<link href=\"/resources_ver/20150826115145/css/jquery.qtip.css\" media=\"screen\" rel=\"stylesheet\" type=\"text/css\" />\\n<link href=\"/resources_ver/20150826115145/css/styles_new.css\" media=\"screen\" rel=\"stylesheet\" type=\"text/css\" />\\n<link href=\"/resources_ver/20150826115145/css/ui-lightness/jquery-ui-1.10.3.custom.min.css\" media=\"all\" rel=\"stylesheet\" type=\"text/css\" />\\n<link href=\"http://fonts.googleapis.com/css?family=Droid+Sans:700,400\" media=\"all\" rel=\"stylesheet\" type=\"text/css\" />\\n<link href=\"/resources_ver/20150826115145/css/geoportail.css\" media=\"all\" rel=\"stylesheet\" type=\"text/css\" />\\n<!--[if IE]> <link href=\"/resources_ver/20150826115145/css/styles_ie_new.css\" media=\"screen\" rel=\"stylesheet\" type=\"text/css\" /><![endif]-->\\n<!--[if IE 7]> <link href=\"/resources_ver/20150826115145/css/styles_ie7.css\" media=\"screen\" rel=\"stylesheet\" type=\"text/css\" /><![endif]--><script type=\"text/javascript\" src=\"/resources_ver/20150826115145/js/jquery-1.10.2.min.js\"></script>\\n<script type=\"text/javascript\" src=\"/resources_ver/20150826115145/js/jquery-ui-1.10.3.custom.min.js\"></script>\\n<script type=\"text/javascript\" src=\"http://api.ign.fr/geoportail/api/js/latest/GeoportalExtended.js\"></script>\\n<script type=\"text/javascript\" src=\"/resources_ver/20150826115145/js/geoportail.utils.js\"></script>\\n<script type=\"text/javascript\" src=\"/resources_ver/20150826115145/js/jquery.popin.40.js\"></script>\\n<script type=\"text/javascript\" src=\"/resources_ver/20150826115145/js/selectmenu.uncompressed.js\"></script>\\n<script type=\"text/javascript\" src=\"/resources_ver/20150826115145/js/jquery.qtip.js\"></script>\\n<script type=\"text/javascript\" src=\"/resources_ver/20150826115145/js/BrowserDetect.js\"></script>\\n<script type=\"text/javascript\" src=\"/resources_ver/20150826115145/js/scripts.uncompressed.js\"></script></head>\\n<body>\\n<div id=\"site\" >\\n\\t<div id=\"entete\">\\n\\t<a href=\"/\" title=\"\"><img class=\"logoam\" alt=\"L\\'Assurance Maladie\" src=\"/resources_ver/20150826115145/images/accueil/logo_am.png\"/></a>\\n\\t<h1><img src=\"/resources_ver/20150826115145/images/accueil/logo_amelidirect.png\" alt=\"Annuaire sant\\xe9\" class=\"logosite\" /></h1>\\n\\t<img src=\"/resources_ver/20150826115145/images/accueil/liner.gif\" alt=\"Je m\\'informe avant de consulter\" class=\"liner\" />\\n\\t <div class=\"encart_haut_ameli\">\\n\\t\\t<div class=\"acces\">\\n\\t\\t\\t<a target=\"_blank\" href=\"https://assure.ameli.fr/\" >Acc\\xe9der \\xe0 mon compte</a>\\n\\t\\t\\t\\t</div>\\n\\t\\t<div class=\"ouvrir\">\\n\\t\\t\\t<a target=\"_blank\" href=\"https://assure.ameli.fr/\">Ouvrir mon compte</a>\\n\\t\\t</div>\\n\\t</div>\\n</div>\\t    \\t<div id=\"site_inner\" >\\n                            \\t\\t<div id=\"filariane\" class=\"ariane\">\\n    \\t\\t\\t<p><span><a href=\"/\">Accueil</a></span> &gt; <span><a href=\"/nouvelle-recherche/professionnels-de-sante.html\">Professionnels de sant\\xe9</a></span> &gt; <span>R\\xe9sultats de la recherche</span></p>\\n    \\t\\t</div>\\n    \\t\\t<div class=\"print-result impression\"><a href=\"?print\" target=\"_blank\">Imprimer la liste de r\\xe9sultats</a></div>\\n<div class=\"clear\"></div>\\n<div class=\"recapitulatif\">\\n\\t<div class=\"recapitulatif-inner\">\\n\\t        \\t<div class=\"infos\">\\n            <div class=\"boutons\">\\n                <a href=\"/modifier_votre_recherche_1.html\">\\n            \\t    <span><span>Modifier votre recherche</span></span>\\n                </a>\\n                <a href=\"/nouvelle-recherche/professionnels-de-sante.html\" class=\"loupe\">\\n                    <span><span>Nouvelle recherche</span></span>\\n                </a>\\n            </div>\\n            <h1>26 r\\xe9sultats correspondent \\xe0 votre recherche</h1>\\n            <ul>\\n            \\t<li>Profession&nbsp;: Ophtalmologiste</li>\\n                <li>Lieu&nbsp;: 75014</li>\\n                            </ul>\\n                        <div class=\"mention\">Dans la liste ci-dessous, ne figurent que les professionnels de sant\\xe9 qui exercent une activit\\xe9 lib\\xe9rale et les centres de sant\\xe9.</div>\\n                    </div>  \\n        <div class=\"carte\"><a href=\"/carte-1-f37e8ccd9299ffd0512f6451db3292f5.html\" class=\"modaleCarteLink\"><img src=\"/resources_ver/20150826115145/images/lien_carte.png\" alt=\"Voir les r\\xe9sultats sur une carte\" /></a></div>\\t\\t<div class=\"clear\"></div>\\n\\t</div>\\n</div>\\n<div class=\"liste-criteres\">\\n\\t    \\t        \\t<div class=\"bloc-critere\">\\n        \\t\\t<div class=\"bloc-haut-critere\"></div>\\n        \\t\\t<a class=\"infos\" href=\"/fenetre-modale-xhr/information_facette_type_honoraires.html\"><img src=\"/resources_ver/20150826115145/images/picto_info.gif\" alt=\"Infos\" /></a>\\n        \\t\\t<h2><img alt=\"Affichez les professionnels de sant\\xe9 selon le type d\\u2019honoraires\" src=\"/resources_ver/20150826115145/images/picto_euro.png\" class=\"picto_facette\">Affichez les professionnels de sant\\xe9 selon le type d\\u2019honoraires</h2>\\n    \\t\\t\\t<ul>\\n        \\t\\t\\t        \\t\\t\\t\\t<li><a href=\"/recherche-facette-1-f37e8ccd9299ffd0512f6451db3292f5/type_honoraires-tarif-sans-depassement.html\">Honoraires sans d\\xe9passement (1)</a></li>        \\t\\t\\t        \\t\\t\\t\\t<li><a href=\"/recherche-facette-1-f37e8ccd9299ffd0512f6451db3292f5/type_honoraires-tarif-libre.html\">Honoraires libres (24)</a></li>        \\t\\t\\t        \\t\\t\\t\\t<li><a href=\"/recherche-facette-1-f37e8ccd9299ffd0512f6451db3292f5/type_honoraires-conventionne.html\">Conventionn\\xe9 (1)</a></li>        \\t\\t\\t        \\t\\t</ul>\\n        \\t\\t<div class=\"bloc-bas-critere\"></div>\\n        \\t</div>\\n    \\t    \\t    \\t\\n        \\t<div class=\"bloc-critere\">\\n        \\t\\t<div class=\"bloc-haut-critere\"></div>\\n        \\t\\t<h2>Affichez les professionnels de sant\\xe9 indiquant leurs horaires</h2>\\n        \\t\\t<ul>\\n\\t    \\t\\t\\t        \\t\\t\\t\\t<li>\\n            \\t\\t\\t\\t<a href=\"/recherche-facette-1-f37e8ccd9299ffd0512f6451db3292f5/horaires-1.html\"><img src=\"/resources_ver/20150826115145/images/picto_horaires.png\" alt=\"\" /><span>Le m\\xe9decin a indiqu\\xe9 ses horaires (1)</span></a>\\n            \\t\\t\\t</li>\\n    \\t\\t\\t\\t\\n    \\t\\t\\t\\t    \\t\\t\\t\\t\\n        \\t\\t</ul>\\n        \\t\\t<div class=\"bloc-bas-critere\"></div>\\n        \\t</div>\\n    \\t    \\t    \\t\\n        \\t<div class=\"bloc-critere\">\\n        \\t\\t<div class=\"bloc-haut-critere\"></div>\\n        \\t\\t<h2>Affichez les professionnels de sant\\xe9 acceptant la carte Vitale</h2>\\n        \\t\\t<ul>\\n        \\t\\t\\t            \\t\\t\\t<li>\\n            \\t\\t\\t\\t<a href=\"/recherche-facette-1-f37e8ccd9299ffd0512f6451db3292f5/carte_vitale-1.html\"><img src=\"/resources_ver/20150826115145/images/picto_cartevitale.png\" alt=\"\" /><span>Avec carte Vitale (17)</span></a>\\n            \\t\\t\\t</li>\\n        \\t\\t\\t        \\t\\t</ul>\\n        \\t\\t<div class=\"bloc-bas-critere\"></div>\\n        \\t</div>\\n    \\t    \\t    \\t\\n    \\t<!-- facette centre des sante -->\\n    \\t    \\t\\n        \\t<div class=\"bloc-critere\">\\n        \\t\\t<div class=\"bloc-haut-critere\"></div>\\n        \\t\\t<h2>Affichez les centres de sant\\xe9</h2>\\n        \\t\\t<ul>\\n        \\t\\t\\t            \\t\\t\\t<li>\\n            \\t\\t\\t\\t<a href=\"/recherche-facette-1-f37e8ccd9299ffd0512f6451db3292f5/categorie-CENTRE_DE_SANTE.html\"><img src=\"/resources_ver/20150826115145/images/picto_facette_centre_sante.png\" alt=\"\" /><span>Centre de sant\\xe9 (1)</span></a>\\n            \\t\\t\\t</li>\\n        \\t\\t\\t        \\t\\t</ul>\\n        \\t\\t<div class=\"bloc-bas-critere\"></div>\\n        \\t</div>\\n    \\t    \\t\\n    \\t\\n    </div>\\n<div class=\"resultats\">\\n\\t<div id=\"hautcadre\"></div>\\n\\t<div id=\"centrecadre\">\\n\\t\\t<div class=\"tri\">\\n\\t\\t\\t<form id=\"form_tri\" action=\"\">\\n\\t\\t\\t\\t<label for=\"tri-haut\">Trier par</label>\\n\\t\\t\\t\\t<select id=\"form_tri_select\" name=\"sorting\" onchange=\"document.getElementById(\\'form_tri\\').submit()\">\\n\\t            \\t<option value=\"aleatoire\"> - </option>\\t                    <option value=\"nom_asc\">Nom</option>\\n\\t            \\t    \\t                    <option value=\"carte-vitale_desc\">Carte Vitale</option>\\n\\t            \\t    \\t                    <option value=\"secteur_asc\">Type d&#039;honoraires</option>\\n\\t            \\t    \\t            </select>\\n\\t           <button type=\"submit\" title=\"Trier\" class=\"boutons\"><a href=\"#\"><span><span>Trier</span></span></a></button>\\n            </form>\\n\\t\\t</div>\\n\\t\\t<div class=\"pagination\">\\n\\t<form method=\"post\" action=\"/professionnels-de-sante/recherche-1/liste-resultats-page-2-par_page-20-tri-aleatoire-f37e8ccd9299ffd0512f6451db3292f5.html\"> \\n\\t\\t<a href=\"/professionnels-de-sante/recherche-1/liste-resultats-page-1-par_page-20-tri-aleatoire-f37e8ccd9299ffd0512f6451db3292f5.html\"><img src=\"/resources_ver/20150826115145/images/pagination_first.png\" alt=\"Aller \\xe0 la premi\\xe8re page - \" /></a><a href=\"/professionnels-de-sante/recherche-1/liste-resultats-page-1-par_page-20-tri-aleatoire-f37e8ccd9299ffd0512f6451db3292f5.html\"><img src=\"/resources_ver/20150826115145/images/pagination_prec.png\" alt=\"Page pr\\xe9c\\xe9dente\" /></a> Page <input type=\"text\" name=\"pageCible\" value=\"2\" /> sur 2\\t</form>\\n</div>\\n\\t\\t<div class=\"clear\"></div>\\n                <div class=\"liste-professionnel\">\\n            <div class=\"item-professionnel\"><div class=\"item-professionnel-inner\"><span class=\"num\">1</span><div class=\"nom_pictos\"><h2><a href=\"/professionnels-de-sante/recherche-1/fiche-detaillee-B7c1kTY0MTaz-f37e8ccd9299ffd0512f6451db3292f5.html\"><strong>DRYLEWICZ</strong> JOEL</a></h2><div class=\"pictos\"><img alt=\"Accepte la carte Vitale\" src=\"/resources_ver/20150826115145/images/picto_cartevitale.png\" class=\"infobulle\"/></div><div class=\"clear\"></div></div><div class=\"clear\"></div><div class=\"elements\"><div class=\"item left\"></div><div class=\"item right type_honoraires\">Honoraires sans d\\xe9passement</div><div class=\"clear\"></div><div class=\"item left tel\">01&nbsp;45&nbsp;45&nbsp;32&nbsp;12</div><div class=\"item right convention\"><a href=\"#\" class=\"infobulle\" alt=\"Les m\\xe9decins appliquent les tarifs fix\\xe9s dans la convention nationale sans d\\xe9passements d\\u2019honoraires (dits tarifs conventionnels, opposables ou de secteur 1). Ces tarifs servent de base au remboursement de l\\u2019Assurance Maladie. Des d\\xe9passements d\\u2019honoraires ne peuvent \\xeatre factur\\xe9s qu\\u2019\\xe0 titre exceptionnel, pour des motifs li\\xe9s, par exemple \\xe0 des exigences de temps ou de lieu du patient (DE). Ces d\\xe9passements ne sont pas rembours\\xe9s par l\\u2019Assurance Maladie, que vous soyez dans le parcours de soins ou non.\" >Conventionn\\xe9 secteur 1</a></div><div class=\"clear\"></div><div class=\"item left adresse\">87 RUE DE GERGOVIE<br />75014 PARIS</div><div class=\"clear\"></div></div><div class=\"clear\"></div></div></div><div class=\"item-professionnel\"><div class=\"item-professionnel-inner\"><span class=\"num\">2</span><div class=\"nom_pictos\"><h2><a href=\"/professionnels-de-sante/recherche-1/fiche-detaillee-B7c1mjM1NDC1-f37e8ccd9299ffd0512f6451db3292f5.html\"><strong>BOUMENDIL</strong> JULIEN</a></h2><div class=\"pictos\"><img alt=\"Accepte la carte Vitale\" src=\"/resources_ver/20150826115145/images/picto_cartevitale.png\" class=\"infobulle\"/></div><div class=\"clear\"></div></div><div class=\"clear\"></div><div class=\"elements\"><div class=\"item left\"></div><div class=\"item right type_honoraires\">Honoraires libres</div><div class=\"clear\"></div><div class=\"item left tel\">01&nbsp;43&nbsp;20&nbsp;91&nbsp;75</div><div class=\"item right convention\"><a href=\"#\" class=\"infobulle\" alt=\"Les m\\xe9decins fixent librement leurs tarifs et peuvent donc pratiquer des d\\xe9passements d\\u2019honoraires avec tact et mesure. L\\u2019Assurance Maladie rembourse les consultations et actes r\\xe9alis\\xe9s par ces m\\xe9decins sur la base des tarifs fix\\xe9s dans la convention (tarifs applicables au m\\xe9decin de secteur 2), le montant des \\xe9ventuels d\\xe9passements d\\u2019honoraires reste \\xe0 votre charge.\" >Conventionn\\xe9 secteur 2</a></div><div class=\"clear\"></div><div class=\"item left adresse\">142 BOULEVARD DU MONTPARNASSE<br />75014 PARIS</div><div class=\"clear\"></div></div><div class=\"clear\"></div></div></div><div class=\"item-professionnel\"><div class=\"item-professionnel-inner\"><span class=\"num\">3</span><div class=\"nom_pictos\"><h2><a href=\"/professionnels-de-sante/recherche-1/fiche-detaillee-B7c1lzMyOTCy-f37e8ccd9299ffd0512f6451db3292f5.html\"><strong>SARFATI</strong> ADRIEN</a></h2><div class=\"pictos\"><img alt=\"Accepte la carte Vitale\" src=\"/resources_ver/20150826115145/images/picto_cartevitale.png\" class=\"infobulle\"/></div><div class=\"clear\"></div></div><div class=\"clear\"></div><div class=\"elements\"><div class=\"item left\"></div><div class=\"item right type_honoraires\">Honoraires libres</div><div class=\"clear\"></div><div class=\"item left tel\">01&nbsp;43&nbsp;35&nbsp;41&nbsp;03</div><div class=\"item right convention\"><a href=\"#\" class=\"infobulle\" alt=\"Les m\\xe9decins fixent librement leurs tarifs et peuvent donc pratiquer des d\\xe9passements d\\u2019honoraires avec tact et mesure. L\\u2019Assurance Maladie rembourse les consultations et actes r\\xe9alis\\xe9s par ces m\\xe9decins sur la base des tarifs fix\\xe9s dans la convention (tarifs applicables au m\\xe9decin de secteur 2), le montant des \\xe9ventuels d\\xe9passements d\\u2019honoraires reste \\xe0 votre charge.\" >Conventionn\\xe9 secteur 2</a></div><div class=\"clear\"></div><div class=\"item left adresse\">10 RUE DAGUERRE<br />75014 PARIS</div><div class=\"clear\"></div></div><div class=\"clear\"></div></div></div><div class=\"item-professionnel\"><div class=\"item-professionnel-inner\"><span class=\"num\">4</span><div class=\"nom_pictos\"><h2><a href=\"/professionnels-de-sante/recherche-1/fiche-detaillee-B7c1lTM3NzOx-f37e8ccd9299ffd0512f6451db3292f5.html\"><strong>PIETRINI</strong> DOMINIQUE</a></h2><div class=\"pictos\"></div><div class=\"clear\"></div></div><div class=\"clear\"></div><div class=\"elements\"><div class=\"item left\"></div><div class=\"item right type_honoraires\">Honoraires libres</div><div class=\"clear\"></div><div class=\"item left tel\">01&nbsp;56&nbsp;53&nbsp;58&nbsp;58</div><div class=\"item right convention\"><a href=\"#\" class=\"infobulle\" alt=\"Les m\\xe9decins fixent librement leurs tarifs et peuvent donc pratiquer des d\\xe9passements d\\u2019honoraires avec tact et mesure. L\\u2019Assurance Maladie rembourse les consultations et actes r\\xe9alis\\xe9s par ces m\\xe9decins sur la base des tarifs fix\\xe9s dans la convention (tarifs applicables au m\\xe9decin de secteur 2), le montant des \\xe9ventuels d\\xe9passements d\\u2019honoraires reste \\xe0 votre charge.\" >Conventionn\\xe9 secteur 2</a></div><div class=\"clear\"></div><div class=\"item left adresse\">SARL SARRETTE<br />29 RUE SARRETTE<br />75014 PARIS</div><div class=\"clear\"></div></div><div class=\"clear\"></div></div></div><div class=\"item-professionnel\"><div class=\"item-professionnel-inner\"><span class=\"num\">5</span><div class=\"nom_pictos\"><h2><a href=\"/professionnels-de-sante/recherche-1/fiche-detaillee-B7c1lzY0MDK3-f37e8ccd9299ffd0512f6451db3292f5.html\"><strong>TAZARTES</strong> MICHEL</a></h2><div class=\"pictos\"></div><div class=\"clear\"></div></div><div class=\"clear\"></div><div class=\"elements\"><div class=\"item left\"></div><div class=\"item right type_honoraires\">Honoraires libres</div><div class=\"clear\"></div><div class=\"item left tel\">01&nbsp;43&nbsp;20&nbsp;91&nbsp;75</div><div class=\"item right convention\"><a href=\"#\" class=\"infobulle\" alt=\"Les m\\xe9decins fixent librement leurs tarifs et peuvent donc pratiquer des d\\xe9passements d\\u2019honoraires avec tact et mesure. L\\u2019Assurance Maladie rembourse les consultations et actes r\\xe9alis\\xe9s par ces m\\xe9decins sur la base des tarifs fix\\xe9s dans la convention (tarifs applicables au m\\xe9decin de secteur 2), le montant des \\xe9ventuels d\\xe9passements d\\u2019honoraires reste \\xe0 votre charge.\" >Conventionn\\xe9 secteur 2</a></div><div class=\"clear\"></div><div class=\"item left adresse\">142 BOULEVARD DU MONTPARNASSE<br />75014 PARIS</div><div class=\"clear\"></div></div><div class=\"clear\"></div></div></div><div class=\"item-professionnel\"><div class=\"item-professionnel-inner\"><span class=\"num\">6</span><div class=\"nom_pictos\"><h2><a href=\"/professionnels-de-sante/recherche-1/fiche-detaillee-B7c1lDUzODC3-f37e8ccd9299ffd0512f6451db3292f5.html\"><strong>MONNET</strong> DOMINIQUE</a></h2><div class=\"pictos\"></div><div class=\"clear\"></div></div><div class=\"clear\"></div><div class=\"elements\"><div class=\"item left\"></div><div class=\"item right type_honoraires\">Honoraires libres</div><div class=\"clear\"></div><div class=\"item left tel\">01&nbsp;58&nbsp;41&nbsp;21&nbsp;91</div><div class=\"item right convention\"><a href=\"#\" class=\"infobulle\" alt=\"Les m\\xe9decins fixent librement leurs tarifs et peuvent donc pratiquer des d\\xe9passements d\\u2019honoraires avec tact et mesure. L\\u2019Assurance Maladie rembourse les consultations et actes r\\xe9alis\\xe9s par ces m\\xe9decins sur la base des tarifs fix\\xe9s dans la convention (tarifs applicables au m\\xe9decin de secteur 2), le montant des \\xe9ventuels d\\xe9passements d\\u2019honoraires reste \\xe0 votre charge.\" >Conventionn\\xe9 secteur 2</a></div><div class=\"clear\"></div><div class=\"item left adresse\">HOPITAL COCHIN<br />27 RUE DU FBG SAINT JACQUES<br />75014 PARIS</div><div class=\"clear\"></div></div><div class=\"clear\"></div></div></div>        </div>\\n                <div class=\"tri\">\\n            <form id=\"form_tri_bas\" action=\"\">\\n                <label for=\"form_tri_select\">Trier par</label>\\n                <select id=\"form_tri_select\" name=\"sorting\" onchange=\"document.getElementById(\\'form_tri_bas\\').submit()\">\\n                \\t<option value=\"aleatoire\"> - </option>                    <option value=\"nom_asc\">Nom</option>\\n                \\t                    <option value=\"carte-vitale_desc\">Carte Vitale</option>\\n                \\t                    <option value=\"secteur_asc\">Type d&#039;honoraires</option>\\n                \\t                </select>\\n            </form>\\n        </div>\\n                <div class=\"pagination\">\\n\\t<form method=\"post\" action=\"/professionnels-de-sante/recherche-1/liste-resultats-page-2-par_page-20-tri-aleatoire-f37e8ccd9299ffd0512f6451db3292f5.html\"> \\n\\t\\t<a href=\"/professionnels-de-sante/recherche-1/liste-resultats-page-1-par_page-20-tri-aleatoire-f37e8ccd9299ffd0512f6451db3292f5.html\"><img src=\"/resources_ver/20150826115145/images/pagination_first.png\" alt=\"Aller \\xe0 la premi\\xe8re page - \" /></a><a href=\"/professionnels-de-sante/recherche-1/liste-resultats-page-1-par_page-20-tri-aleatoire-f37e8ccd9299ffd0512f6451db3292f5.html\"><img src=\"/resources_ver/20150826115145/images/pagination_prec.png\" alt=\"Page pr\\xe9c\\xe9dente\" /></a> Page <input type=\"text\" name=\"pageCible\" value=\"2\" /> sur 2\\t</form>\\n</div>\\n        <div class=\"clear\"></div>\\n\\t</div>\\n\\t<div id=\"bascadre\"></div>\\n</div>\\n<div class=\"clear\"></div>    \\t</div>\\n    \\t<div id=\"footer\">\\n    \\t\\t<div class=\"mention\">L\\'utilisation du service offert sur ce site est soumise au respect des conditions d\\'utilisation. Toute reproduction int\\xe9grale ou partielle des contenus, donn\\xe9es et informations disponibles est illicite et peut donner lieu \\xe0 des sanctions.</div>\\n    \\t    <div class=\"liens\">\\n\\t\\t\\t\\t<h2>Les autres sites de l\\'Assurance Maladie</h2>\\n\\t\\t\\t\\t<div class=\"site\"><a href=\"http://www.ameli.fr\" target=\"_blank\" rel=\"nofollow\" title=\"Ameli.fr : je m\\'informe sur mes droits et mes d\\xe9marches (nouvelle fen\\xeatre)\"><img src=\"/resources_ver/20150826115145/images/footer_ameli.png\" alt=\"ameli.fr\" /></a><br/>Je m\\'informe sur mes droits et mes d\\xe9marches</div>\\n\\t\\t\\t\\t<div class=\"site\"><a href=\"http://www.ameli-sante.fr\" target=\"_blank\" rel=\"nofollow\" title=\"Ameli-sant\\xe9.fr : Ma r\\xe9f\\xe9rence en information sant\\xe9 (nouvelle fen\\xeatre)\"><img src=\"/resources_ver/20150826115145/images/footer_sante.png\" alt=\"ameli-sante.fr\" /></a><br/>Je m\\'informe sur ma sant\\xe9</div>\\n\\t\\t\\t\\t<div class=\"site\"><a href=\"http://www.ameli-sophia.fr\" target=\"_blank\" rel=\"nofollow\" title=\"ameli-sophia (nouvelle fen\\xeatre)\"><img src=\"/resources_ver/20150826115145/images/footer_sophia.png\" alt=\"ameli-sophia.fr\" /></a><br/>Le service d\\'accompagnement pour mieux vivre avec une maladie chronique</div>\\n\\t\\t\\t</div>\\n\\t\\t\\t<div class=\"clear\"></div>\\n    \\t\\t<div class=\"liens-transverse\"> | <a href=\"/fenetre-modale-xhr/dispositions_generales.html?width=700&amp;modal=true\" class=\"thickbox\" title=\"Dispositions g\\xe9n\\xe9rales\">Dispositions g\\xe9n\\xe9rales</a> | <a href=\"/fenetre-modale-xhr/mentions_legales.html?width=700&amp;modal=true\" class=\"thickbox\" title=\"Mentions l\\xe9gales\">Mentions l\\xe9gales</a></div>\\n    \\t</div>\\n    </div>\\n<!-- Version OW040304X -->\\n<script type=\"text/javascript\">\\n<!--\\nxtnv = document;        //parent.document or top.document or document         \\nxtsd = \"http://logi7\";\\nxtsite = \"475098\";\\nxtn2 = \"2\";        // level 2 site \\nxtpage = \"ameli-direct-externe::liste-resultats-ps\";        //page name (with the use of :: to create chapters)\\nxtdi = \"\";        //implication degree\\n//-->\\n</script>\\n<script type=\"text/javascript\" src=\"/resources_ver/20150826115145/js/xtcore.js\"></script>\\n<noscript>\\n<img width=\"1\" height=\"1\" alt=\"\" src=\"http://logi7.xiti.com/hit.xiti?s=475098&amp;s2=1&amp;p=ameli-direct-externe::liste-resultats-ps&amp;di=&amp;\" />\\n</noscript></body>\\n</html>\\n'"
      ]
     },
     "execution_count": 197,
     "metadata": {},
     "output_type": "execute_result"
    }
   ],
   "source": [
    "r2.text"
   ]
  },
  {
   "cell_type": "code",
   "execution_count": 198,
   "metadata": {
    "collapsed": false
   },
   "outputs": [
    {
     "data": {
      "text/html": [
       "<div style=\"max-height:1000px;max-width:1500px;overflow:auto;\">\n",
       "<table border=\"1\" class=\"dataframe\">\n",
       "  <thead>\n",
       "    <tr style=\"text-align: right;\">\n",
       "      <th></th>\n",
       "      <th>Nom</th>\n",
       "      <th>Adresse</th>\n",
       "      <th>Téléphone</th>\n",
       "      <th>Honoraires</th>\n",
       "      <th>Convention</th>\n",
       "    </tr>\n",
       "  </thead>\n",
       "  <tbody>\n",
       "    <tr>\n",
       "      <th>0</th>\n",
       "      <td>     DRYLEWICZ  JOEL</td>\n",
       "      <td>                    87 RUE DE GERGOVIE 75014 PARIS</td>\n",
       "      <td> 01 45 45 32 12</td>\n",
       "      <td> Honoraires sans dépassement</td>\n",
       "      <td> Conventionné secteur 1</td>\n",
       "    </tr>\n",
       "    <tr>\n",
       "      <th>1</th>\n",
       "      <td>   BOUMENDIL  JULIEN</td>\n",
       "      <td>         142 BOULEVARD DU MONTPARNASSE 75014 PARIS</td>\n",
       "      <td> 01 43 20 91 75</td>\n",
       "      <td>           Honoraires libres</td>\n",
       "      <td> Conventionné secteur 2</td>\n",
       "    </tr>\n",
       "    <tr>\n",
       "      <th>2</th>\n",
       "      <td>     SARFATI  ADRIEN</td>\n",
       "      <td>                       10 RUE DAGUERRE 75014 PARIS</td>\n",
       "      <td> 01 43 35 41 03</td>\n",
       "      <td>           Honoraires libres</td>\n",
       "      <td> Conventionné secteur 2</td>\n",
       "    </tr>\n",
       "    <tr>\n",
       "      <th>3</th>\n",
       "      <td> PIETRINI  DOMINIQUE</td>\n",
       "      <td>         SARL SARRETTE 29 RUE SARRETTE 75014 PARIS</td>\n",
       "      <td> 01 56 53 58 58</td>\n",
       "      <td>           Honoraires libres</td>\n",
       "      <td> Conventionné secteur 2</td>\n",
       "    </tr>\n",
       "    <tr>\n",
       "      <th>4</th>\n",
       "      <td>    TAZARTES  MICHEL</td>\n",
       "      <td>         142 BOULEVARD DU MONTPARNASSE 75014 PARIS</td>\n",
       "      <td> 01 43 20 91 75</td>\n",
       "      <td>           Honoraires libres</td>\n",
       "      <td> Conventionné secteur 2</td>\n",
       "    </tr>\n",
       "    <tr>\n",
       "      <th>5</th>\n",
       "      <td>   MONNET  DOMINIQUE</td>\n",
       "      <td> HOPITAL COCHIN 27 RUE DU FBG SAINT JACQUES 750...</td>\n",
       "      <td> 01 58 41 21 91</td>\n",
       "      <td>           Honoraires libres</td>\n",
       "      <td> Conventionné secteur 2</td>\n",
       "    </tr>\n",
       "  </tbody>\n",
       "</table>\n",
       "</div>"
      ],
      "text/plain": [
       "                   Nom                                            Adresse  \\\n",
       "0      DRYLEWICZ  JOEL                     87 RUE DE GERGOVIE 75014 PARIS   \n",
       "1    BOUMENDIL  JULIEN          142 BOULEVARD DU MONTPARNASSE 75014 PARIS   \n",
       "2      SARFATI  ADRIEN                        10 RUE DAGUERRE 75014 PARIS   \n",
       "3  PIETRINI  DOMINIQUE          SARL SARRETTE 29 RUE SARRETTE 75014 PARIS   \n",
       "4     TAZARTES  MICHEL          142 BOULEVARD DU MONTPARNASSE 75014 PARIS   \n",
       "5    MONNET  DOMINIQUE  HOPITAL COCHIN 27 RUE DU FBG SAINT JACQUES 750...   \n",
       "\n",
       "        Téléphone                   Honoraires              Convention  \n",
       "0  01 45 45 32 12  Honoraires sans dépassement  Conventionné secteur 1  \n",
       "1  01 43 20 91 75            Honoraires libres  Conventionné secteur 2  \n",
       "2  01 43 35 41 03            Honoraires libres  Conventionné secteur 2  \n",
       "3  01 56 53 58 58            Honoraires libres  Conventionné secteur 2  \n",
       "4  01 43 20 91 75            Honoraires libres  Conventionné secteur 2  \n",
       "5  01 58 41 21 91            Honoraires libres  Conventionné secteur 2  "
      ]
     },
     "execution_count": 198,
     "metadata": {},
     "output_type": "execute_result"
    }
   ],
   "source": [
    "soup = BeautifulSoup(r2.text, 'html.parser')\n",
    "doctors = soup.findAll('div', attrs={\"class\":\"item-professionnel\"})\n",
    "pd.DataFrame([extract_information(doc) for doc in doctors], columns=['Nom', u'Adresse', u\"Téléphone\", u\"Honoraires\", \"Convention\"])"
   ]
  },
  {
   "cell_type": "markdown",
   "metadata": {},
   "source": [
    "In the second frame, we only got 6 doctors, which is what we expected. This seems to work."
   ]
  },
  {
   "cell_type": "markdown",
   "metadata": {},
   "source": [
    "# Putting it all together "
   ]
  },
  {
   "cell_type": "code",
   "execution_count": 244,
   "metadata": {
    "collapsed": true
   },
   "outputs": [],
   "source": [
    "def make_query(specialty, location):\n",
    "    \"\"\"queries Ameli for a given specialty of doctors in a given location\n",
    "    returns a pandas dataframe or None if no doctors have been found\"\"\"\n",
    "    \n",
    "    # create new session and open the connection to get cookies\n",
    "    s = requests.Session()\n",
    "    r = s.get('http://ameli-direct.ameli.fr')\n",
    "    \n",
    "    # extract the page towards which we make our first request\n",
    "    p = re.compile('<form action=\"([\\w\\d/.-]+)\" method=\"post\">')\n",
    "    suburl = p.findall(r.text)[0]\n",
    "    \n",
    "    # make the request\n",
    "    headers = {\"User-Agent\":\"Mozilla/5.0 (Windows NT 6.1; WOW64) AppleWebKit/537.36 (KHTML, like Gecko) Chrome/46.0.2490.71 Safari/537.36\"}\n",
    "    payload = {\"type\":\"ps\",\n",
    "        \"ps_profession\":specialty,\n",
    "        \"ps_localisation\":location}\n",
    "    r = s.post(\"http://ameli-direct.ameli.fr\" + suburl, params=payload,\n",
    "          headers=headers)\n",
    "    \n",
    "    # extract information\n",
    "    soup = BeautifulSoup(r.text, 'html.parser')\n",
    "    number_of_doctors = extract_number_of_doctors(soup)\n",
    "    if number_of_doctors == 0:\n",
    "        return None\n",
    "    \n",
    "    # loop over needed pages\n",
    "    dfs = []\n",
    "    for pagenumber in range(1, int(math.ceil(number_of_doctors / 20.)) + 1):\n",
    "        r2 = s.post(r.url.replace(\"liste-resultats-page-1-par_page-20\", \n",
    "                                  \"liste-resultats-page-{}-par_page-20\").format(pagenumber))\n",
    "        soup = BeautifulSoup(r2.text)\n",
    "        doctors = soup.findAll('div', attrs={\"class\":\"item-professionnel\"})\n",
    "        dfs.append(pd.DataFrame([extract_information(doc) for doc in doctors], \n",
    "                 columns=['Nom', u'Adresse', u\"Téléphone\", u\"Honoraires\", \"Convention\"]))\n",
    "    \n",
    "    return pd.concat(dfs, ignore_index=True)\n",
    "    "
   ]
  },
  {
   "cell_type": "code",
   "execution_count": 239,
   "metadata": {
    "collapsed": false
   },
   "outputs": [
    {
     "data": {
      "text/html": [
       "<div style=\"max-height:1000px;max-width:1500px;overflow:auto;\">\n",
       "<table border=\"1\" class=\"dataframe\">\n",
       "  <thead>\n",
       "    <tr style=\"text-align: right;\">\n",
       "      <th></th>\n",
       "      <th>Nom</th>\n",
       "      <th>Adresse</th>\n",
       "      <th>Téléphone</th>\n",
       "      <th>Honoraires</th>\n",
       "      <th>Convention</th>\n",
       "    </tr>\n",
       "  </thead>\n",
       "  <tbody>\n",
       "    <tr>\n",
       "      <th>0</th>\n",
       "      <td>           KOHANE  BERNARD</td>\n",
       "      <td>                 31 AVENUE VERDIER 92120 MONTROUGE</td>\n",
       "      <td> 01 46 56 90 90</td>\n",
       "      <td>           Honoraires libres</td>\n",
       "      <td> Conventionné secteur 2</td>\n",
       "    </tr>\n",
       "    <tr>\n",
       "      <th>1</th>\n",
       "      <td> CENTRE DE SANTE MUNICIPAL</td>\n",
       "      <td> CENTRE DE SANTE MUNICIPAL 5 RUE AMAURY DUVAL 9...</td>\n",
       "      <td>           None</td>\n",
       "      <td>                        None</td>\n",
       "      <td>                   None</td>\n",
       "    </tr>\n",
       "    <tr>\n",
       "      <th>2</th>\n",
       "      <td>            KHAYAT  NADINE</td>\n",
       "      <td>                    10 RUE V. HUGO 92120 MONTROUGE</td>\n",
       "      <td> 01 82 00 15 16</td>\n",
       "      <td> Honoraires sans dépassement</td>\n",
       "      <td> Conventionné secteur 1</td>\n",
       "    </tr>\n",
       "    <tr>\n",
       "      <th>3</th>\n",
       "      <td>       DEBBASCH  JEAN MARC</td>\n",
       "      <td>                 31 AVENUE VERDIER 92120 MONTROUGE</td>\n",
       "      <td> 01 46 56 90 90</td>\n",
       "      <td>           Honoraires libres</td>\n",
       "      <td> Conventionné secteur 2</td>\n",
       "    </tr>\n",
       "  </tbody>\n",
       "</table>\n",
       "</div>"
      ],
      "text/plain": [
       "                         Nom  \\\n",
       "0            KOHANE  BERNARD   \n",
       "1  CENTRE DE SANTE MUNICIPAL   \n",
       "2             KHAYAT  NADINE   \n",
       "3        DEBBASCH  JEAN MARC   \n",
       "\n",
       "                                             Adresse       Téléphone  \\\n",
       "0                  31 AVENUE VERDIER 92120 MONTROUGE  01 46 56 90 90   \n",
       "1  CENTRE DE SANTE MUNICIPAL 5 RUE AMAURY DUVAL 9...            None   \n",
       "2                     10 RUE V. HUGO 92120 MONTROUGE  01 82 00 15 16   \n",
       "3                  31 AVENUE VERDIER 92120 MONTROUGE  01 46 56 90 90   \n",
       "\n",
       "                    Honoraires              Convention  \n",
       "0            Honoraires libres  Conventionné secteur 2  \n",
       "1                         None                    None  \n",
       "2  Honoraires sans dépassement  Conventionné secteur 1  \n",
       "3            Honoraires libres  Conventionné secteur 2  "
      ]
     },
     "execution_count": 239,
     "metadata": {},
     "output_type": "execute_result"
    }
   ],
   "source": [
    "make_query(\"ophtalmologiste\", \"92120\")"
   ]
  },
  {
   "cell_type": "code",
   "execution_count": 240,
   "metadata": {
    "collapsed": false
   },
   "outputs": [
    {
     "data": {
      "text/html": [
       "<div style=\"max-height:1000px;max-width:1500px;overflow:auto;\">\n",
       "<table border=\"1\" class=\"dataframe\">\n",
       "  <thead>\n",
       "    <tr style=\"text-align: right;\">\n",
       "      <th></th>\n",
       "      <th>Nom</th>\n",
       "      <th>Adresse</th>\n",
       "      <th>Téléphone</th>\n",
       "      <th>Honoraires</th>\n",
       "      <th>Convention</th>\n",
       "    </tr>\n",
       "  </thead>\n",
       "  <tbody>\n",
       "    <tr>\n",
       "      <th>0 </th>\n",
       "      <td>        BIANCHI  FREDERIQUE</td>\n",
       "      <td>  L ATHENA 1 AVENUE DE VERDUN 06800 CAGNES SUR MER</td>\n",
       "      <td>    04 93 20 87 08</td>\n",
       "      <td>                                 Honoraires libres</td>\n",
       "      <td>                            Conventionné secteur 2</td>\n",
       "    </tr>\n",
       "    <tr>\n",
       "      <th>1 </th>\n",
       "      <td>              COTTA  CLAIRE</td>\n",
       "      <td> CABINET DU DR CARL LOUBOUTIN LE ST JACQUES 7 B...</td>\n",
       "      <td>    04 93 20 59 40</td>\n",
       "      <td>                                 Honoraires libres</td>\n",
       "      <td>                            Conventionné secteur 2</td>\n",
       "    </tr>\n",
       "    <tr>\n",
       "      <th>2 </th>\n",
       "      <td>              COTTA  CLAIRE</td>\n",
       "      <td> SCM ABEL LE ST JACQUES 7 BOULEVARD MARECHAL JU...</td>\n",
       "      <td> Honoraires libres</td>\n",
       "      <td>                            Conventionné secteur 2</td>\n",
       "      <td>                                              None</td>\n",
       "    </tr>\n",
       "    <tr>\n",
       "      <th>3 </th>\n",
       "      <td> LECCIA BOUCKAERT  LAETITIA</td>\n",
       "      <td> CONSULTATION ST JEAN BT A 53 AVENUE DES ALPES ...</td>\n",
       "      <td> Honoraires libres</td>\n",
       "      <td>                            Conventionné secteur 2</td>\n",
       "      <td>                                              None</td>\n",
       "    </tr>\n",
       "    <tr>\n",
       "      <th>4 </th>\n",
       "      <td>            LOUBOUTIN  CARL</td>\n",
       "      <td>    7 BOULEVARD MARECHAL JUIN 06800 CAGNES SUR MER</td>\n",
       "      <td> Honoraires libres</td>\n",
       "      <td>                            Conventionné secteur 2</td>\n",
       "      <td>                                              None</td>\n",
       "    </tr>\n",
       "    <tr>\n",
       "      <th>5 </th>\n",
       "      <td>             FERRARA  LUCIE</td>\n",
       "      <td> LE SPLENDID 41 BOULEVARD MARECHAL JUIN 06800 C...</td>\n",
       "      <td>    04 93 20 19 44</td>\n",
       "      <td> Honoraires avec dépassements maîtrisés (contra...</td>\n",
       "      <td> Conventionné secteur 2 avec contrat d'accès au...</td>\n",
       "    </tr>\n",
       "    <tr>\n",
       "      <th>6 </th>\n",
       "      <td>             CHEPTEA  IRINA</td>\n",
       "      <td> SA POLYCLINIQUE ST JEAN POLYCLINIQUE ST JEAN 9...</td>\n",
       "      <td>    04 92 13 53 13</td>\n",
       "      <td>                                 Honoraires libres</td>\n",
       "      <td>                            Conventionné secteur 2</td>\n",
       "    </tr>\n",
       "    <tr>\n",
       "      <th>7 </th>\n",
       "      <td>             CHEPTEA  IRINA</td>\n",
       "      <td> SELARL CABINET DU DR CHEPTEA VILLA EMILIE - EN...</td>\n",
       "      <td>    04 93 20 66 70</td>\n",
       "      <td>                                 Honoraires libres</td>\n",
       "      <td>                            Conventionné secteur 2</td>\n",
       "    </tr>\n",
       "    <tr>\n",
       "      <th>8 </th>\n",
       "      <td>            BIJAOUI  SAMUEL</td>\n",
       "      <td> POLYCLINIQUE SAINT JEAN 92 AVENUE DU DR MAURIC...</td>\n",
       "      <td>    04 92 13 53 13</td>\n",
       "      <td>                                 Honoraires libres</td>\n",
       "      <td>                            Conventionné secteur 2</td>\n",
       "    </tr>\n",
       "    <tr>\n",
       "      <th>9 </th>\n",
       "      <td>            BIJAOUI  SAMUEL</td>\n",
       "      <td> ENTREE B VILLA EMILIE 48 BOULEVARD MARECHAL JU...</td>\n",
       "      <td>    04 93 20 66 70</td>\n",
       "      <td>                                 Honoraires libres</td>\n",
       "      <td>                            Conventionné secteur 2</td>\n",
       "    </tr>\n",
       "    <tr>\n",
       "      <th>10</th>\n",
       "      <td>    GOZAL SULTAN  DOMINIQUE</td>\n",
       "      <td> LE SAINT JACQUES 7 BOULEVARD MARECHAL JUIN 068...</td>\n",
       "      <td> Honoraires libres</td>\n",
       "      <td>                            Conventionné secteur 2</td>\n",
       "      <td>                                              None</td>\n",
       "    </tr>\n",
       "  </tbody>\n",
       "</table>\n",
       "</div>"
      ],
      "text/plain": [
       "                           Nom  \\\n",
       "0          BIANCHI  FREDERIQUE   \n",
       "1                COTTA  CLAIRE   \n",
       "2                COTTA  CLAIRE   \n",
       "3   LECCIA BOUCKAERT  LAETITIA   \n",
       "4              LOUBOUTIN  CARL   \n",
       "5               FERRARA  LUCIE   \n",
       "6               CHEPTEA  IRINA   \n",
       "7               CHEPTEA  IRINA   \n",
       "8              BIJAOUI  SAMUEL   \n",
       "9              BIJAOUI  SAMUEL   \n",
       "10     GOZAL SULTAN  DOMINIQUE   \n",
       "\n",
       "                                              Adresse          Téléphone  \\\n",
       "0    L ATHENA 1 AVENUE DE VERDUN 06800 CAGNES SUR MER     04 93 20 87 08   \n",
       "1   CABINET DU DR CARL LOUBOUTIN LE ST JACQUES 7 B...     04 93 20 59 40   \n",
       "2   SCM ABEL LE ST JACQUES 7 BOULEVARD MARECHAL JU...  Honoraires libres   \n",
       "3   CONSULTATION ST JEAN BT A 53 AVENUE DES ALPES ...  Honoraires libres   \n",
       "4      7 BOULEVARD MARECHAL JUIN 06800 CAGNES SUR MER  Honoraires libres   \n",
       "5   LE SPLENDID 41 BOULEVARD MARECHAL JUIN 06800 C...     04 93 20 19 44   \n",
       "6   SA POLYCLINIQUE ST JEAN POLYCLINIQUE ST JEAN 9...     04 92 13 53 13   \n",
       "7   SELARL CABINET DU DR CHEPTEA VILLA EMILIE - EN...     04 93 20 66 70   \n",
       "8   POLYCLINIQUE SAINT JEAN 92 AVENUE DU DR MAURIC...     04 92 13 53 13   \n",
       "9   ENTREE B VILLA EMILIE 48 BOULEVARD MARECHAL JU...     04 93 20 66 70   \n",
       "10  LE SAINT JACQUES 7 BOULEVARD MARECHAL JUIN 068...  Honoraires libres   \n",
       "\n",
       "                                           Honoraires  \\\n",
       "0                                   Honoraires libres   \n",
       "1                                   Honoraires libres   \n",
       "2                              Conventionné secteur 2   \n",
       "3                              Conventionné secteur 2   \n",
       "4                              Conventionné secteur 2   \n",
       "5   Honoraires avec dépassements maîtrisés (contra...   \n",
       "6                                   Honoraires libres   \n",
       "7                                   Honoraires libres   \n",
       "8                                   Honoraires libres   \n",
       "9                                   Honoraires libres   \n",
       "10                             Conventionné secteur 2   \n",
       "\n",
       "                                           Convention  \n",
       "0                              Conventionné secteur 2  \n",
       "1                              Conventionné secteur 2  \n",
       "2                                                None  \n",
       "3                                                None  \n",
       "4                                                None  \n",
       "5   Conventionné secteur 2 avec contrat d'accès au...  \n",
       "6                              Conventionné secteur 2  \n",
       "7                              Conventionné secteur 2  \n",
       "8                              Conventionné secteur 2  \n",
       "9                              Conventionné secteur 2  \n",
       "10                                               None  "
      ]
     },
     "execution_count": 240,
     "metadata": {},
     "output_type": "execute_result"
    }
   ],
   "source": [
    "make_query(\"ophtalmologiste\", \"06800\")"
   ]
  },
  {
   "cell_type": "code",
   "execution_count": 241,
   "metadata": {
    "collapsed": false
   },
   "outputs": [
    {
     "data": {
      "text/html": [
       "<div style=\"max-height:1000px;max-width:1500px;overflow:auto;\">\n",
       "<table border=\"1\" class=\"dataframe\">\n",
       "  <thead>\n",
       "    <tr style=\"text-align: right;\">\n",
       "      <th></th>\n",
       "      <th>Nom</th>\n",
       "      <th>Adresse</th>\n",
       "      <th>Téléphone</th>\n",
       "      <th>Honoraires</th>\n",
       "      <th>Convention</th>\n",
       "    </tr>\n",
       "  </thead>\n",
       "  <tbody>\n",
       "    <tr>\n",
       "      <th>0 </th>\n",
       "      <td>                  CHARLOT  JEAN CLAUDE</td>\n",
       "      <td>                 228 BOULEVARD RASPAIL 75014 PARIS</td>\n",
       "      <td>    01 43 22 42 33</td>\n",
       "      <td>           Honoraires libres</td>\n",
       "      <td> Conventionné secteur 2</td>\n",
       "    </tr>\n",
       "    <tr>\n",
       "      <th>1 </th>\n",
       "      <td>                    COMMEAU  DOMINIQUE</td>\n",
       "      <td>                 22 RUE ERNEST CRESSON 75014 PARIS</td>\n",
       "      <td>    01 45 41 73 63</td>\n",
       "      <td>           Honoraires libres</td>\n",
       "      <td> Conventionné secteur 2</td>\n",
       "    </tr>\n",
       "    <tr>\n",
       "      <th>2 </th>\n",
       "      <td>                      CHAMOUNI  HUBERT</td>\n",
       "      <td>              95 AVENUE DU GAL LECLERC 75014 PARIS</td>\n",
       "      <td> Honoraires libres</td>\n",
       "      <td>      Conventionné secteur 2</td>\n",
       "      <td>                   None</td>\n",
       "    </tr>\n",
       "    <tr>\n",
       "      <th>3 </th>\n",
       "      <td>                     VAN WENT  CHARLES</td>\n",
       "      <td> SELARL CHASSIGNOL VAN WENT 79 AVENUE DU GENERA...</td>\n",
       "      <td> Honoraires libres</td>\n",
       "      <td>      Conventionné secteur 2</td>\n",
       "      <td>                   None</td>\n",
       "    </tr>\n",
       "    <tr>\n",
       "      <th>4 </th>\n",
       "      <td>                      LE QUOY  OLIVIER</td>\n",
       "      <td>                       29 RUE D ALESIA 75014 PARIS</td>\n",
       "      <td>    01 43 35 31 48</td>\n",
       "      <td>           Honoraires libres</td>\n",
       "      <td> Conventionné secteur 2</td>\n",
       "    </tr>\n",
       "    <tr>\n",
       "      <th>5 </th>\n",
       "      <td>                       SELLAM  MICKAEL</td>\n",
       "      <td> CLINIQUE STE GENEVIEVE 29 RUE SARRETTE 75014 P...</td>\n",
       "      <td> Honoraires libres</td>\n",
       "      <td>      Conventionné secteur 2</td>\n",
       "      <td>                   None</td>\n",
       "    </tr>\n",
       "    <tr>\n",
       "      <th>6 </th>\n",
       "      <td>                BINN DEUTSCHER  SYLVIE</td>\n",
       "      <td>            12 RUE DE LA TOMBE ISSOIRE 75014 PARIS</td>\n",
       "      <td>    01 45 65 04 24</td>\n",
       "      <td>           Honoraires libres</td>\n",
       "      <td> Conventionné secteur 2</td>\n",
       "    </tr>\n",
       "    <tr>\n",
       "      <th>7 </th>\n",
       "      <td>                        FELLER  MICHEL</td>\n",
       "      <td>            118 BOULEVARD MONTPARNASSE 75014 PARIS</td>\n",
       "      <td>    01 43 35 08 28</td>\n",
       "      <td>           Honoraires libres</td>\n",
       "      <td> Conventionné secteur 2</td>\n",
       "    </tr>\n",
       "    <tr>\n",
       "      <th>8 </th>\n",
       "      <td>                       BREZIN  ANTOINE</td>\n",
       "      <td> HOPITAL COCHIN 27 RUE DU FBG SAINT JACQUES 750...</td>\n",
       "      <td>    01 58 41 22 00</td>\n",
       "      <td>           Honoraires libres</td>\n",
       "      <td> Conventionné secteur 2</td>\n",
       "    </tr>\n",
       "    <tr>\n",
       "      <th>9 </th>\n",
       "      <td>                  SULMAN  JEAN JACQUES</td>\n",
       "      <td>                    90 AVENUE DU MAINE 75014 PARIS</td>\n",
       "      <td>    01 40 47 00 00</td>\n",
       "      <td>           Honoraires libres</td>\n",
       "      <td> Conventionné secteur 2</td>\n",
       "    </tr>\n",
       "    <tr>\n",
       "      <th>10</th>\n",
       "      <td>                    CHASSIGNOL  ALEXIS</td>\n",
       "      <td> SELARL CHASSIGNOL VAN WENT 79 AVENUE DU GENERA...</td>\n",
       "      <td>    01 43 27 10 69</td>\n",
       "      <td>           Honoraires libres</td>\n",
       "      <td> Conventionné secteur 2</td>\n",
       "    </tr>\n",
       "    <tr>\n",
       "      <th>11</th>\n",
       "      <td> CTRE SANTE MEDICAL DENTAIRE TISSERAND</td>\n",
       "      <td> CTRE SANTE MEDICAL DENTAIRE TISSERAND C A S VI...</td>\n",
       "      <td>              None</td>\n",
       "      <td>                        None</td>\n",
       "      <td>                   None</td>\n",
       "    </tr>\n",
       "    <tr>\n",
       "      <th>12</th>\n",
       "      <td>                     THAN TRONG  THONG</td>\n",
       "      <td>                       10 RUE DAGUERRE 75014 PARIS</td>\n",
       "      <td>    01 43 35 41 03</td>\n",
       "      <td>           Honoraires libres</td>\n",
       "      <td> Conventionné secteur 2</td>\n",
       "    </tr>\n",
       "    <tr>\n",
       "      <th>13</th>\n",
       "      <td>                       MAGNANI  MATTEO</td>\n",
       "      <td>                      29 RUE SARRETTE. 75014 PARIS</td>\n",
       "      <td> Honoraires libres</td>\n",
       "      <td>      Conventionné secteur 2</td>\n",
       "      <td>                   None</td>\n",
       "    </tr>\n",
       "    <tr>\n",
       "      <th>14</th>\n",
       "      <td>                  WERTHEL  ANDREE LUCE</td>\n",
       "      <td>                   24 AVENUE VILLEMAIN 75014 PARIS</td>\n",
       "      <td>    01 45 42 75 74</td>\n",
       "      <td>           Honoraires libres</td>\n",
       "      <td> Conventionné secteur 2</td>\n",
       "    </tr>\n",
       "    <tr>\n",
       "      <th>15</th>\n",
       "      <td>                       DRYLEWICZ  JOEL</td>\n",
       "      <td>                    87 RUE DE GERGOVIE 75014 PARIS</td>\n",
       "      <td>    01 45 45 32 12</td>\n",
       "      <td> Honoraires sans dépassement</td>\n",
       "      <td> Conventionné secteur 1</td>\n",
       "    </tr>\n",
       "    <tr>\n",
       "      <th>16</th>\n",
       "      <td>                     BOUMENDIL  JULIEN</td>\n",
       "      <td>         142 BOULEVARD DU MONTPARNASSE 75014 PARIS</td>\n",
       "      <td>    01 43 20 91 75</td>\n",
       "      <td>           Honoraires libres</td>\n",
       "      <td> Conventionné secteur 2</td>\n",
       "    </tr>\n",
       "    <tr>\n",
       "      <th>17</th>\n",
       "      <td>                       SARFATI  ADRIEN</td>\n",
       "      <td>                       10 RUE DAGUERRE 75014 PARIS</td>\n",
       "      <td>    01 43 35 41 03</td>\n",
       "      <td>           Honoraires libres</td>\n",
       "      <td> Conventionné secteur 2</td>\n",
       "    </tr>\n",
       "    <tr>\n",
       "      <th>18</th>\n",
       "      <td>                   GIRARD DECIS  ANAIS</td>\n",
       "      <td>                 244 BOULEVARD RASPAIL 75014 PARIS</td>\n",
       "      <td> Honoraires libres</td>\n",
       "      <td>      Conventionné secteur 2</td>\n",
       "      <td>                   None</td>\n",
       "    </tr>\n",
       "    <tr>\n",
       "      <th>19</th>\n",
       "      <td>                        KELLER  PIERRE</td>\n",
       "      <td>              3 RUE VICTOR CONSIDERANT 75014 PARIS</td>\n",
       "      <td>    01 43 35 43 33</td>\n",
       "      <td>           Honoraires libres</td>\n",
       "      <td> Conventionné secteur 2</td>\n",
       "    </tr>\n",
       "    <tr>\n",
       "      <th>20</th>\n",
       "      <td>                         KRETZ  GILLES</td>\n",
       "      <td>                   150 RUE R LOSSERAND 75014 PARIS</td>\n",
       "      <td>    01 40 44 65 30</td>\n",
       "      <td>           Honoraires libres</td>\n",
       "      <td> Conventionné secteur 2</td>\n",
       "    </tr>\n",
       "    <tr>\n",
       "      <th>21</th>\n",
       "      <td>                   MEYER  MARIE CLAUDE</td>\n",
       "      <td>                 29 BOULEVARD E.QUINET 75014 PARIS</td>\n",
       "      <td>    01 43 20 62 55</td>\n",
       "      <td>           Honoraires libres</td>\n",
       "      <td> Conventionné secteur 2</td>\n",
       "    </tr>\n",
       "    <tr>\n",
       "      <th>22</th>\n",
       "      <td>                         PUECH  MICHEL</td>\n",
       "      <td> SELARL DU DR MICHEL PUECH 7 RUE BOISSONADE 750...</td>\n",
       "      <td> Honoraires libres</td>\n",
       "      <td>      Conventionné secteur 2</td>\n",
       "      <td>                   None</td>\n",
       "    </tr>\n",
       "    <tr>\n",
       "      <th>23</th>\n",
       "      <td>                      TAZARTES  MICHEL</td>\n",
       "      <td>         142 BOULEVARD DU MONTPARNASSE 75014 PARIS</td>\n",
       "      <td>    01 43 20 91 75</td>\n",
       "      <td>           Honoraires libres</td>\n",
       "      <td> Conventionné secteur 2</td>\n",
       "    </tr>\n",
       "    <tr>\n",
       "      <th>24</th>\n",
       "      <td>                     MONNET  DOMINIQUE</td>\n",
       "      <td> HOPITAL COCHIN 27 RUE DU FBG SAINT JACQUES 750...</td>\n",
       "      <td>    01 58 41 21 91</td>\n",
       "      <td>           Honoraires libres</td>\n",
       "      <td> Conventionné secteur 2</td>\n",
       "    </tr>\n",
       "    <tr>\n",
       "      <th>25</th>\n",
       "      <td>                   PIETRINI  DOMINIQUE</td>\n",
       "      <td>         SARL SARRETTE 29 RUE SARRETTE 75014 PARIS</td>\n",
       "      <td>    01 56 53 58 58</td>\n",
       "      <td>           Honoraires libres</td>\n",
       "      <td> Conventionné secteur 2</td>\n",
       "    </tr>\n",
       "  </tbody>\n",
       "</table>\n",
       "</div>"
      ],
      "text/plain": [
       "                                      Nom  \\\n",
       "0                    CHARLOT  JEAN CLAUDE   \n",
       "1                      COMMEAU  DOMINIQUE   \n",
       "2                        CHAMOUNI  HUBERT   \n",
       "3                       VAN WENT  CHARLES   \n",
       "4                        LE QUOY  OLIVIER   \n",
       "5                         SELLAM  MICKAEL   \n",
       "6                  BINN DEUTSCHER  SYLVIE   \n",
       "7                          FELLER  MICHEL   \n",
       "8                         BREZIN  ANTOINE   \n",
       "9                    SULMAN  JEAN JACQUES   \n",
       "10                     CHASSIGNOL  ALEXIS   \n",
       "11  CTRE SANTE MEDICAL DENTAIRE TISSERAND   \n",
       "12                      THAN TRONG  THONG   \n",
       "13                        MAGNANI  MATTEO   \n",
       "14                   WERTHEL  ANDREE LUCE   \n",
       "15                        DRYLEWICZ  JOEL   \n",
       "16                      BOUMENDIL  JULIEN   \n",
       "17                        SARFATI  ADRIEN   \n",
       "18                    GIRARD DECIS  ANAIS   \n",
       "19                         KELLER  PIERRE   \n",
       "20                          KRETZ  GILLES   \n",
       "21                    MEYER  MARIE CLAUDE   \n",
       "22                          PUECH  MICHEL   \n",
       "23                       TAZARTES  MICHEL   \n",
       "24                      MONNET  DOMINIQUE   \n",
       "25                    PIETRINI  DOMINIQUE   \n",
       "\n",
       "                                              Adresse          Téléphone  \\\n",
       "0                   228 BOULEVARD RASPAIL 75014 PARIS     01 43 22 42 33   \n",
       "1                   22 RUE ERNEST CRESSON 75014 PARIS     01 45 41 73 63   \n",
       "2                95 AVENUE DU GAL LECLERC 75014 PARIS  Honoraires libres   \n",
       "3   SELARL CHASSIGNOL VAN WENT 79 AVENUE DU GENERA...  Honoraires libres   \n",
       "4                         29 RUE D ALESIA 75014 PARIS     01 43 35 31 48   \n",
       "5   CLINIQUE STE GENEVIEVE 29 RUE SARRETTE 75014 P...  Honoraires libres   \n",
       "6              12 RUE DE LA TOMBE ISSOIRE 75014 PARIS     01 45 65 04 24   \n",
       "7              118 BOULEVARD MONTPARNASSE 75014 PARIS     01 43 35 08 28   \n",
       "8   HOPITAL COCHIN 27 RUE DU FBG SAINT JACQUES 750...     01 58 41 22 00   \n",
       "9                      90 AVENUE DU MAINE 75014 PARIS     01 40 47 00 00   \n",
       "10  SELARL CHASSIGNOL VAN WENT 79 AVENUE DU GENERA...     01 43 27 10 69   \n",
       "11  CTRE SANTE MEDICAL DENTAIRE TISSERAND C A S VI...               None   \n",
       "12                        10 RUE DAGUERRE 75014 PARIS     01 43 35 41 03   \n",
       "13                       29 RUE SARRETTE. 75014 PARIS  Honoraires libres   \n",
       "14                    24 AVENUE VILLEMAIN 75014 PARIS     01 45 42 75 74   \n",
       "15                     87 RUE DE GERGOVIE 75014 PARIS     01 45 45 32 12   \n",
       "16          142 BOULEVARD DU MONTPARNASSE 75014 PARIS     01 43 20 91 75   \n",
       "17                        10 RUE DAGUERRE 75014 PARIS     01 43 35 41 03   \n",
       "18                  244 BOULEVARD RASPAIL 75014 PARIS  Honoraires libres   \n",
       "19               3 RUE VICTOR CONSIDERANT 75014 PARIS     01 43 35 43 33   \n",
       "20                    150 RUE R LOSSERAND 75014 PARIS     01 40 44 65 30   \n",
       "21                  29 BOULEVARD E.QUINET 75014 PARIS     01 43 20 62 55   \n",
       "22  SELARL DU DR MICHEL PUECH 7 RUE BOISSONADE 750...  Honoraires libres   \n",
       "23          142 BOULEVARD DU MONTPARNASSE 75014 PARIS     01 43 20 91 75   \n",
       "24  HOPITAL COCHIN 27 RUE DU FBG SAINT JACQUES 750...     01 58 41 21 91   \n",
       "25          SARL SARRETTE 29 RUE SARRETTE 75014 PARIS     01 56 53 58 58   \n",
       "\n",
       "                     Honoraires              Convention  \n",
       "0             Honoraires libres  Conventionné secteur 2  \n",
       "1             Honoraires libres  Conventionné secteur 2  \n",
       "2        Conventionné secteur 2                    None  \n",
       "3        Conventionné secteur 2                    None  \n",
       "4             Honoraires libres  Conventionné secteur 2  \n",
       "5        Conventionné secteur 2                    None  \n",
       "6             Honoraires libres  Conventionné secteur 2  \n",
       "7             Honoraires libres  Conventionné secteur 2  \n",
       "8             Honoraires libres  Conventionné secteur 2  \n",
       "9             Honoraires libres  Conventionné secteur 2  \n",
       "10            Honoraires libres  Conventionné secteur 2  \n",
       "11                         None                    None  \n",
       "12            Honoraires libres  Conventionné secteur 2  \n",
       "13       Conventionné secteur 2                    None  \n",
       "14            Honoraires libres  Conventionné secteur 2  \n",
       "15  Honoraires sans dépassement  Conventionné secteur 1  \n",
       "16            Honoraires libres  Conventionné secteur 2  \n",
       "17            Honoraires libres  Conventionné secteur 2  \n",
       "18       Conventionné secteur 2                    None  \n",
       "19            Honoraires libres  Conventionné secteur 2  \n",
       "20            Honoraires libres  Conventionné secteur 2  \n",
       "21            Honoraires libres  Conventionné secteur 2  \n",
       "22       Conventionné secteur 2                    None  \n",
       "23            Honoraires libres  Conventionné secteur 2  \n",
       "24            Honoraires libres  Conventionné secteur 2  \n",
       "25            Honoraires libres  Conventionné secteur 2  "
      ]
     },
     "execution_count": 241,
     "metadata": {},
     "output_type": "execute_result"
    }
   ],
   "source": [
    "make_query(\"ophtalmologiste\", \"75014\")"
   ]
  },
  {
   "cell_type": "code",
   "execution_count": 242,
   "metadata": {
    "collapsed": false
   },
   "outputs": [
    {
     "data": {
      "text/html": [
       "<div style=\"max-height:1000px;max-width:1500px;overflow:auto;\">\n",
       "<table border=\"1\" class=\"dataframe\">\n",
       "  <thead>\n",
       "    <tr style=\"text-align: right;\">\n",
       "      <th></th>\n",
       "      <th>Nom</th>\n",
       "      <th>Adresse</th>\n",
       "      <th>Téléphone</th>\n",
       "      <th>Honoraires</th>\n",
       "      <th>Convention</th>\n",
       "    </tr>\n",
       "  </thead>\n",
       "  <tbody>\n",
       "    <tr>\n",
       "      <th>0 </th>\n",
       "      <td>                  MALBREL  PIERRE HENRI</td>\n",
       "      <td>                     50 AVENUE LINNE 59100 ROUBAIX</td>\n",
       "      <td>    03 20 75 82 43</td>\n",
       "      <td> Honoraires avec dépassements maîtrisés (contra...</td>\n",
       "      <td> Conventionné secteur 1 avec contrat d'accès au...</td>\n",
       "    </tr>\n",
       "    <tr>\n",
       "      <th>1 </th>\n",
       "      <td>                       GEVART  FREDERIC</td>\n",
       "      <td> SELARL DIDIER MOUTON 72 RUE DU COQ FRANCAIS 59...</td>\n",
       "      <td>    03 20 70 59 29</td>\n",
       "      <td>                                 Honoraires libres</td>\n",
       "      <td>                            Conventionné secteur 2</td>\n",
       "    </tr>\n",
       "    <tr>\n",
       "      <th>2 </th>\n",
       "      <td>                       GEVART  FREDERIC</td>\n",
       "      <td> CABINET DU DR OLIVIER LAFFINEUR 72 RUE DU COQ ...</td>\n",
       "      <td> Honoraires libres</td>\n",
       "      <td>                            Conventionné secteur 2</td>\n",
       "      <td>                                              None</td>\n",
       "    </tr>\n",
       "    <tr>\n",
       "      <th>3 </th>\n",
       "      <td>                       GEVART  FREDERIC</td>\n",
       "      <td> CABINET DU DR CHRISTIAN DOUCET 72 RUE DU COQ F...</td>\n",
       "      <td> Honoraires libres</td>\n",
       "      <td>                            Conventionné secteur 2</td>\n",
       "      <td>                                              None</td>\n",
       "    </tr>\n",
       "    <tr>\n",
       "      <th>4 </th>\n",
       "      <td>                       GEVART  FREDERIC</td>\n",
       "      <td> CABINE DU DR CELINE KARKOUTLY PARC DES 7 LIEUE...</td>\n",
       "      <td> Honoraires libres</td>\n",
       "      <td>                            Conventionné secteur 2</td>\n",
       "      <td>                                              None</td>\n",
       "    </tr>\n",
       "    <tr>\n",
       "      <th>5 </th>\n",
       "      <td>               KARKOUTLY REZVOY  CELINE</td>\n",
       "      <td> CABINET DU DR CELINE KARKOUTLY PARC DES 7 LIEU...</td>\n",
       "      <td>    03 20 70 59 29</td>\n",
       "      <td>                                 Honoraires libres</td>\n",
       "      <td>                            Conventionné secteur 2</td>\n",
       "    </tr>\n",
       "    <tr>\n",
       "      <th>6 </th>\n",
       "      <td>                     LAFFINEUR  OLIVIER</td>\n",
       "      <td> CABINET DU DR OLIVIER LAFFINEUR 72 RUE DU COQ ...</td>\n",
       "      <td>    03 20 70 59 29</td>\n",
       "      <td>                       Honoraires sans dépassement</td>\n",
       "      <td>                            Conventionné secteur 1</td>\n",
       "    </tr>\n",
       "    <tr>\n",
       "      <th>7 </th>\n",
       "      <td>                         MOUTON  DIDIER</td>\n",
       "      <td> SELARL DIDIER MOUTON 72 RUE DU COQ FRANCAIS 59...</td>\n",
       "      <td>    03 20 70 59 29</td>\n",
       "      <td>                                 Honoraires libres</td>\n",
       "      <td>                            Conventionné secteur 2</td>\n",
       "    </tr>\n",
       "    <tr>\n",
       "      <th>8 </th>\n",
       "      <td> CAB MEDICAL OPHTALMOLOGIQUE MUTUALISTE</td>\n",
       "      <td> CAB MEDICAL OPHTALMOLOGIQUE MUTUALISTE 30 BVD ...</td>\n",
       "      <td>              None</td>\n",
       "      <td>                                              None</td>\n",
       "      <td>                                              None</td>\n",
       "    </tr>\n",
       "    <tr>\n",
       "      <th>9 </th>\n",
       "      <td>                      DOUCET  CHRISTIAN</td>\n",
       "      <td> CABINET DU DR CHRISTIAN DOUCET 72 RUE DU COQ F...</td>\n",
       "      <td>    03 20 70 59 29</td>\n",
       "      <td>                                 Honoraires libres</td>\n",
       "      <td>                            Conventionné secteur 2</td>\n",
       "    </tr>\n",
       "    <tr>\n",
       "      <th>10</th>\n",
       "      <td>                    LENTINI  FERDINANDO</td>\n",
       "      <td> CABINETDU DR FERDINANDO LENTINI ENTREE A 19 RU...</td>\n",
       "      <td>    03 20 94 80 59</td>\n",
       "      <td> Honoraires avec dépassements maîtrisés (contra...</td>\n",
       "      <td> Conventionné secteur 2 avec contrat d'accès au...</td>\n",
       "    </tr>\n",
       "  </tbody>\n",
       "</table>\n",
       "</div>"
      ],
      "text/plain": [
       "                                       Nom  \\\n",
       "0                    MALBREL  PIERRE HENRI   \n",
       "1                         GEVART  FREDERIC   \n",
       "2                         GEVART  FREDERIC   \n",
       "3                         GEVART  FREDERIC   \n",
       "4                         GEVART  FREDERIC   \n",
       "5                 KARKOUTLY REZVOY  CELINE   \n",
       "6                       LAFFINEUR  OLIVIER   \n",
       "7                           MOUTON  DIDIER   \n",
       "8   CAB MEDICAL OPHTALMOLOGIQUE MUTUALISTE   \n",
       "9                        DOUCET  CHRISTIAN   \n",
       "10                     LENTINI  FERDINANDO   \n",
       "\n",
       "                                              Adresse          Téléphone  \\\n",
       "0                       50 AVENUE LINNE 59100 ROUBAIX     03 20 75 82 43   \n",
       "1   SELARL DIDIER MOUTON 72 RUE DU COQ FRANCAIS 59...     03 20 70 59 29   \n",
       "2   CABINET DU DR OLIVIER LAFFINEUR 72 RUE DU COQ ...  Honoraires libres   \n",
       "3   CABINET DU DR CHRISTIAN DOUCET 72 RUE DU COQ F...  Honoraires libres   \n",
       "4   CABINE DU DR CELINE KARKOUTLY PARC DES 7 LIEUE...  Honoraires libres   \n",
       "5   CABINET DU DR CELINE KARKOUTLY PARC DES 7 LIEU...     03 20 70 59 29   \n",
       "6   CABINET DU DR OLIVIER LAFFINEUR 72 RUE DU COQ ...     03 20 70 59 29   \n",
       "7   SELARL DIDIER MOUTON 72 RUE DU COQ FRANCAIS 59...     03 20 70 59 29   \n",
       "8   CAB MEDICAL OPHTALMOLOGIQUE MUTUALISTE 30 BVD ...               None   \n",
       "9   CABINET DU DR CHRISTIAN DOUCET 72 RUE DU COQ F...     03 20 70 59 29   \n",
       "10  CABINETDU DR FERDINANDO LENTINI ENTREE A 19 RU...     03 20 94 80 59   \n",
       "\n",
       "                                           Honoraires  \\\n",
       "0   Honoraires avec dépassements maîtrisés (contra...   \n",
       "1                                   Honoraires libres   \n",
       "2                              Conventionné secteur 2   \n",
       "3                              Conventionné secteur 2   \n",
       "4                              Conventionné secteur 2   \n",
       "5                                   Honoraires libres   \n",
       "6                         Honoraires sans dépassement   \n",
       "7                                   Honoraires libres   \n",
       "8                                                None   \n",
       "9                                   Honoraires libres   \n",
       "10  Honoraires avec dépassements maîtrisés (contra...   \n",
       "\n",
       "                                           Convention  \n",
       "0   Conventionné secteur 1 avec contrat d'accès au...  \n",
       "1                              Conventionné secteur 2  \n",
       "2                                                None  \n",
       "3                                                None  \n",
       "4                                                None  \n",
       "5                              Conventionné secteur 2  \n",
       "6                              Conventionné secteur 1  \n",
       "7                              Conventionné secteur 2  \n",
       "8                                                None  \n",
       "9                              Conventionné secteur 2  \n",
       "10  Conventionné secteur 2 avec contrat d'accès au...  "
      ]
     },
     "execution_count": 242,
     "metadata": {},
     "output_type": "execute_result"
    }
   ],
   "source": [
    "make_query(\"ophtalmologiste\", \"59100\")"
   ]
  },
  {
   "cell_type": "markdown",
   "metadata": {},
   "source": [
    "# Little study: where are Paris ophtalmologists located? "
   ]
  },
  {
   "cell_type": "code",
   "execution_count": 208,
   "metadata": {
    "collapsed": true
   },
   "outputs": [],
   "source": [
    "ophtalmologists = {}\n",
    "for arrondissement in range(1, 21):\n",
    "    arr_string = '75' + format(arrondissement, '03') \n",
    "    ophtalmologists[arr_string] = make_query(\"ophtalmologiste\", arr_string)"
   ]
  },
  {
   "cell_type": "markdown",
   "metadata": {},
   "source": [
    "Let's now make some plots!"
   ]
  },
  {
   "cell_type": "code",
   "execution_count": 216,
   "metadata": {
    "collapsed": true
   },
   "outputs": [],
   "source": [
    "import numpy as np\n",
    "import matplotlib.pyplot as plt\n",
    "%matplotlib inline"
   ]
  },
  {
   "cell_type": "code",
   "execution_count": 212,
   "metadata": {
    "collapsed": false
   },
   "outputs": [
    {
     "data": {
      "text/plain": [
       "12"
      ]
     },
     "execution_count": 212,
     "metadata": {},
     "output_type": "execute_result"
    }
   ],
   "source": [
    "ophtalmologists['75001'].shape[0]"
   ]
  },
  {
   "cell_type": "code",
   "execution_count": 220,
   "metadata": {
    "collapsed": true
   },
   "outputs": [],
   "source": [
    "n = [ophtalmologists['75' + format(arrondissement, '03')].shape[0] for arrondissement in range(1, 21)]\n",
    "xticks = ['75' + format(arrondissement, '03') for arrondissement in range(1, 21)]"
   ]
  },
  {
   "cell_type": "code",
   "execution_count": 214,
   "metadata": {
    "collapsed": false
   },
   "outputs": [
    {
     "data": {
      "text/plain": [
       "[12, 7, 5, 11, 25, 33, 39, 40, 22, 6, 23, 37, 22, 26, 48, 53, 33, 11, 23, 11]"
      ]
     },
     "execution_count": 214,
     "metadata": {},
     "output_type": "execute_result"
    }
   ],
   "source": [
    "n"
   ]
  },
  {
   "cell_type": "code",
   "execution_count": 221,
   "metadata": {
    "collapsed": false
   },
   "outputs": [
    {
     "data": {
      "text/plain": [
       "['75001',\n",
       " '75002',\n",
       " '75003',\n",
       " '75004',\n",
       " '75005',\n",
       " '75006',\n",
       " '75007',\n",
       " '75008',\n",
       " '75009',\n",
       " '75010',\n",
       " '75011',\n",
       " '75012',\n",
       " '75013',\n",
       " '75014',\n",
       " '75015',\n",
       " '75016',\n",
       " '75017',\n",
       " '75018',\n",
       " '75019',\n",
       " '75020']"
      ]
     },
     "execution_count": 221,
     "metadata": {},
     "output_type": "execute_result"
    }
   ],
   "source": [
    "xticks"
   ]
  },
  {
   "cell_type": "code",
   "execution_count": 226,
   "metadata": {
    "collapsed": false
   },
   "outputs": [
    {
     "data": {
      "text/plain": [
       "<matplotlib.text.Text at 0xece5b00>"
      ]
     },
     "execution_count": 226,
     "metadata": {},
     "output_type": "execute_result"
    },
    {
     "data": {
      "image/png": "[encoded data removed]",
      "text/plain": [
       "<matplotlib.figure.Figure at 0xeb705c0>"
      ]
     },
     "metadata": {},
     "output_type": "display_data"
    }
   ],
   "source": [
    "plt.bar(np.arange(len(n)), n)\n",
    "plt.xticks(np.arange(len(n)) + 0.5, xticks, rotation=90)\n",
    "plt.title(\"number of ophtalmologists by arrondissement in Paris\")"
   ]
  },
  {
   "cell_type": "markdown",
   "metadata": {},
   "source": [
    "# Extracting ophtalmologists for given cities "
   ]
  },
  {
   "cell_type": "code",
   "execution_count": 228,
   "metadata": {
    "collapsed": true
   },
   "outputs": [],
   "source": [
    "communes = [\"59910\", \"59166\", \"59560\", \"59170\", \"59510\", \"59250\", \"59510\", \"59390\", \"59115\", \n",
    "            \"59126\", \"59390\", \"59420\", \"59960\", \"59223\", \"59100\", \"59390\", \"59390\", \"59200\", \n",
    "            \"59290\", \"59150\", \"59117\", \"59780\"]"
   ]
  },
  {
   "cell_type": "code",
   "execution_count": 230,
   "metadata": {
    "collapsed": false
   },
   "outputs": [],
   "source": [
    "df = pd.DataFrame([extract_information(doc) for doc in doctors], columns=['Nom', u'Adresse', u\"Téléphone\", u\"Honoraires\", \"Convention\"])"
   ]
  },
  {
   "cell_type": "code",
   "execution_count": 232,
   "metadata": {
    "collapsed": true
   },
   "outputs": [],
   "source": [
    "df['Commune'] = pd.Series(['51111'] * df.shape[0] , index=df.index)"
   ]
  },
  {
   "cell_type": "code",
   "execution_count": 233,
   "metadata": {
    "collapsed": false
   },
   "outputs": [
    {
     "data": {
      "text/html": [
       "<div style=\"max-height:1000px;max-width:1500px;overflow:auto;\">\n",
       "<table border=\"1\" class=\"dataframe\">\n",
       "  <thead>\n",
       "    <tr style=\"text-align: right;\">\n",
       "      <th></th>\n",
       "      <th>Nom</th>\n",
       "      <th>Adresse</th>\n",
       "      <th>Téléphone</th>\n",
       "      <th>Honoraires</th>\n",
       "      <th>Convention</th>\n",
       "      <th>Commune</th>\n",
       "    </tr>\n",
       "  </thead>\n",
       "  <tbody>\n",
       "    <tr>\n",
       "      <th>0</th>\n",
       "      <td>     DRYLEWICZ  JOEL</td>\n",
       "      <td>                    87 RUE DE GERGOVIE 75014 PARIS</td>\n",
       "      <td> 01 45 45 32 12</td>\n",
       "      <td> Honoraires sans dépassement</td>\n",
       "      <td> Conventionné secteur 1</td>\n",
       "      <td> 51111</td>\n",
       "    </tr>\n",
       "    <tr>\n",
       "      <th>1</th>\n",
       "      <td>   BOUMENDIL  JULIEN</td>\n",
       "      <td>         142 BOULEVARD DU MONTPARNASSE 75014 PARIS</td>\n",
       "      <td> 01 43 20 91 75</td>\n",
       "      <td>           Honoraires libres</td>\n",
       "      <td> Conventionné secteur 2</td>\n",
       "      <td> 51111</td>\n",
       "    </tr>\n",
       "    <tr>\n",
       "      <th>2</th>\n",
       "      <td>     SARFATI  ADRIEN</td>\n",
       "      <td>                       10 RUE DAGUERRE 75014 PARIS</td>\n",
       "      <td> 01 43 35 41 03</td>\n",
       "      <td>           Honoraires libres</td>\n",
       "      <td> Conventionné secteur 2</td>\n",
       "      <td> 51111</td>\n",
       "    </tr>\n",
       "    <tr>\n",
       "      <th>3</th>\n",
       "      <td> PIETRINI  DOMINIQUE</td>\n",
       "      <td>         SARL SARRETTE 29 RUE SARRETTE 75014 PARIS</td>\n",
       "      <td> 01 56 53 58 58</td>\n",
       "      <td>           Honoraires libres</td>\n",
       "      <td> Conventionné secteur 2</td>\n",
       "      <td> 51111</td>\n",
       "    </tr>\n",
       "    <tr>\n",
       "      <th>4</th>\n",
       "      <td>    TAZARTES  MICHEL</td>\n",
       "      <td>         142 BOULEVARD DU MONTPARNASSE 75014 PARIS</td>\n",
       "      <td> 01 43 20 91 75</td>\n",
       "      <td>           Honoraires libres</td>\n",
       "      <td> Conventionné secteur 2</td>\n",
       "      <td> 51111</td>\n",
       "    </tr>\n",
       "    <tr>\n",
       "      <th>5</th>\n",
       "      <td>   MONNET  DOMINIQUE</td>\n",
       "      <td> HOPITAL COCHIN 27 RUE DU FBG SAINT JACQUES 750...</td>\n",
       "      <td> 01 58 41 21 91</td>\n",
       "      <td>           Honoraires libres</td>\n",
       "      <td> Conventionné secteur 2</td>\n",
       "      <td> 51111</td>\n",
       "    </tr>\n",
       "  </tbody>\n",
       "</table>\n",
       "</div>"
      ],
      "text/plain": [
       "                   Nom                                            Adresse  \\\n",
       "0      DRYLEWICZ  JOEL                     87 RUE DE GERGOVIE 75014 PARIS   \n",
       "1    BOUMENDIL  JULIEN          142 BOULEVARD DU MONTPARNASSE 75014 PARIS   \n",
       "2      SARFATI  ADRIEN                        10 RUE DAGUERRE 75014 PARIS   \n",
       "3  PIETRINI  DOMINIQUE          SARL SARRETTE 29 RUE SARRETTE 75014 PARIS   \n",
       "4     TAZARTES  MICHEL          142 BOULEVARD DU MONTPARNASSE 75014 PARIS   \n",
       "5    MONNET  DOMINIQUE  HOPITAL COCHIN 27 RUE DU FBG SAINT JACQUES 750...   \n",
       "\n",
       "        Téléphone                   Honoraires              Convention Commune  \n",
       "0  01 45 45 32 12  Honoraires sans dépassement  Conventionné secteur 1   51111  \n",
       "1  01 43 20 91 75            Honoraires libres  Conventionné secteur 2   51111  \n",
       "2  01 43 35 41 03            Honoraires libres  Conventionné secteur 2   51111  \n",
       "3  01 56 53 58 58            Honoraires libres  Conventionné secteur 2   51111  \n",
       "4  01 43 20 91 75            Honoraires libres  Conventionné secteur 2   51111  \n",
       "5  01 58 41 21 91            Honoraires libres  Conventionné secteur 2   51111  "
      ]
     },
     "execution_count": 233,
     "metadata": {},
     "output_type": "execute_result"
    }
   ],
   "source": [
    "df"
   ]
  },
  {
   "cell_type": "code",
   "execution_count": 245,
   "metadata": {
    "collapsed": false
   },
   "outputs": [],
   "source": [
    "dfs = []\n",
    "for city in communes:\n",
    "    df = make_query(\"ophtalmologiste\", city)\n",
    "    if df is not None:\n",
    "        df['Commune'] = pd.Series([city] * df.shape[0] , index=df.index)\n",
    "        dfs.append(df)"
   ]
  },
  {
   "cell_type": "code",
   "execution_count": 254,
   "metadata": {
    "collapsed": false
   },
   "outputs": [
    {
     "data": {
      "text/html": [
       "<div style=\"max-height:1000px;max-width:1500px;overflow:auto;\">\n",
       "<table border=\"1\" class=\"dataframe\">\n",
       "  <thead>\n",
       "    <tr style=\"text-align: right;\">\n",
       "      <th></th>\n",
       "      <th>Nom</th>\n",
       "      <th>Adresse</th>\n",
       "      <th>Téléphone</th>\n",
       "      <th>Honoraires</th>\n",
       "      <th>Convention</th>\n",
       "    </tr>\n",
       "    <tr>\n",
       "      <th>Commune</th>\n",
       "      <th></th>\n",
       "      <th></th>\n",
       "      <th></th>\n",
       "      <th></th>\n",
       "      <th></th>\n",
       "    </tr>\n",
       "  </thead>\n",
       "  <tbody>\n",
       "    <tr>\n",
       "      <th>59170</th>\n",
       "      <td>               DRUMARE BOUVET  ISABELLE</td>\n",
       "      <td> CABINET DU DR ISABELLE DRUMARE BOUVET 6 RUE HE...</td>\n",
       "      <td>                                    03 20 98 26 14</td>\n",
       "      <td> Honoraires avec dépassements maîtrisés (contra...</td>\n",
       "      <td> Conventionné secteur 1 avec contrat d'accès au...</td>\n",
       "    </tr>\n",
       "    <tr>\n",
       "      <th>59170</th>\n",
       "      <td>                   DUMORTIER  DOMINIQUE</td>\n",
       "      <td> CABINET DU DR DOMINIQUE MARTIN 6 RUE HENRI GHE...</td>\n",
       "      <td>                                    03 20 98 26 14</td>\n",
       "      <td>                       Honoraires sans dépassement</td>\n",
       "      <td>                            Conventionné secteur 1</td>\n",
       "    </tr>\n",
       "    <tr>\n",
       "      <th>59170</th>\n",
       "      <td>                       GUILLEMOT  ODILE</td>\n",
       "      <td> CABINET DU DR ODILE GUILLEMOT BOUTET 6 RUE HEN...</td>\n",
       "      <td>                                    03 20 98 26 14</td>\n",
       "      <td>                       Honoraires sans dépassement</td>\n",
       "      <td>                            Conventionné secteur 1</td>\n",
       "    </tr>\n",
       "    <tr>\n",
       "      <th>59170</th>\n",
       "      <td>               KARKOUTLY REZVOY  CELINE</td>\n",
       "      <td> CLINIQUE DU PARC CROIX CLINIQUE DU PARC 34 AVE...</td>\n",
       "      <td>                                    03 20 99 41 41</td>\n",
       "      <td>                                 Honoraires libres</td>\n",
       "      <td>                            Conventionné secteur 2</td>\n",
       "    </tr>\n",
       "    <tr>\n",
       "      <th>59100</th>\n",
       "      <td>                       GEVART  FREDERIC</td>\n",
       "      <td> CABINE DU DR CELINE KARKOUTLY PARC DES 7 LIEUE...</td>\n",
       "      <td>                                 Honoraires libres</td>\n",
       "      <td>                            Conventionné secteur 2</td>\n",
       "      <td>                                              None</td>\n",
       "    </tr>\n",
       "    <tr>\n",
       "      <th>59100</th>\n",
       "      <td>                       GEVART  FREDERIC</td>\n",
       "      <td> CABINET DU DR CHRISTIAN DOUCET 72 RUE DU COQ F...</td>\n",
       "      <td>                                 Honoraires libres</td>\n",
       "      <td>                            Conventionné secteur 2</td>\n",
       "      <td>                                              None</td>\n",
       "    </tr>\n",
       "    <tr>\n",
       "      <th>59100</th>\n",
       "      <td>                       GEVART  FREDERIC</td>\n",
       "      <td> CABINET DU DR OLIVIER LAFFINEUR 72 RUE DU COQ ...</td>\n",
       "      <td>                                 Honoraires libres</td>\n",
       "      <td>                            Conventionné secteur 2</td>\n",
       "      <td>                                              None</td>\n",
       "    </tr>\n",
       "    <tr>\n",
       "      <th>59100</th>\n",
       "      <td>                       GEVART  FREDERIC</td>\n",
       "      <td> SELARL DIDIER MOUTON 72 RUE DU COQ FRANCAIS 59...</td>\n",
       "      <td>                                    03 20 70 59 29</td>\n",
       "      <td>                                 Honoraires libres</td>\n",
       "      <td>                            Conventionné secteur 2</td>\n",
       "    </tr>\n",
       "    <tr>\n",
       "      <th>59100</th>\n",
       "      <td>                         MOUTON  DIDIER</td>\n",
       "      <td> SELARL DIDIER MOUTON 72 RUE DU COQ FRANCAIS 59...</td>\n",
       "      <td>                                    03 20 70 59 29</td>\n",
       "      <td>                                 Honoraires libres</td>\n",
       "      <td>                            Conventionné secteur 2</td>\n",
       "    </tr>\n",
       "    <tr>\n",
       "      <th>59100</th>\n",
       "      <td> CAB MEDICAL OPHTALMOLOGIQUE MUTUALISTE</td>\n",
       "      <td> CAB MEDICAL OPHTALMOLOGIQUE MUTUALISTE 30 BVD ...</td>\n",
       "      <td>                                              None</td>\n",
       "      <td>                                              None</td>\n",
       "      <td>                                              None</td>\n",
       "    </tr>\n",
       "    <tr>\n",
       "      <th>59100</th>\n",
       "      <td>                      DOUCET  CHRISTIAN</td>\n",
       "      <td> CABINET DU DR CHRISTIAN DOUCET 72 RUE DU COQ F...</td>\n",
       "      <td>                                    03 20 70 59 29</td>\n",
       "      <td>                                 Honoraires libres</td>\n",
       "      <td>                            Conventionné secteur 2</td>\n",
       "    </tr>\n",
       "    <tr>\n",
       "      <th>59100</th>\n",
       "      <td>                    LENTINI  FERDINANDO</td>\n",
       "      <td> CABINETDU DR FERDINANDO LENTINI ENTREE A 19 RU...</td>\n",
       "      <td>                                    03 20 94 80 59</td>\n",
       "      <td> Honoraires avec dépassements maîtrisés (contra...</td>\n",
       "      <td> Conventionné secteur 2 avec contrat d'accès au...</td>\n",
       "    </tr>\n",
       "    <tr>\n",
       "      <th>59100</th>\n",
       "      <td>                     LAFFINEUR  OLIVIER</td>\n",
       "      <td> CABINET DU DR OLIVIER LAFFINEUR 72 RUE DU COQ ...</td>\n",
       "      <td>                                    03 20 70 59 29</td>\n",
       "      <td>                       Honoraires sans dépassement</td>\n",
       "      <td>                            Conventionné secteur 1</td>\n",
       "    </tr>\n",
       "    <tr>\n",
       "      <th>59100</th>\n",
       "      <td>               KARKOUTLY REZVOY  CELINE</td>\n",
       "      <td> CABINET DU DR CELINE KARKOUTLY PARC DES 7 LIEU...</td>\n",
       "      <td>                                    03 20 70 59 29</td>\n",
       "      <td>                                 Honoraires libres</td>\n",
       "      <td>                            Conventionné secteur 2</td>\n",
       "    </tr>\n",
       "    <tr>\n",
       "      <th>59100</th>\n",
       "      <td>                  MALBREL  PIERRE HENRI</td>\n",
       "      <td>                     50 AVENUE LINNE 59100 ROUBAIX</td>\n",
       "      <td>                                    03 20 75 82 43</td>\n",
       "      <td> Honoraires avec dépassements maîtrisés (contra...</td>\n",
       "      <td> Conventionné secteur 1 avec contrat d'accès au...</td>\n",
       "    </tr>\n",
       "    <tr>\n",
       "      <th>59200</th>\n",
       "      <td>                        OUKAID  MOHAMED</td>\n",
       "      <td>             26 BOULEVARD GAMBETTA 59200 TOURCOING</td>\n",
       "      <td>                                    03 20 26 41 21</td>\n",
       "      <td>                       Honoraires sans dépassement</td>\n",
       "      <td>                            Conventionné secteur 1</td>\n",
       "    </tr>\n",
       "    <tr>\n",
       "      <th>59200</th>\n",
       "      <td>                        OUKAID  MOHAMED</td>\n",
       "      <td> CLINIQUE DE LA VICTOIRE CL.DE LA VICTOIRE 1 QU...</td>\n",
       "      <td>                       Honoraires sans dépassement</td>\n",
       "      <td>                            Conventionné secteur 1</td>\n",
       "      <td>                                              None</td>\n",
       "    </tr>\n",
       "    <tr>\n",
       "      <th>59200</th>\n",
       "      <td>                             SIX  ALAIN</td>\n",
       "      <td> CABINET DU DR ALAIN SIX ASSO.OPHTALMO.DU BEFFR...</td>\n",
       "      <td>                                    03 20 27 27 51</td>\n",
       "      <td> Honoraires avec dépassements maîtrisés (contra...</td>\n",
       "      <td> Conventionné secteur 2 avec contrat d'accès au...</td>\n",
       "    </tr>\n",
       "    <tr>\n",
       "      <th>59200</th>\n",
       "      <td>                             SIX  ALAIN</td>\n",
       "      <td> CLINIQUE DE LA VICTOIRE CLINIQUE DE LA VICTOIR...</td>\n",
       "      <td> Honoraires avec dépassements maîtrisés (contra...</td>\n",
       "      <td> Conventionné secteur 2 avec contrat d'accès au...</td>\n",
       "      <td>                                              None</td>\n",
       "    </tr>\n",
       "    <tr>\n",
       "      <th>59200</th>\n",
       "      <td>             BADGUERAHANIAN  CHRISTOPHE</td>\n",
       "      <td>             26 BOULEVARD GAMBETTA 59200 TOURCOING</td>\n",
       "      <td>                                    03 20 26 41 21</td>\n",
       "      <td>                       Honoraires sans dépassement</td>\n",
       "      <td>                            Conventionné secteur 1</td>\n",
       "    </tr>\n",
       "    <tr>\n",
       "      <th>59200</th>\n",
       "      <td>                        PAYEN  PHILIPPE</td>\n",
       "      <td> CABINET DU DR PHILIPPE PAYEN ASS.OPHTALMO.DU B...</td>\n",
       "      <td>                                    03 20 27 27 51</td>\n",
       "      <td> Honoraires avec dépassements maîtrisés (contra...</td>\n",
       "      <td> Conventionné secteur 2 avec contrat d'accès au...</td>\n",
       "    </tr>\n",
       "    <tr>\n",
       "      <th>59200</th>\n",
       "      <td>                       COLLIN  FLORENCE</td>\n",
       "      <td> CLINIQUE DE LA VICTOIRE 1 QUAI DU HAVRE 59200 ...</td>\n",
       "      <td>                                 Honoraires libres</td>\n",
       "      <td>                            Conventionné secteur 2</td>\n",
       "      <td>                                              None</td>\n",
       "    </tr>\n",
       "    <tr>\n",
       "      <th>59200</th>\n",
       "      <td>                       COLLIN  FLORENCE</td>\n",
       "      <td> CABINET DU DR FLORENCE COLLIN ASSO.OPHTALMO.DU...</td>\n",
       "      <td>                                    03 20 27 27 51</td>\n",
       "      <td>                                 Honoraires libres</td>\n",
       "      <td>                            Conventionné secteur 2</td>\n",
       "    </tr>\n",
       "    <tr>\n",
       "      <th>59200</th>\n",
       "      <td>                        PICQUE  PATRICK</td>\n",
       "      <td> CABINET DU DR PATRICK PICQUE ASS.OPTHALMO.DU B...</td>\n",
       "      <td>                                    03 20 27 27 51</td>\n",
       "      <td> Honoraires avec dépassements maîtrisés (contra...</td>\n",
       "      <td> Conventionné secteur 2 avec contrat d'accès au...</td>\n",
       "    </tr>\n",
       "    <tr>\n",
       "      <th>59200</th>\n",
       "      <td>                      DE BEER  FRANCOIS</td>\n",
       "      <td> CABINET DU DR FRANCOIS DE BEER ASSO.OPHTALMO.D...</td>\n",
       "      <td>                                    03 20 27 27 51</td>\n",
       "      <td>                       Honoraires sans dépassement</td>\n",
       "      <td>                            Conventionné secteur 1</td>\n",
       "    </tr>\n",
       "  </tbody>\n",
       "</table>\n",
       "</div>"
      ],
      "text/plain": [
       "                                            Nom  \\\n",
       "Commune                                           \n",
       "59170                  DRUMARE BOUVET  ISABELLE   \n",
       "59170                      DUMORTIER  DOMINIQUE   \n",
       "59170                          GUILLEMOT  ODILE   \n",
       "59170                  KARKOUTLY REZVOY  CELINE   \n",
       "59100                          GEVART  FREDERIC   \n",
       "59100                          GEVART  FREDERIC   \n",
       "59100                          GEVART  FREDERIC   \n",
       "59100                          GEVART  FREDERIC   \n",
       "59100                            MOUTON  DIDIER   \n",
       "59100    CAB MEDICAL OPHTALMOLOGIQUE MUTUALISTE   \n",
       "59100                         DOUCET  CHRISTIAN   \n",
       "59100                       LENTINI  FERDINANDO   \n",
       "59100                        LAFFINEUR  OLIVIER   \n",
       "59100                  KARKOUTLY REZVOY  CELINE   \n",
       "59100                     MALBREL  PIERRE HENRI   \n",
       "59200                           OUKAID  MOHAMED   \n",
       "59200                           OUKAID  MOHAMED   \n",
       "59200                                SIX  ALAIN   \n",
       "59200                                SIX  ALAIN   \n",
       "59200                BADGUERAHANIAN  CHRISTOPHE   \n",
       "59200                           PAYEN  PHILIPPE   \n",
       "59200                          COLLIN  FLORENCE   \n",
       "59200                          COLLIN  FLORENCE   \n",
       "59200                           PICQUE  PATRICK   \n",
       "59200                         DE BEER  FRANCOIS   \n",
       "\n",
       "                                                   Adresse  \\\n",
       "Commune                                                      \n",
       "59170    CABINET DU DR ISABELLE DRUMARE BOUVET 6 RUE HE...   \n",
       "59170    CABINET DU DR DOMINIQUE MARTIN 6 RUE HENRI GHE...   \n",
       "59170    CABINET DU DR ODILE GUILLEMOT BOUTET 6 RUE HEN...   \n",
       "59170    CLINIQUE DU PARC CROIX CLINIQUE DU PARC 34 AVE...   \n",
       "59100    CABINE DU DR CELINE KARKOUTLY PARC DES 7 LIEUE...   \n",
       "59100    CABINET DU DR CHRISTIAN DOUCET 72 RUE DU COQ F...   \n",
       "59100    CABINET DU DR OLIVIER LAFFINEUR 72 RUE DU COQ ...   \n",
       "59100    SELARL DIDIER MOUTON 72 RUE DU COQ FRANCAIS 59...   \n",
       "59100    SELARL DIDIER MOUTON 72 RUE DU COQ FRANCAIS 59...   \n",
       "59100    CAB MEDICAL OPHTALMOLOGIQUE MUTUALISTE 30 BVD ...   \n",
       "59100    CABINET DU DR CHRISTIAN DOUCET 72 RUE DU COQ F...   \n",
       "59100    CABINETDU DR FERDINANDO LENTINI ENTREE A 19 RU...   \n",
       "59100    CABINET DU DR OLIVIER LAFFINEUR 72 RUE DU COQ ...   \n",
       "59100    CABINET DU DR CELINE KARKOUTLY PARC DES 7 LIEU...   \n",
       "59100                        50 AVENUE LINNE 59100 ROUBAIX   \n",
       "59200                26 BOULEVARD GAMBETTA 59200 TOURCOING   \n",
       "59200    CLINIQUE DE LA VICTOIRE CL.DE LA VICTOIRE 1 QU...   \n",
       "59200    CABINET DU DR ALAIN SIX ASSO.OPHTALMO.DU BEFFR...   \n",
       "59200    CLINIQUE DE LA VICTOIRE CLINIQUE DE LA VICTOIR...   \n",
       "59200                26 BOULEVARD GAMBETTA 59200 TOURCOING   \n",
       "59200    CABINET DU DR PHILIPPE PAYEN ASS.OPHTALMO.DU B...   \n",
       "59200    CLINIQUE DE LA VICTOIRE 1 QUAI DU HAVRE 59200 ...   \n",
       "59200    CABINET DU DR FLORENCE COLLIN ASSO.OPHTALMO.DU...   \n",
       "59200    CABINET DU DR PATRICK PICQUE ASS.OPTHALMO.DU B...   \n",
       "59200    CABINET DU DR FRANCOIS DE BEER ASSO.OPHTALMO.D...   \n",
       "\n",
       "                                                 Téléphone  \\\n",
       "Commune                                                      \n",
       "59170                                       03 20 98 26 14   \n",
       "59170                                       03 20 98 26 14   \n",
       "59170                                       03 20 98 26 14   \n",
       "59170                                       03 20 99 41 41   \n",
       "59100                                    Honoraires libres   \n",
       "59100                                    Honoraires libres   \n",
       "59100                                    Honoraires libres   \n",
       "59100                                       03 20 70 59 29   \n",
       "59100                                       03 20 70 59 29   \n",
       "59100                                                 None   \n",
       "59100                                       03 20 70 59 29   \n",
       "59100                                       03 20 94 80 59   \n",
       "59100                                       03 20 70 59 29   \n",
       "59100                                       03 20 70 59 29   \n",
       "59100                                       03 20 75 82 43   \n",
       "59200                                       03 20 26 41 21   \n",
       "59200                          Honoraires sans dépassement   \n",
       "59200                                       03 20 27 27 51   \n",
       "59200    Honoraires avec dépassements maîtrisés (contra...   \n",
       "59200                                       03 20 26 41 21   \n",
       "59200                                       03 20 27 27 51   \n",
       "59200                                    Honoraires libres   \n",
       "59200                                       03 20 27 27 51   \n",
       "59200                                       03 20 27 27 51   \n",
       "59200                                       03 20 27 27 51   \n",
       "\n",
       "                                                Honoraires  \\\n",
       "Commune                                                      \n",
       "59170    Honoraires avec dépassements maîtrisés (contra...   \n",
       "59170                          Honoraires sans dépassement   \n",
       "59170                          Honoraires sans dépassement   \n",
       "59170                                    Honoraires libres   \n",
       "59100                               Conventionné secteur 2   \n",
       "59100                               Conventionné secteur 2   \n",
       "59100                               Conventionné secteur 2   \n",
       "59100                                    Honoraires libres   \n",
       "59100                                    Honoraires libres   \n",
       "59100                                                 None   \n",
       "59100                                    Honoraires libres   \n",
       "59100    Honoraires avec dépassements maîtrisés (contra...   \n",
       "59100                          Honoraires sans dépassement   \n",
       "59100                                    Honoraires libres   \n",
       "59100    Honoraires avec dépassements maîtrisés (contra...   \n",
       "59200                          Honoraires sans dépassement   \n",
       "59200                               Conventionné secteur 1   \n",
       "59200    Honoraires avec dépassements maîtrisés (contra...   \n",
       "59200    Conventionné secteur 2 avec contrat d'accès au...   \n",
       "59200                          Honoraires sans dépassement   \n",
       "59200    Honoraires avec dépassements maîtrisés (contra...   \n",
       "59200                               Conventionné secteur 2   \n",
       "59200                                    Honoraires libres   \n",
       "59200    Honoraires avec dépassements maîtrisés (contra...   \n",
       "59200                          Honoraires sans dépassement   \n",
       "\n",
       "                                                Convention  \n",
       "Commune                                                     \n",
       "59170    Conventionné secteur 1 avec contrat d'accès au...  \n",
       "59170                               Conventionné secteur 1  \n",
       "59170                               Conventionné secteur 1  \n",
       "59170                               Conventionné secteur 2  \n",
       "59100                                                 None  \n",
       "59100                                                 None  \n",
       "59100                                                 None  \n",
       "59100                               Conventionné secteur 2  \n",
       "59100                               Conventionné secteur 2  \n",
       "59100                                                 None  \n",
       "59100                               Conventionné secteur 2  \n",
       "59100    Conventionné secteur 2 avec contrat d'accès au...  \n",
       "59100                               Conventionné secteur 1  \n",
       "59100                               Conventionné secteur 2  \n",
       "59100    Conventionné secteur 1 avec contrat d'accès au...  \n",
       "59200                               Conventionné secteur 1  \n",
       "59200                                                 None  \n",
       "59200    Conventionné secteur 2 avec contrat d'accès au...  \n",
       "59200                                                 None  \n",
       "59200                               Conventionné secteur 1  \n",
       "59200    Conventionné secteur 2 avec contrat d'accès au...  \n",
       "59200                                                 None  \n",
       "59200                               Conventionné secteur 2  \n",
       "59200    Conventionné secteur 2 avec contrat d'accès au...  \n",
       "59200                               Conventionné secteur 1  "
      ]
     },
     "execution_count": 254,
     "metadata": {},
     "output_type": "execute_result"
    }
   ],
   "source": [
    "df = pd.concat(dfs)\n",
    "df = df.set_index('Commune')\n",
    "df"
   ]
  },
  {
   "cell_type": "code",
   "execution_count": 255,
   "metadata": {
    "collapsed": false
   },
   "outputs": [],
   "source": [
    "df.to_csv(\"files/ophtalmologistes_59.csv\", encoding='utf-8')"
   ]
  }
 ],
 "metadata": {
  "kernelspec": {
   "display_name": "Python 2",
   "language": "python",
   "name": "python2"
  },
  "language_info": {
   "codemirror_mode": {
    "name": "ipython",
    "version": 2
   },
   "file_extension": ".py",
   "mimetype": "text/x-python",
   "name": "python",
   "nbconvert_exporter": "python",
   "pygments_lexer": "ipython2",
   "version": "2.7.8"
  }
 },
 "nbformat": 4,
 "nbformat_minor": 0
}
