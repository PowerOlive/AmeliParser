{
 "cells": [
  {
   "cell_type": "markdown",
   "metadata": {},
   "source": [
    "I came across several good resources in the last days.\n",
    "\n",
    "- the personal website of Jerôme Cukier, with lost of insight about d3js and tutorials: [http://www.jeromecukier.net](http://www.jeromecukier.net)\n",
    "- a French website with a tutorial about how to plot parts of France using GeoJSon: [http://www.ekseerg.com/index.php?page=map-firststep](http://www.ekseerg.com/index.php?page=map-firststep)\n",
    "- a Mike Bostock tutorial using hexbins on a map: [http://bl.ocks.org/mbostock/4330486](http://bl.ocks.org/mbostock/4330486). I'm thinking that I will need hexbins to plot stuff like \"how many people are in one place\" == density or \"what is the price in this area where several people offer the same thing\"\n",
    "- visualization of 311 calls using hexbins: [http://bl.ocks.org/calvinmetcalf/5669650](http://bl.ocks.org/calvinmetcalf/5669650). Looks like a great resource with exactly the focus I'm looking for: density with geography.\n",
    "- a list of examples from the d3js Github repo: [https://github.com/mbostock/d3/wiki/Gallery#maps-1](https://github.com/mbostock/d3/wiki/Gallery#maps-1)"
   ]
  }
 ],
 "metadata": {
  "kernelspec": {
   "display_name": "Python 3",
   "language": "python",
   "name": "python3"
  },
  "language_info": {
   "codemirror_mode": {
    "name": "ipython",
    "version": 3
   },
   "file_extension": ".py",
   "mimetype": "text/x-python",
   "name": "python",
   "nbconvert_exporter": "python",
   "pygments_lexer": "ipython3",
   "version": "3.4.3"
  }
 },
 "nbformat": 4,
 "nbformat_minor": 0
}
